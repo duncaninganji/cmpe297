{
  "nbformat": 4,
  "nbformat_minor": 0,
  "metadata": {
    "colab": {
      "name": "CMPE_297_Project_Question_Answering_Pipeline.ipynb",
      "provenance": [],
      "machine_shape": "hm",
      "collapsed_sections": [
        "uSuTJ3uJHJWb"
      ],
      "toc_visible": true
    },
    "kernelspec": {
      "name": "python3",
      "display_name": "Python 3"
    },
    "language_info": {
      "name": "python"
    },
    "widgets": {
      "application/vnd.jupyter.widget-state+json": {
        "ff6cb14bbdbb48708d20d8aa4360460e": {
          "model_module": "@jupyter-widgets/controls",
          "model_name": "HBoxModel",
          "model_module_version": "1.5.0",
          "state": {
            "_view_name": "HBoxView",
            "_dom_classes": [],
            "_model_name": "HBoxModel",
            "_view_module": "@jupyter-widgets/controls",
            "_model_module_version": "1.5.0",
            "_view_count": null,
            "_view_module_version": "1.5.0",
            "box_style": "",
            "layout": "IPY_MODEL_ce38ea595ffb40e38db6c06e45e9b2e9",
            "_model_module": "@jupyter-widgets/controls",
            "children": [
              "IPY_MODEL_2068c24eb42848ce82199645ed998273",
              "IPY_MODEL_40d2ae5f56ea4ddf8f6480f0ad338a72",
              "IPY_MODEL_aa09c354449f477db702a2a95fc73dc6"
            ]
          }
        },
        "ce38ea595ffb40e38db6c06e45e9b2e9": {
          "model_module": "@jupyter-widgets/base",
          "model_name": "LayoutModel",
          "model_module_version": "1.2.0",
          "state": {
            "_view_name": "LayoutView",
            "grid_template_rows": null,
            "right": null,
            "justify_content": null,
            "_view_module": "@jupyter-widgets/base",
            "overflow": null,
            "_model_module_version": "1.2.0",
            "_view_count": null,
            "flex_flow": null,
            "width": null,
            "min_width": null,
            "border": null,
            "align_items": null,
            "bottom": null,
            "_model_module": "@jupyter-widgets/base",
            "top": null,
            "grid_column": null,
            "overflow_y": null,
            "overflow_x": null,
            "grid_auto_flow": null,
            "grid_area": null,
            "grid_template_columns": null,
            "flex": null,
            "_model_name": "LayoutModel",
            "justify_items": null,
            "grid_row": null,
            "max_height": null,
            "align_content": null,
            "visibility": null,
            "align_self": null,
            "height": null,
            "min_height": null,
            "padding": null,
            "grid_auto_rows": null,
            "grid_gap": null,
            "max_width": null,
            "order": null,
            "_view_module_version": "1.2.0",
            "grid_template_areas": null,
            "object_position": null,
            "object_fit": null,
            "grid_auto_columns": null,
            "margin": null,
            "display": null,
            "left": null
          }
        },
        "2068c24eb42848ce82199645ed998273": {
          "model_module": "@jupyter-widgets/controls",
          "model_name": "HTMLModel",
          "model_module_version": "1.5.0",
          "state": {
            "_view_name": "HTMLView",
            "style": "IPY_MODEL_1a6e340244944d148a2a282899c2dc94",
            "_dom_classes": [],
            "description": "",
            "_model_name": "HTMLModel",
            "placeholder": "​",
            "_view_module": "@jupyter-widgets/controls",
            "_model_module_version": "1.5.0",
            "value": "100%",
            "_view_count": null,
            "_view_module_version": "1.5.0",
            "description_tooltip": null,
            "_model_module": "@jupyter-widgets/controls",
            "layout": "IPY_MODEL_56f73d9533ec47c189e11c90d07a9ee1"
          }
        },
        "40d2ae5f56ea4ddf8f6480f0ad338a72": {
          "model_module": "@jupyter-widgets/controls",
          "model_name": "FloatProgressModel",
          "model_module_version": "1.5.0",
          "state": {
            "_view_name": "ProgressView",
            "style": "IPY_MODEL_da8104aa06954385901ae986ea194fea",
            "_dom_classes": [],
            "description": "",
            "_model_name": "FloatProgressModel",
            "bar_style": "success",
            "max": 3,
            "_view_module": "@jupyter-widgets/controls",
            "_model_module_version": "1.5.0",
            "value": 3,
            "_view_count": null,
            "_view_module_version": "1.5.0",
            "orientation": "horizontal",
            "min": 0,
            "description_tooltip": null,
            "_model_module": "@jupyter-widgets/controls",
            "layout": "IPY_MODEL_6e05812c8e864ecb866c16ceabf8888a"
          }
        },
        "aa09c354449f477db702a2a95fc73dc6": {
          "model_module": "@jupyter-widgets/controls",
          "model_name": "HTMLModel",
          "model_module_version": "1.5.0",
          "state": {
            "_view_name": "HTMLView",
            "style": "IPY_MODEL_438f1bd727634303b8d0888b9b5cef4f",
            "_dom_classes": [],
            "description": "",
            "_model_name": "HTMLModel",
            "placeholder": "​",
            "_view_module": "@jupyter-widgets/controls",
            "_model_module_version": "1.5.0",
            "value": " 3/3 [00:00&lt;00:00, 100.29it/s]",
            "_view_count": null,
            "_view_module_version": "1.5.0",
            "description_tooltip": null,
            "_model_module": "@jupyter-widgets/controls",
            "layout": "IPY_MODEL_bb27aff946b040b2b0e32e2e10a1740f"
          }
        },
        "1a6e340244944d148a2a282899c2dc94": {
          "model_module": "@jupyter-widgets/controls",
          "model_name": "DescriptionStyleModel",
          "model_module_version": "1.5.0",
          "state": {
            "_view_name": "StyleView",
            "_model_name": "DescriptionStyleModel",
            "description_width": "",
            "_view_module": "@jupyter-widgets/base",
            "_model_module_version": "1.5.0",
            "_view_count": null,
            "_view_module_version": "1.2.0",
            "_model_module": "@jupyter-widgets/controls"
          }
        },
        "56f73d9533ec47c189e11c90d07a9ee1": {
          "model_module": "@jupyter-widgets/base",
          "model_name": "LayoutModel",
          "model_module_version": "1.2.0",
          "state": {
            "_view_name": "LayoutView",
            "grid_template_rows": null,
            "right": null,
            "justify_content": null,
            "_view_module": "@jupyter-widgets/base",
            "overflow": null,
            "_model_module_version": "1.2.0",
            "_view_count": null,
            "flex_flow": null,
            "width": null,
            "min_width": null,
            "border": null,
            "align_items": null,
            "bottom": null,
            "_model_module": "@jupyter-widgets/base",
            "top": null,
            "grid_column": null,
            "overflow_y": null,
            "overflow_x": null,
            "grid_auto_flow": null,
            "grid_area": null,
            "grid_template_columns": null,
            "flex": null,
            "_model_name": "LayoutModel",
            "justify_items": null,
            "grid_row": null,
            "max_height": null,
            "align_content": null,
            "visibility": null,
            "align_self": null,
            "height": null,
            "min_height": null,
            "padding": null,
            "grid_auto_rows": null,
            "grid_gap": null,
            "max_width": null,
            "order": null,
            "_view_module_version": "1.2.0",
            "grid_template_areas": null,
            "object_position": null,
            "object_fit": null,
            "grid_auto_columns": null,
            "margin": null,
            "display": null,
            "left": null
          }
        },
        "da8104aa06954385901ae986ea194fea": {
          "model_module": "@jupyter-widgets/controls",
          "model_name": "ProgressStyleModel",
          "model_module_version": "1.5.0",
          "state": {
            "_view_name": "StyleView",
            "_model_name": "ProgressStyleModel",
            "description_width": "",
            "_view_module": "@jupyter-widgets/base",
            "_model_module_version": "1.5.0",
            "_view_count": null,
            "_view_module_version": "1.2.0",
            "bar_color": null,
            "_model_module": "@jupyter-widgets/controls"
          }
        },
        "6e05812c8e864ecb866c16ceabf8888a": {
          "model_module": "@jupyter-widgets/base",
          "model_name": "LayoutModel",
          "model_module_version": "1.2.0",
          "state": {
            "_view_name": "LayoutView",
            "grid_template_rows": null,
            "right": null,
            "justify_content": null,
            "_view_module": "@jupyter-widgets/base",
            "overflow": null,
            "_model_module_version": "1.2.0",
            "_view_count": null,
            "flex_flow": null,
            "width": null,
            "min_width": null,
            "border": null,
            "align_items": null,
            "bottom": null,
            "_model_module": "@jupyter-widgets/base",
            "top": null,
            "grid_column": null,
            "overflow_y": null,
            "overflow_x": null,
            "grid_auto_flow": null,
            "grid_area": null,
            "grid_template_columns": null,
            "flex": null,
            "_model_name": "LayoutModel",
            "justify_items": null,
            "grid_row": null,
            "max_height": null,
            "align_content": null,
            "visibility": null,
            "align_self": null,
            "height": null,
            "min_height": null,
            "padding": null,
            "grid_auto_rows": null,
            "grid_gap": null,
            "max_width": null,
            "order": null,
            "_view_module_version": "1.2.0",
            "grid_template_areas": null,
            "object_position": null,
            "object_fit": null,
            "grid_auto_columns": null,
            "margin": null,
            "display": null,
            "left": null
          }
        },
        "438f1bd727634303b8d0888b9b5cef4f": {
          "model_module": "@jupyter-widgets/controls",
          "model_name": "DescriptionStyleModel",
          "model_module_version": "1.5.0",
          "state": {
            "_view_name": "StyleView",
            "_model_name": "DescriptionStyleModel",
            "description_width": "",
            "_view_module": "@jupyter-widgets/base",
            "_model_module_version": "1.5.0",
            "_view_count": null,
            "_view_module_version": "1.2.0",
            "_model_module": "@jupyter-widgets/controls"
          }
        },
        "bb27aff946b040b2b0e32e2e10a1740f": {
          "model_module": "@jupyter-widgets/base",
          "model_name": "LayoutModel",
          "model_module_version": "1.2.0",
          "state": {
            "_view_name": "LayoutView",
            "grid_template_rows": null,
            "right": null,
            "justify_content": null,
            "_view_module": "@jupyter-widgets/base",
            "overflow": null,
            "_model_module_version": "1.2.0",
            "_view_count": null,
            "flex_flow": null,
            "width": null,
            "min_width": null,
            "border": null,
            "align_items": null,
            "bottom": null,
            "_model_module": "@jupyter-widgets/base",
            "top": null,
            "grid_column": null,
            "overflow_y": null,
            "overflow_x": null,
            "grid_auto_flow": null,
            "grid_area": null,
            "grid_template_columns": null,
            "flex": null,
            "_model_name": "LayoutModel",
            "justify_items": null,
            "grid_row": null,
            "max_height": null,
            "align_content": null,
            "visibility": null,
            "align_self": null,
            "height": null,
            "min_height": null,
            "padding": null,
            "grid_auto_rows": null,
            "grid_gap": null,
            "max_width": null,
            "order": null,
            "_view_module_version": "1.2.0",
            "grid_template_areas": null,
            "object_position": null,
            "object_fit": null,
            "grid_auto_columns": null,
            "margin": null,
            "display": null,
            "left": null
          }
        },
        "988e9e58f947422bb73b356dc147e98b": {
          "model_module": "@jupyter-widgets/controls",
          "model_name": "VBoxModel",
          "model_module_version": "1.5.0",
          "state": {
            "_view_name": "VBoxView",
            "_dom_classes": [],
            "_model_name": "VBoxModel",
            "_view_module": "@jupyter-widgets/controls",
            "_model_module_version": "1.5.0",
            "_view_count": null,
            "_view_module_version": "1.5.0",
            "box_style": "",
            "layout": "IPY_MODEL_06692c67cc054f5f91f54648ba8474a9",
            "_model_module": "@jupyter-widgets/controls",
            "children": [
              "IPY_MODEL_38625d22362e472e9d421401e855334f",
              "IPY_MODEL_dcd4bb1e8baf46f89cc558b482d20011",
              "IPY_MODEL_6e42a0349fdc488db0c15896c08ca2aa",
              "IPY_MODEL_ac34b85d1eb54451b812590ce524f64d",
              "IPY_MODEL_0eccc23f8fd04abbb363d165d1da8a2b"
            ]
          }
        },
        "06692c67cc054f5f91f54648ba8474a9": {
          "model_module": "@jupyter-widgets/base",
          "model_name": "LayoutModel",
          "model_module_version": "1.2.0",
          "state": {
            "_view_name": "LayoutView",
            "grid_template_rows": null,
            "right": null,
            "justify_content": null,
            "_view_module": "@jupyter-widgets/base",
            "overflow": null,
            "_model_module_version": "1.2.0",
            "_view_count": null,
            "flex_flow": "column",
            "width": "50%",
            "min_width": null,
            "border": null,
            "align_items": "center",
            "bottom": null,
            "_model_module": "@jupyter-widgets/base",
            "top": null,
            "grid_column": null,
            "overflow_y": null,
            "overflow_x": null,
            "grid_auto_flow": null,
            "grid_area": null,
            "grid_template_columns": null,
            "flex": null,
            "_model_name": "LayoutModel",
            "justify_items": null,
            "grid_row": null,
            "max_height": null,
            "align_content": null,
            "visibility": null,
            "align_self": null,
            "height": null,
            "min_height": null,
            "padding": null,
            "grid_auto_rows": null,
            "grid_gap": null,
            "max_width": null,
            "order": null,
            "_view_module_version": "1.2.0",
            "grid_template_areas": null,
            "object_position": null,
            "object_fit": null,
            "grid_auto_columns": null,
            "margin": null,
            "display": "flex",
            "left": null
          }
        },
        "38625d22362e472e9d421401e855334f": {
          "model_module": "@jupyter-widgets/controls",
          "model_name": "HTMLModel",
          "model_module_version": "1.5.0",
          "state": {
            "_view_name": "HTMLView",
            "style": "IPY_MODEL_bc1b6cc7bd284d09a4bb31997af3cbdf",
            "_dom_classes": [],
            "description": "",
            "_model_name": "HTMLModel",
            "placeholder": "​",
            "_view_module": "@jupyter-widgets/controls",
            "_model_module_version": "1.5.0",
            "value": "<center>\n<img src=https://huggingface.co/front/assets/huggingface_logo-noborder.svg alt='Hugging Face'>\n<br>\nCopy a token from <a href=\"https://huggingface.co/settings/token\" target=\"_blank\">your Hugging Face tokens page</a> and paste it below.\n<br>\nImmediately click login after copying your token or it might be stored in plain text in this notebook file.\n</center>",
            "_view_count": null,
            "_view_module_version": "1.5.0",
            "description_tooltip": null,
            "_model_module": "@jupyter-widgets/controls",
            "layout": "IPY_MODEL_20a96a00d4dd4ce9a8a221acd47d4eaf"
          }
        },
        "dcd4bb1e8baf46f89cc558b482d20011": {
          "model_module": "@jupyter-widgets/controls",
          "model_name": "PasswordModel",
          "model_module_version": "1.5.0",
          "state": {
            "_view_name": "PasswordView",
            "style": "IPY_MODEL_57862e54b8f74197801ab1cbafddd41c",
            "_dom_classes": [],
            "description": "Token:",
            "_model_name": "PasswordModel",
            "placeholder": "​",
            "_view_module": "@jupyter-widgets/controls",
            "_model_module_version": "1.5.0",
            "value": "",
            "_view_count": null,
            "disabled": false,
            "_view_module_version": "1.5.0",
            "continuous_update": true,
            "description_tooltip": null,
            "_model_module": "@jupyter-widgets/controls",
            "layout": "IPY_MODEL_475c3c212d2e46ed845e154ac53b6885"
          }
        },
        "6e42a0349fdc488db0c15896c08ca2aa": {
          "model_module": "@jupyter-widgets/controls",
          "model_name": "ButtonModel",
          "model_module_version": "1.5.0",
          "state": {
            "_view_name": "ButtonView",
            "style": "IPY_MODEL_ec9698cebf454f7bbc7cbd456bd50f3e",
            "_dom_classes": [],
            "description": "Login",
            "_model_name": "ButtonModel",
            "button_style": "",
            "_view_module": "@jupyter-widgets/controls",
            "_model_module_version": "1.5.0",
            "tooltip": "",
            "_view_count": null,
            "disabled": false,
            "_view_module_version": "1.5.0",
            "layout": "IPY_MODEL_fb7e98ceeafa498c97fe44250959d73d",
            "_model_module": "@jupyter-widgets/controls",
            "icon": ""
          }
        },
        "ac34b85d1eb54451b812590ce524f64d": {
          "model_module": "@jupyter-widgets/controls",
          "model_name": "HTMLModel",
          "model_module_version": "1.5.0",
          "state": {
            "_view_name": "HTMLView",
            "style": "IPY_MODEL_8fb7bdd6fc584290bbd592c937971555",
            "_dom_classes": [],
            "description": "",
            "_model_name": "HTMLModel",
            "placeholder": "​",
            "_view_module": "@jupyter-widgets/controls",
            "_model_module_version": "1.5.0",
            "value": "\n<b>Pro Tip:</b> If you don't already have one, you can create a dedicated 'notebooks' token with 'write' access, that you can then easily reuse for all notebooks.\n<br>\n<i>Logging in with your username and password is deprecated and won't be possible anymore in the near future. You can still use them for now by clicking below.</i>\n</center>",
            "_view_count": null,
            "_view_module_version": "1.5.0",
            "description_tooltip": null,
            "_model_module": "@jupyter-widgets/controls",
            "layout": "IPY_MODEL_63539364aacf485db4e4153d66dd8e8a"
          }
        },
        "0eccc23f8fd04abbb363d165d1da8a2b": {
          "model_module": "@jupyter-widgets/controls",
          "model_name": "ButtonModel",
          "model_module_version": "1.5.0",
          "state": {
            "_view_name": "ButtonView",
            "style": "IPY_MODEL_c3a0044612a6490ead7dcebee108a2c3",
            "_dom_classes": [],
            "description": "Use password",
            "_model_name": "ButtonModel",
            "button_style": "",
            "_view_module": "@jupyter-widgets/controls",
            "_model_module_version": "1.5.0",
            "tooltip": "",
            "_view_count": null,
            "disabled": false,
            "_view_module_version": "1.5.0",
            "layout": "IPY_MODEL_3b5aad80ab424cb38bfd6f66d156e44c",
            "_model_module": "@jupyter-widgets/controls",
            "icon": ""
          }
        },
        "bc1b6cc7bd284d09a4bb31997af3cbdf": {
          "model_module": "@jupyter-widgets/controls",
          "model_name": "DescriptionStyleModel",
          "model_module_version": "1.5.0",
          "state": {
            "_view_name": "StyleView",
            "_model_name": "DescriptionStyleModel",
            "description_width": "",
            "_view_module": "@jupyter-widgets/base",
            "_model_module_version": "1.5.0",
            "_view_count": null,
            "_view_module_version": "1.2.0",
            "_model_module": "@jupyter-widgets/controls"
          }
        },
        "20a96a00d4dd4ce9a8a221acd47d4eaf": {
          "model_module": "@jupyter-widgets/base",
          "model_name": "LayoutModel",
          "model_module_version": "1.2.0",
          "state": {
            "_view_name": "LayoutView",
            "grid_template_rows": null,
            "right": null,
            "justify_content": null,
            "_view_module": "@jupyter-widgets/base",
            "overflow": null,
            "_model_module_version": "1.2.0",
            "_view_count": null,
            "flex_flow": null,
            "width": null,
            "min_width": null,
            "border": null,
            "align_items": null,
            "bottom": null,
            "_model_module": "@jupyter-widgets/base",
            "top": null,
            "grid_column": null,
            "overflow_y": null,
            "overflow_x": null,
            "grid_auto_flow": null,
            "grid_area": null,
            "grid_template_columns": null,
            "flex": null,
            "_model_name": "LayoutModel",
            "justify_items": null,
            "grid_row": null,
            "max_height": null,
            "align_content": null,
            "visibility": null,
            "align_self": null,
            "height": null,
            "min_height": null,
            "padding": null,
            "grid_auto_rows": null,
            "grid_gap": null,
            "max_width": null,
            "order": null,
            "_view_module_version": "1.2.0",
            "grid_template_areas": null,
            "object_position": null,
            "object_fit": null,
            "grid_auto_columns": null,
            "margin": null,
            "display": null,
            "left": null
          }
        },
        "57862e54b8f74197801ab1cbafddd41c": {
          "model_module": "@jupyter-widgets/controls",
          "model_name": "DescriptionStyleModel",
          "model_module_version": "1.5.0",
          "state": {
            "_view_name": "StyleView",
            "_model_name": "DescriptionStyleModel",
            "description_width": "",
            "_view_module": "@jupyter-widgets/base",
            "_model_module_version": "1.5.0",
            "_view_count": null,
            "_view_module_version": "1.2.0",
            "_model_module": "@jupyter-widgets/controls"
          }
        },
        "475c3c212d2e46ed845e154ac53b6885": {
          "model_module": "@jupyter-widgets/base",
          "model_name": "LayoutModel",
          "model_module_version": "1.2.0",
          "state": {
            "_view_name": "LayoutView",
            "grid_template_rows": null,
            "right": null,
            "justify_content": null,
            "_view_module": "@jupyter-widgets/base",
            "overflow": null,
            "_model_module_version": "1.2.0",
            "_view_count": null,
            "flex_flow": null,
            "width": null,
            "min_width": null,
            "border": null,
            "align_items": null,
            "bottom": null,
            "_model_module": "@jupyter-widgets/base",
            "top": null,
            "grid_column": null,
            "overflow_y": null,
            "overflow_x": null,
            "grid_auto_flow": null,
            "grid_area": null,
            "grid_template_columns": null,
            "flex": null,
            "_model_name": "LayoutModel",
            "justify_items": null,
            "grid_row": null,
            "max_height": null,
            "align_content": null,
            "visibility": null,
            "align_self": null,
            "height": null,
            "min_height": null,
            "padding": null,
            "grid_auto_rows": null,
            "grid_gap": null,
            "max_width": null,
            "order": null,
            "_view_module_version": "1.2.0",
            "grid_template_areas": null,
            "object_position": null,
            "object_fit": null,
            "grid_auto_columns": null,
            "margin": null,
            "display": null,
            "left": null
          }
        },
        "ec9698cebf454f7bbc7cbd456bd50f3e": {
          "model_module": "@jupyter-widgets/controls",
          "model_name": "ButtonStyleModel",
          "model_module_version": "1.5.0",
          "state": {
            "_view_name": "StyleView",
            "_model_name": "ButtonStyleModel",
            "_view_module": "@jupyter-widgets/base",
            "_model_module_version": "1.5.0",
            "_view_count": null,
            "button_color": null,
            "font_weight": "",
            "_view_module_version": "1.2.0",
            "_model_module": "@jupyter-widgets/controls"
          }
        },
        "fb7e98ceeafa498c97fe44250959d73d": {
          "model_module": "@jupyter-widgets/base",
          "model_name": "LayoutModel",
          "model_module_version": "1.2.0",
          "state": {
            "_view_name": "LayoutView",
            "grid_template_rows": null,
            "right": null,
            "justify_content": null,
            "_view_module": "@jupyter-widgets/base",
            "overflow": null,
            "_model_module_version": "1.2.0",
            "_view_count": null,
            "flex_flow": null,
            "width": null,
            "min_width": null,
            "border": null,
            "align_items": null,
            "bottom": null,
            "_model_module": "@jupyter-widgets/base",
            "top": null,
            "grid_column": null,
            "overflow_y": null,
            "overflow_x": null,
            "grid_auto_flow": null,
            "grid_area": null,
            "grid_template_columns": null,
            "flex": null,
            "_model_name": "LayoutModel",
            "justify_items": null,
            "grid_row": null,
            "max_height": null,
            "align_content": null,
            "visibility": null,
            "align_self": null,
            "height": null,
            "min_height": null,
            "padding": null,
            "grid_auto_rows": null,
            "grid_gap": null,
            "max_width": null,
            "order": null,
            "_view_module_version": "1.2.0",
            "grid_template_areas": null,
            "object_position": null,
            "object_fit": null,
            "grid_auto_columns": null,
            "margin": null,
            "display": null,
            "left": null
          }
        },
        "8fb7bdd6fc584290bbd592c937971555": {
          "model_module": "@jupyter-widgets/controls",
          "model_name": "DescriptionStyleModel",
          "model_module_version": "1.5.0",
          "state": {
            "_view_name": "StyleView",
            "_model_name": "DescriptionStyleModel",
            "description_width": "",
            "_view_module": "@jupyter-widgets/base",
            "_model_module_version": "1.5.0",
            "_view_count": null,
            "_view_module_version": "1.2.0",
            "_model_module": "@jupyter-widgets/controls"
          }
        },
        "63539364aacf485db4e4153d66dd8e8a": {
          "model_module": "@jupyter-widgets/base",
          "model_name": "LayoutModel",
          "model_module_version": "1.2.0",
          "state": {
            "_view_name": "LayoutView",
            "grid_template_rows": null,
            "right": null,
            "justify_content": null,
            "_view_module": "@jupyter-widgets/base",
            "overflow": null,
            "_model_module_version": "1.2.0",
            "_view_count": null,
            "flex_flow": null,
            "width": null,
            "min_width": null,
            "border": null,
            "align_items": null,
            "bottom": null,
            "_model_module": "@jupyter-widgets/base",
            "top": null,
            "grid_column": null,
            "overflow_y": null,
            "overflow_x": null,
            "grid_auto_flow": null,
            "grid_area": null,
            "grid_template_columns": null,
            "flex": null,
            "_model_name": "LayoutModel",
            "justify_items": null,
            "grid_row": null,
            "max_height": null,
            "align_content": null,
            "visibility": null,
            "align_self": null,
            "height": null,
            "min_height": null,
            "padding": null,
            "grid_auto_rows": null,
            "grid_gap": null,
            "max_width": null,
            "order": null,
            "_view_module_version": "1.2.0",
            "grid_template_areas": null,
            "object_position": null,
            "object_fit": null,
            "grid_auto_columns": null,
            "margin": null,
            "display": null,
            "left": null
          }
        },
        "c3a0044612a6490ead7dcebee108a2c3": {
          "model_module": "@jupyter-widgets/controls",
          "model_name": "ButtonStyleModel",
          "model_module_version": "1.5.0",
          "state": {
            "_view_name": "StyleView",
            "_model_name": "ButtonStyleModel",
            "_view_module": "@jupyter-widgets/base",
            "_model_module_version": "1.5.0",
            "_view_count": null,
            "button_color": null,
            "font_weight": "",
            "_view_module_version": "1.2.0",
            "_model_module": "@jupyter-widgets/controls"
          }
        },
        "3b5aad80ab424cb38bfd6f66d156e44c": {
          "model_module": "@jupyter-widgets/base",
          "model_name": "LayoutModel",
          "model_module_version": "1.2.0",
          "state": {
            "_view_name": "LayoutView",
            "grid_template_rows": null,
            "right": null,
            "justify_content": null,
            "_view_module": "@jupyter-widgets/base",
            "overflow": null,
            "_model_module_version": "1.2.0",
            "_view_count": null,
            "flex_flow": null,
            "width": null,
            "min_width": null,
            "border": null,
            "align_items": null,
            "bottom": null,
            "_model_module": "@jupyter-widgets/base",
            "top": null,
            "grid_column": null,
            "overflow_y": null,
            "overflow_x": null,
            "grid_auto_flow": null,
            "grid_area": null,
            "grid_template_columns": null,
            "flex": null,
            "_model_name": "LayoutModel",
            "justify_items": null,
            "grid_row": null,
            "max_height": null,
            "align_content": null,
            "visibility": null,
            "align_self": null,
            "height": null,
            "min_height": null,
            "padding": null,
            "grid_auto_rows": null,
            "grid_gap": null,
            "max_width": null,
            "order": null,
            "_view_module_version": "1.2.0",
            "grid_template_areas": null,
            "object_position": null,
            "object_fit": null,
            "grid_auto_columns": null,
            "margin": null,
            "display": null,
            "left": null
          }
        },
        "4bf769f182f2436cb6b4b80a44d346c1": {
          "model_module": "@jupyter-widgets/controls",
          "model_name": "VBoxModel",
          "model_module_version": "1.5.0",
          "state": {
            "_view_name": "VBoxView",
            "_dom_classes": [],
            "_model_name": "VBoxModel",
            "_view_module": "@jupyter-widgets/controls",
            "_model_module_version": "1.5.0",
            "_view_count": null,
            "_view_module_version": "1.5.0",
            "box_style": "",
            "layout": "IPY_MODEL_06692c67cc054f5f91f54648ba8474a9",
            "_model_module": "@jupyter-widgets/controls",
            "children": [
              "IPY_MODEL_6722caa59ed34b4b92feb48c01b9aaa7",
              "IPY_MODEL_f907e29a8912480fb0ae3af2d765c80b",
              "IPY_MODEL_c7533d7c0f6a48fdac9a44b0ab4104b0"
            ]
          }
        },
        "6722caa59ed34b4b92feb48c01b9aaa7": {
          "model_module": "@jupyter-widgets/controls",
          "model_name": "HTMLModel",
          "model_module_version": "1.5.0",
          "state": {
            "_view_name": "HTMLView",
            "style": "IPY_MODEL_72e10ec5a49844b6b43606d9f09a64f9",
            "_dom_classes": [],
            "description": "",
            "_model_name": "HTMLModel",
            "placeholder": "​",
            "_view_module": "@jupyter-widgets/controls",
            "_model_module_version": "1.5.0",
            "value": "<center>\n<img src=https://huggingface.co/front/assets/huggingface_logo-noborder.svg alt='Hugging Face'>\n<br>\nImmediately click login after typing your password or it might be stored in plain text in this notebook file.\n</center>",
            "_view_count": null,
            "_view_module_version": "1.5.0",
            "description_tooltip": null,
            "_model_module": "@jupyter-widgets/controls",
            "layout": "IPY_MODEL_f8028167c564406bb9b723423e19f03b"
          }
        },
        "f907e29a8912480fb0ae3af2d765c80b": {
          "model_module": "@jupyter-widgets/controls",
          "model_name": "HBoxModel",
          "model_module_version": "1.5.0",
          "state": {
            "_view_name": "HBoxView",
            "_dom_classes": [],
            "_model_name": "HBoxModel",
            "_view_module": "@jupyter-widgets/controls",
            "_model_module_version": "1.5.0",
            "_view_count": null,
            "_view_module_version": "1.5.0",
            "box_style": "",
            "layout": "IPY_MODEL_08e78a73b6094674bac0fa1cef1c73be",
            "_model_module": "@jupyter-widgets/controls",
            "children": [
              "IPY_MODEL_d8d01b30b6bb4983a490c13aa21a6385",
              "IPY_MODEL_33d2f1b9a64f4e7a92e519b393a29293"
            ]
          }
        },
        "c7533d7c0f6a48fdac9a44b0ab4104b0": {
          "model_module": "@jupyter-widgets/controls",
          "model_name": "ButtonModel",
          "model_module_version": "1.5.0",
          "state": {
            "_view_name": "ButtonView",
            "style": "IPY_MODEL_6370c3e5c9704d18892e90228b759d4c",
            "_dom_classes": [],
            "description": "Login",
            "_model_name": "ButtonModel",
            "button_style": "",
            "_view_module": "@jupyter-widgets/controls",
            "_model_module_version": "1.5.0",
            "tooltip": "",
            "_view_count": null,
            "disabled": false,
            "_view_module_version": "1.5.0",
            "layout": "IPY_MODEL_68df7867448045059a210a5be60d22bc",
            "_model_module": "@jupyter-widgets/controls",
            "icon": ""
          }
        },
        "72e10ec5a49844b6b43606d9f09a64f9": {
          "model_module": "@jupyter-widgets/controls",
          "model_name": "DescriptionStyleModel",
          "model_module_version": "1.5.0",
          "state": {
            "_view_name": "StyleView",
            "_model_name": "DescriptionStyleModel",
            "description_width": "",
            "_view_module": "@jupyter-widgets/base",
            "_model_module_version": "1.5.0",
            "_view_count": null,
            "_view_module_version": "1.2.0",
            "_model_module": "@jupyter-widgets/controls"
          }
        },
        "f8028167c564406bb9b723423e19f03b": {
          "model_module": "@jupyter-widgets/base",
          "model_name": "LayoutModel",
          "model_module_version": "1.2.0",
          "state": {
            "_view_name": "LayoutView",
            "grid_template_rows": null,
            "right": null,
            "justify_content": null,
            "_view_module": "@jupyter-widgets/base",
            "overflow": null,
            "_model_module_version": "1.2.0",
            "_view_count": null,
            "flex_flow": null,
            "width": null,
            "min_width": null,
            "border": null,
            "align_items": null,
            "bottom": null,
            "_model_module": "@jupyter-widgets/base",
            "top": null,
            "grid_column": null,
            "overflow_y": null,
            "overflow_x": null,
            "grid_auto_flow": null,
            "grid_area": null,
            "grid_template_columns": null,
            "flex": null,
            "_model_name": "LayoutModel",
            "justify_items": null,
            "grid_row": null,
            "max_height": null,
            "align_content": null,
            "visibility": null,
            "align_self": null,
            "height": null,
            "min_height": null,
            "padding": null,
            "grid_auto_rows": null,
            "grid_gap": null,
            "max_width": null,
            "order": null,
            "_view_module_version": "1.2.0",
            "grid_template_areas": null,
            "object_position": null,
            "object_fit": null,
            "grid_auto_columns": null,
            "margin": null,
            "display": null,
            "left": null
          }
        },
        "08e78a73b6094674bac0fa1cef1c73be": {
          "model_module": "@jupyter-widgets/base",
          "model_name": "LayoutModel",
          "model_module_version": "1.2.0",
          "state": {
            "_view_name": "LayoutView",
            "grid_template_rows": null,
            "right": null,
            "justify_content": null,
            "_view_module": "@jupyter-widgets/base",
            "overflow": null,
            "_model_module_version": "1.2.0",
            "_view_count": null,
            "flex_flow": null,
            "width": null,
            "min_width": null,
            "border": null,
            "align_items": null,
            "bottom": null,
            "_model_module": "@jupyter-widgets/base",
            "top": null,
            "grid_column": null,
            "overflow_y": null,
            "overflow_x": null,
            "grid_auto_flow": null,
            "grid_area": null,
            "grid_template_columns": null,
            "flex": null,
            "_model_name": "LayoutModel",
            "justify_items": null,
            "grid_row": null,
            "max_height": null,
            "align_content": null,
            "visibility": null,
            "align_self": null,
            "height": null,
            "min_height": null,
            "padding": null,
            "grid_auto_rows": null,
            "grid_gap": null,
            "max_width": null,
            "order": null,
            "_view_module_version": "1.2.0",
            "grid_template_areas": null,
            "object_position": null,
            "object_fit": null,
            "grid_auto_columns": null,
            "margin": null,
            "display": null,
            "left": null
          }
        },
        "d8d01b30b6bb4983a490c13aa21a6385": {
          "model_module": "@jupyter-widgets/controls",
          "model_name": "TextModel",
          "model_module_version": "1.5.0",
          "state": {
            "_view_name": "TextView",
            "style": "IPY_MODEL_2dbb924803784ec5a9d50685ce1434a9",
            "_dom_classes": [],
            "description": "Username:",
            "_model_name": "TextModel",
            "placeholder": "​",
            "_view_module": "@jupyter-widgets/controls",
            "_model_module_version": "1.5.0",
            "value": "teepika.ramasamymarimuthu@sjsu.edu",
            "_view_count": null,
            "disabled": false,
            "_view_module_version": "1.5.0",
            "continuous_update": true,
            "description_tooltip": null,
            "_model_module": "@jupyter-widgets/controls",
            "layout": "IPY_MODEL_9a512147264a412495cb582eb5af5fc4"
          }
        },
        "33d2f1b9a64f4e7a92e519b393a29293": {
          "model_module": "@jupyter-widgets/controls",
          "model_name": "PasswordModel",
          "model_module_version": "1.5.0",
          "state": {
            "_view_name": "PasswordView",
            "style": "IPY_MODEL_14206f2950864d07b719bcca7113b065",
            "_dom_classes": [],
            "description": "Password:",
            "_model_name": "PasswordModel",
            "placeholder": "​",
            "_view_module": "@jupyter-widgets/controls",
            "_model_module_version": "1.5.0",
            "value": "",
            "_view_count": null,
            "disabled": false,
            "_view_module_version": "1.5.0",
            "continuous_update": true,
            "description_tooltip": null,
            "_model_module": "@jupyter-widgets/controls",
            "layout": "IPY_MODEL_d5f628f68e644f028b7bf68ec7581be0"
          }
        },
        "6370c3e5c9704d18892e90228b759d4c": {
          "model_module": "@jupyter-widgets/controls",
          "model_name": "ButtonStyleModel",
          "model_module_version": "1.5.0",
          "state": {
            "_view_name": "StyleView",
            "_model_name": "ButtonStyleModel",
            "_view_module": "@jupyter-widgets/base",
            "_model_module_version": "1.5.0",
            "_view_count": null,
            "button_color": null,
            "font_weight": "",
            "_view_module_version": "1.2.0",
            "_model_module": "@jupyter-widgets/controls"
          }
        },
        "68df7867448045059a210a5be60d22bc": {
          "model_module": "@jupyter-widgets/base",
          "model_name": "LayoutModel",
          "model_module_version": "1.2.0",
          "state": {
            "_view_name": "LayoutView",
            "grid_template_rows": null,
            "right": null,
            "justify_content": null,
            "_view_module": "@jupyter-widgets/base",
            "overflow": null,
            "_model_module_version": "1.2.0",
            "_view_count": null,
            "flex_flow": null,
            "width": null,
            "min_width": null,
            "border": null,
            "align_items": null,
            "bottom": null,
            "_model_module": "@jupyter-widgets/base",
            "top": null,
            "grid_column": null,
            "overflow_y": null,
            "overflow_x": null,
            "grid_auto_flow": null,
            "grid_area": null,
            "grid_template_columns": null,
            "flex": null,
            "_model_name": "LayoutModel",
            "justify_items": null,
            "grid_row": null,
            "max_height": null,
            "align_content": null,
            "visibility": null,
            "align_self": null,
            "height": null,
            "min_height": null,
            "padding": null,
            "grid_auto_rows": null,
            "grid_gap": null,
            "max_width": null,
            "order": null,
            "_view_module_version": "1.2.0",
            "grid_template_areas": null,
            "object_position": null,
            "object_fit": null,
            "grid_auto_columns": null,
            "margin": null,
            "display": null,
            "left": null
          }
        },
        "2dbb924803784ec5a9d50685ce1434a9": {
          "model_module": "@jupyter-widgets/controls",
          "model_name": "DescriptionStyleModel",
          "model_module_version": "1.5.0",
          "state": {
            "_view_name": "StyleView",
            "_model_name": "DescriptionStyleModel",
            "description_width": "",
            "_view_module": "@jupyter-widgets/base",
            "_model_module_version": "1.5.0",
            "_view_count": null,
            "_view_module_version": "1.2.0",
            "_model_module": "@jupyter-widgets/controls"
          }
        },
        "9a512147264a412495cb582eb5af5fc4": {
          "model_module": "@jupyter-widgets/base",
          "model_name": "LayoutModel",
          "model_module_version": "1.2.0",
          "state": {
            "_view_name": "LayoutView",
            "grid_template_rows": null,
            "right": null,
            "justify_content": null,
            "_view_module": "@jupyter-widgets/base",
            "overflow": null,
            "_model_module_version": "1.2.0",
            "_view_count": null,
            "flex_flow": null,
            "width": null,
            "min_width": null,
            "border": null,
            "align_items": null,
            "bottom": null,
            "_model_module": "@jupyter-widgets/base",
            "top": null,
            "grid_column": null,
            "overflow_y": null,
            "overflow_x": null,
            "grid_auto_flow": null,
            "grid_area": null,
            "grid_template_columns": null,
            "flex": null,
            "_model_name": "LayoutModel",
            "justify_items": null,
            "grid_row": null,
            "max_height": null,
            "align_content": null,
            "visibility": null,
            "align_self": null,
            "height": null,
            "min_height": null,
            "padding": null,
            "grid_auto_rows": null,
            "grid_gap": null,
            "max_width": null,
            "order": null,
            "_view_module_version": "1.2.0",
            "grid_template_areas": null,
            "object_position": null,
            "object_fit": null,
            "grid_auto_columns": null,
            "margin": null,
            "display": null,
            "left": null
          }
        },
        "14206f2950864d07b719bcca7113b065": {
          "model_module": "@jupyter-widgets/controls",
          "model_name": "DescriptionStyleModel",
          "model_module_version": "1.5.0",
          "state": {
            "_view_name": "StyleView",
            "_model_name": "DescriptionStyleModel",
            "description_width": "",
            "_view_module": "@jupyter-widgets/base",
            "_model_module_version": "1.5.0",
            "_view_count": null,
            "_view_module_version": "1.2.0",
            "_model_module": "@jupyter-widgets/controls"
          }
        },
        "d5f628f68e644f028b7bf68ec7581be0": {
          "model_module": "@jupyter-widgets/base",
          "model_name": "LayoutModel",
          "model_module_version": "1.2.0",
          "state": {
            "_view_name": "LayoutView",
            "grid_template_rows": null,
            "right": null,
            "justify_content": null,
            "_view_module": "@jupyter-widgets/base",
            "overflow": null,
            "_model_module_version": "1.2.0",
            "_view_count": null,
            "flex_flow": null,
            "width": null,
            "min_width": null,
            "border": null,
            "align_items": null,
            "bottom": null,
            "_model_module": "@jupyter-widgets/base",
            "top": null,
            "grid_column": null,
            "overflow_y": null,
            "overflow_x": null,
            "grid_auto_flow": null,
            "grid_area": null,
            "grid_template_columns": null,
            "flex": null,
            "_model_name": "LayoutModel",
            "justify_items": null,
            "grid_row": null,
            "max_height": null,
            "align_content": null,
            "visibility": null,
            "align_self": null,
            "height": null,
            "min_height": null,
            "padding": null,
            "grid_auto_rows": null,
            "grid_gap": null,
            "max_width": null,
            "order": null,
            "_view_module_version": "1.2.0",
            "grid_template_areas": null,
            "object_position": null,
            "object_fit": null,
            "grid_auto_columns": null,
            "margin": null,
            "display": null,
            "left": null
          }
        },
        "74468a68cbce4c34ab4b74a07af59243": {
          "model_module": "@jupyter-widgets/controls",
          "model_name": "HBoxModel",
          "model_module_version": "1.5.0",
          "state": {
            "_view_name": "HBoxView",
            "_dom_classes": [],
            "_model_name": "HBoxModel",
            "_view_module": "@jupyter-widgets/controls",
            "_model_module_version": "1.5.0",
            "_view_count": null,
            "_view_module_version": "1.5.0",
            "box_style": "",
            "layout": "IPY_MODEL_204c3277317a42f6a4bddff64e94463a",
            "_model_module": "@jupyter-widgets/controls",
            "children": [
              "IPY_MODEL_b0b1d79b92184c19acb124f8981ae7da",
              "IPY_MODEL_400ef43c7f5642bf8835179259507d38",
              "IPY_MODEL_f3c1739aceab45df83d106626fcc476b"
            ]
          }
        },
        "204c3277317a42f6a4bddff64e94463a": {
          "model_module": "@jupyter-widgets/base",
          "model_name": "LayoutModel",
          "model_module_version": "1.2.0",
          "state": {
            "_view_name": "LayoutView",
            "grid_template_rows": null,
            "right": null,
            "justify_content": null,
            "_view_module": "@jupyter-widgets/base",
            "overflow": null,
            "_model_module_version": "1.2.0",
            "_view_count": null,
            "flex_flow": null,
            "width": null,
            "min_width": null,
            "border": null,
            "align_items": null,
            "bottom": null,
            "_model_module": "@jupyter-widgets/base",
            "top": null,
            "grid_column": null,
            "overflow_y": null,
            "overflow_x": null,
            "grid_auto_flow": null,
            "grid_area": null,
            "grid_template_columns": null,
            "flex": null,
            "_model_name": "LayoutModel",
            "justify_items": null,
            "grid_row": null,
            "max_height": null,
            "align_content": null,
            "visibility": null,
            "align_self": null,
            "height": null,
            "min_height": null,
            "padding": null,
            "grid_auto_rows": null,
            "grid_gap": null,
            "max_width": null,
            "order": null,
            "_view_module_version": "1.2.0",
            "grid_template_areas": null,
            "object_position": null,
            "object_fit": null,
            "grid_auto_columns": null,
            "margin": null,
            "display": null,
            "left": null
          }
        },
        "b0b1d79b92184c19acb124f8981ae7da": {
          "model_module": "@jupyter-widgets/controls",
          "model_name": "HTMLModel",
          "model_module_version": "1.5.0",
          "state": {
            "_view_name": "HTMLView",
            "style": "IPY_MODEL_5eb1ce7c921e42fa907daeb9e20c0622",
            "_dom_classes": [],
            "description": "",
            "_model_name": "HTMLModel",
            "placeholder": "​",
            "_view_module": "@jupyter-widgets/controls",
            "_model_module_version": "1.5.0",
            "value": "Upload file pytorch_model.bin: 100%",
            "_view_count": null,
            "_view_module_version": "1.5.0",
            "description_tooltip": null,
            "_model_module": "@jupyter-widgets/controls",
            "layout": "IPY_MODEL_77bd3221076e47f380258a8cec84805f"
          }
        },
        "400ef43c7f5642bf8835179259507d38": {
          "model_module": "@jupyter-widgets/controls",
          "model_name": "FloatProgressModel",
          "model_module_version": "1.5.0",
          "state": {
            "_view_name": "ProgressView",
            "style": "IPY_MODEL_64143157756e4af4953539265d7b77c5",
            "_dom_classes": [],
            "description": "",
            "_model_name": "FloatProgressModel",
            "bar_style": "success",
            "max": 496308209,
            "_view_module": "@jupyter-widgets/controls",
            "_model_module_version": "1.5.0",
            "value": 496308209,
            "_view_count": null,
            "_view_module_version": "1.5.0",
            "orientation": "horizontal",
            "min": 0,
            "description_tooltip": null,
            "_model_module": "@jupyter-widgets/controls",
            "layout": "IPY_MODEL_7ef3421a11f5430f95f9bd3237b2c314"
          }
        },
        "f3c1739aceab45df83d106626fcc476b": {
          "model_module": "@jupyter-widgets/controls",
          "model_name": "HTMLModel",
          "model_module_version": "1.5.0",
          "state": {
            "_view_name": "HTMLView",
            "style": "IPY_MODEL_bb8042ec3ed345a0a56dac413b7365f5",
            "_dom_classes": [],
            "description": "",
            "_model_name": "HTMLModel",
            "placeholder": "​",
            "_view_module": "@jupyter-widgets/controls",
            "_model_module_version": "1.5.0",
            "value": " 473M/473M [07:20&lt;00:00, 882kB/s]",
            "_view_count": null,
            "_view_module_version": "1.5.0",
            "description_tooltip": null,
            "_model_module": "@jupyter-widgets/controls",
            "layout": "IPY_MODEL_8ebf75811dc74b1f9b44b97386b7c1a1"
          }
        },
        "5eb1ce7c921e42fa907daeb9e20c0622": {
          "model_module": "@jupyter-widgets/controls",
          "model_name": "DescriptionStyleModel",
          "model_module_version": "1.5.0",
          "state": {
            "_view_name": "StyleView",
            "_model_name": "DescriptionStyleModel",
            "description_width": "",
            "_view_module": "@jupyter-widgets/base",
            "_model_module_version": "1.5.0",
            "_view_count": null,
            "_view_module_version": "1.2.0",
            "_model_module": "@jupyter-widgets/controls"
          }
        },
        "77bd3221076e47f380258a8cec84805f": {
          "model_module": "@jupyter-widgets/base",
          "model_name": "LayoutModel",
          "model_module_version": "1.2.0",
          "state": {
            "_view_name": "LayoutView",
            "grid_template_rows": null,
            "right": null,
            "justify_content": null,
            "_view_module": "@jupyter-widgets/base",
            "overflow": null,
            "_model_module_version": "1.2.0",
            "_view_count": null,
            "flex_flow": null,
            "width": null,
            "min_width": null,
            "border": null,
            "align_items": null,
            "bottom": null,
            "_model_module": "@jupyter-widgets/base",
            "top": null,
            "grid_column": null,
            "overflow_y": null,
            "overflow_x": null,
            "grid_auto_flow": null,
            "grid_area": null,
            "grid_template_columns": null,
            "flex": null,
            "_model_name": "LayoutModel",
            "justify_items": null,
            "grid_row": null,
            "max_height": null,
            "align_content": null,
            "visibility": null,
            "align_self": null,
            "height": null,
            "min_height": null,
            "padding": null,
            "grid_auto_rows": null,
            "grid_gap": null,
            "max_width": null,
            "order": null,
            "_view_module_version": "1.2.0",
            "grid_template_areas": null,
            "object_position": null,
            "object_fit": null,
            "grid_auto_columns": null,
            "margin": null,
            "display": null,
            "left": null
          }
        },
        "64143157756e4af4953539265d7b77c5": {
          "model_module": "@jupyter-widgets/controls",
          "model_name": "ProgressStyleModel",
          "model_module_version": "1.5.0",
          "state": {
            "_view_name": "StyleView",
            "_model_name": "ProgressStyleModel",
            "description_width": "",
            "_view_module": "@jupyter-widgets/base",
            "_model_module_version": "1.5.0",
            "_view_count": null,
            "_view_module_version": "1.2.0",
            "bar_color": null,
            "_model_module": "@jupyter-widgets/controls"
          }
        },
        "7ef3421a11f5430f95f9bd3237b2c314": {
          "model_module": "@jupyter-widgets/base",
          "model_name": "LayoutModel",
          "model_module_version": "1.2.0",
          "state": {
            "_view_name": "LayoutView",
            "grid_template_rows": null,
            "right": null,
            "justify_content": null,
            "_view_module": "@jupyter-widgets/base",
            "overflow": null,
            "_model_module_version": "1.2.0",
            "_view_count": null,
            "flex_flow": null,
            "width": null,
            "min_width": null,
            "border": null,
            "align_items": null,
            "bottom": null,
            "_model_module": "@jupyter-widgets/base",
            "top": null,
            "grid_column": null,
            "overflow_y": null,
            "overflow_x": null,
            "grid_auto_flow": null,
            "grid_area": null,
            "grid_template_columns": null,
            "flex": null,
            "_model_name": "LayoutModel",
            "justify_items": null,
            "grid_row": null,
            "max_height": null,
            "align_content": null,
            "visibility": null,
            "align_self": null,
            "height": null,
            "min_height": null,
            "padding": null,
            "grid_auto_rows": null,
            "grid_gap": null,
            "max_width": null,
            "order": null,
            "_view_module_version": "1.2.0",
            "grid_template_areas": null,
            "object_position": null,
            "object_fit": null,
            "grid_auto_columns": null,
            "margin": null,
            "display": null,
            "left": null
          }
        },
        "bb8042ec3ed345a0a56dac413b7365f5": {
          "model_module": "@jupyter-widgets/controls",
          "model_name": "DescriptionStyleModel",
          "model_module_version": "1.5.0",
          "state": {
            "_view_name": "StyleView",
            "_model_name": "DescriptionStyleModel",
            "description_width": "",
            "_view_module": "@jupyter-widgets/base",
            "_model_module_version": "1.5.0",
            "_view_count": null,
            "_view_module_version": "1.2.0",
            "_model_module": "@jupyter-widgets/controls"
          }
        },
        "8ebf75811dc74b1f9b44b97386b7c1a1": {
          "model_module": "@jupyter-widgets/base",
          "model_name": "LayoutModel",
          "model_module_version": "1.2.0",
          "state": {
            "_view_name": "LayoutView",
            "grid_template_rows": null,
            "right": null,
            "justify_content": null,
            "_view_module": "@jupyter-widgets/base",
            "overflow": null,
            "_model_module_version": "1.2.0",
            "_view_count": null,
            "flex_flow": null,
            "width": null,
            "min_width": null,
            "border": null,
            "align_items": null,
            "bottom": null,
            "_model_module": "@jupyter-widgets/base",
            "top": null,
            "grid_column": null,
            "overflow_y": null,
            "overflow_x": null,
            "grid_auto_flow": null,
            "grid_area": null,
            "grid_template_columns": null,
            "flex": null,
            "_model_name": "LayoutModel",
            "justify_items": null,
            "grid_row": null,
            "max_height": null,
            "align_content": null,
            "visibility": null,
            "align_self": null,
            "height": null,
            "min_height": null,
            "padding": null,
            "grid_auto_rows": null,
            "grid_gap": null,
            "max_width": null,
            "order": null,
            "_view_module_version": "1.2.0",
            "grid_template_areas": null,
            "object_position": null,
            "object_fit": null,
            "grid_auto_columns": null,
            "margin": null,
            "display": null,
            "left": null
          }
        },
        "fe2dc109c4814b058f1bab79ea1fd9a3": {
          "model_module": "@jupyter-widgets/controls",
          "model_name": "HBoxModel",
          "model_module_version": "1.5.0",
          "state": {
            "_view_name": "HBoxView",
            "_dom_classes": [],
            "_model_name": "HBoxModel",
            "_view_module": "@jupyter-widgets/controls",
            "_model_module_version": "1.5.0",
            "_view_count": null,
            "_view_module_version": "1.5.0",
            "box_style": "",
            "layout": "IPY_MODEL_c2abe5a439954411a01802d1df3299c5",
            "_model_module": "@jupyter-widgets/controls",
            "children": [
              "IPY_MODEL_faba0ff81443437084da17261c45f0ca",
              "IPY_MODEL_881ed5c3dc31419fa1a284db108c8968",
              "IPY_MODEL_b8dc38d6eb1749f6a09ccf2d09b28af4"
            ]
          }
        },
        "c2abe5a439954411a01802d1df3299c5": {
          "model_module": "@jupyter-widgets/base",
          "model_name": "LayoutModel",
          "model_module_version": "1.2.0",
          "state": {
            "_view_name": "LayoutView",
            "grid_template_rows": null,
            "right": null,
            "justify_content": null,
            "_view_module": "@jupyter-widgets/base",
            "overflow": null,
            "_model_module_version": "1.2.0",
            "_view_count": null,
            "flex_flow": null,
            "width": null,
            "min_width": null,
            "border": null,
            "align_items": null,
            "bottom": null,
            "_model_module": "@jupyter-widgets/base",
            "top": null,
            "grid_column": null,
            "overflow_y": null,
            "overflow_x": null,
            "grid_auto_flow": null,
            "grid_area": null,
            "grid_template_columns": null,
            "flex": null,
            "_model_name": "LayoutModel",
            "justify_items": null,
            "grid_row": null,
            "max_height": null,
            "align_content": null,
            "visibility": null,
            "align_self": null,
            "height": null,
            "min_height": null,
            "padding": null,
            "grid_auto_rows": null,
            "grid_gap": null,
            "max_width": null,
            "order": null,
            "_view_module_version": "1.2.0",
            "grid_template_areas": null,
            "object_position": null,
            "object_fit": null,
            "grid_auto_columns": null,
            "margin": null,
            "display": null,
            "left": null
          }
        },
        "faba0ff81443437084da17261c45f0ca": {
          "model_module": "@jupyter-widgets/controls",
          "model_name": "HTMLModel",
          "model_module_version": "1.5.0",
          "state": {
            "_view_name": "HTMLView",
            "style": "IPY_MODEL_014a969d8dfc429c8b8fa5d12d70149a",
            "_dom_classes": [],
            "description": "",
            "_model_name": "HTMLModel",
            "placeholder": "​",
            "_view_module": "@jupyter-widgets/controls",
            "_model_module_version": "1.5.0",
            "value": "Downloading: 100%",
            "_view_count": null,
            "_view_module_version": "1.5.0",
            "description_tooltip": null,
            "_model_module": "@jupyter-widgets/controls",
            "layout": "IPY_MODEL_684c03111abc46a88f8d591b6313567c"
          }
        },
        "881ed5c3dc31419fa1a284db108c8968": {
          "model_module": "@jupyter-widgets/controls",
          "model_name": "FloatProgressModel",
          "model_module_version": "1.5.0",
          "state": {
            "_view_name": "ProgressView",
            "style": "IPY_MODEL_5235bbd39f604cc99681375b9edc2a29",
            "_dom_classes": [],
            "description": "",
            "_model_name": "FloatProgressModel",
            "bar_style": "success",
            "max": 795,
            "_view_module": "@jupyter-widgets/controls",
            "_model_module_version": "1.5.0",
            "value": 795,
            "_view_count": null,
            "_view_module_version": "1.5.0",
            "orientation": "horizontal",
            "min": 0,
            "description_tooltip": null,
            "_model_module": "@jupyter-widgets/controls",
            "layout": "IPY_MODEL_93bf7840bde144d0aeabaa3c863f246d"
          }
        },
        "b8dc38d6eb1749f6a09ccf2d09b28af4": {
          "model_module": "@jupyter-widgets/controls",
          "model_name": "HTMLModel",
          "model_module_version": "1.5.0",
          "state": {
            "_view_name": "HTMLView",
            "style": "IPY_MODEL_a4cffd9ad3744deb973a36e2bd7e1199",
            "_dom_classes": [],
            "description": "",
            "_model_name": "HTMLModel",
            "placeholder": "​",
            "_view_module": "@jupyter-widgets/controls",
            "_model_module_version": "1.5.0",
            "value": " 795/795 [00:00&lt;00:00, 11.2kB/s]",
            "_view_count": null,
            "_view_module_version": "1.5.0",
            "description_tooltip": null,
            "_model_module": "@jupyter-widgets/controls",
            "layout": "IPY_MODEL_d776f56f7800493fbf4897e3b6d036df"
          }
        },
        "014a969d8dfc429c8b8fa5d12d70149a": {
          "model_module": "@jupyter-widgets/controls",
          "model_name": "DescriptionStyleModel",
          "model_module_version": "1.5.0",
          "state": {
            "_view_name": "StyleView",
            "_model_name": "DescriptionStyleModel",
            "description_width": "",
            "_view_module": "@jupyter-widgets/base",
            "_model_module_version": "1.5.0",
            "_view_count": null,
            "_view_module_version": "1.2.0",
            "_model_module": "@jupyter-widgets/controls"
          }
        },
        "684c03111abc46a88f8d591b6313567c": {
          "model_module": "@jupyter-widgets/base",
          "model_name": "LayoutModel",
          "model_module_version": "1.2.0",
          "state": {
            "_view_name": "LayoutView",
            "grid_template_rows": null,
            "right": null,
            "justify_content": null,
            "_view_module": "@jupyter-widgets/base",
            "overflow": null,
            "_model_module_version": "1.2.0",
            "_view_count": null,
            "flex_flow": null,
            "width": null,
            "min_width": null,
            "border": null,
            "align_items": null,
            "bottom": null,
            "_model_module": "@jupyter-widgets/base",
            "top": null,
            "grid_column": null,
            "overflow_y": null,
            "overflow_x": null,
            "grid_auto_flow": null,
            "grid_area": null,
            "grid_template_columns": null,
            "flex": null,
            "_model_name": "LayoutModel",
            "justify_items": null,
            "grid_row": null,
            "max_height": null,
            "align_content": null,
            "visibility": null,
            "align_self": null,
            "height": null,
            "min_height": null,
            "padding": null,
            "grid_auto_rows": null,
            "grid_gap": null,
            "max_width": null,
            "order": null,
            "_view_module_version": "1.2.0",
            "grid_template_areas": null,
            "object_position": null,
            "object_fit": null,
            "grid_auto_columns": null,
            "margin": null,
            "display": null,
            "left": null
          }
        },
        "5235bbd39f604cc99681375b9edc2a29": {
          "model_module": "@jupyter-widgets/controls",
          "model_name": "ProgressStyleModel",
          "model_module_version": "1.5.0",
          "state": {
            "_view_name": "StyleView",
            "_model_name": "ProgressStyleModel",
            "description_width": "",
            "_view_module": "@jupyter-widgets/base",
            "_model_module_version": "1.5.0",
            "_view_count": null,
            "_view_module_version": "1.2.0",
            "bar_color": null,
            "_model_module": "@jupyter-widgets/controls"
          }
        },
        "93bf7840bde144d0aeabaa3c863f246d": {
          "model_module": "@jupyter-widgets/base",
          "model_name": "LayoutModel",
          "model_module_version": "1.2.0",
          "state": {
            "_view_name": "LayoutView",
            "grid_template_rows": null,
            "right": null,
            "justify_content": null,
            "_view_module": "@jupyter-widgets/base",
            "overflow": null,
            "_model_module_version": "1.2.0",
            "_view_count": null,
            "flex_flow": null,
            "width": null,
            "min_width": null,
            "border": null,
            "align_items": null,
            "bottom": null,
            "_model_module": "@jupyter-widgets/base",
            "top": null,
            "grid_column": null,
            "overflow_y": null,
            "overflow_x": null,
            "grid_auto_flow": null,
            "grid_area": null,
            "grid_template_columns": null,
            "flex": null,
            "_model_name": "LayoutModel",
            "justify_items": null,
            "grid_row": null,
            "max_height": null,
            "align_content": null,
            "visibility": null,
            "align_self": null,
            "height": null,
            "min_height": null,
            "padding": null,
            "grid_auto_rows": null,
            "grid_gap": null,
            "max_width": null,
            "order": null,
            "_view_module_version": "1.2.0",
            "grid_template_areas": null,
            "object_position": null,
            "object_fit": null,
            "grid_auto_columns": null,
            "margin": null,
            "display": null,
            "left": null
          }
        },
        "a4cffd9ad3744deb973a36e2bd7e1199": {
          "model_module": "@jupyter-widgets/controls",
          "model_name": "DescriptionStyleModel",
          "model_module_version": "1.5.0",
          "state": {
            "_view_name": "StyleView",
            "_model_name": "DescriptionStyleModel",
            "description_width": "",
            "_view_module": "@jupyter-widgets/base",
            "_model_module_version": "1.5.0",
            "_view_count": null,
            "_view_module_version": "1.2.0",
            "_model_module": "@jupyter-widgets/controls"
          }
        },
        "d776f56f7800493fbf4897e3b6d036df": {
          "model_module": "@jupyter-widgets/base",
          "model_name": "LayoutModel",
          "model_module_version": "1.2.0",
          "state": {
            "_view_name": "LayoutView",
            "grid_template_rows": null,
            "right": null,
            "justify_content": null,
            "_view_module": "@jupyter-widgets/base",
            "overflow": null,
            "_model_module_version": "1.2.0",
            "_view_count": null,
            "flex_flow": null,
            "width": null,
            "min_width": null,
            "border": null,
            "align_items": null,
            "bottom": null,
            "_model_module": "@jupyter-widgets/base",
            "top": null,
            "grid_column": null,
            "overflow_y": null,
            "overflow_x": null,
            "grid_auto_flow": null,
            "grid_area": null,
            "grid_template_columns": null,
            "flex": null,
            "_model_name": "LayoutModel",
            "justify_items": null,
            "grid_row": null,
            "max_height": null,
            "align_content": null,
            "visibility": null,
            "align_self": null,
            "height": null,
            "min_height": null,
            "padding": null,
            "grid_auto_rows": null,
            "grid_gap": null,
            "max_width": null,
            "order": null,
            "_view_module_version": "1.2.0",
            "grid_template_areas": null,
            "object_position": null,
            "object_fit": null,
            "grid_auto_columns": null,
            "margin": null,
            "display": null,
            "left": null
          }
        },
        "82e049fada514f789d151724d7822bb6": {
          "model_module": "@jupyter-widgets/controls",
          "model_name": "HBoxModel",
          "model_module_version": "1.5.0",
          "state": {
            "_view_name": "HBoxView",
            "_dom_classes": [],
            "_model_name": "HBoxModel",
            "_view_module": "@jupyter-widgets/controls",
            "_model_module_version": "1.5.0",
            "_view_count": null,
            "_view_module_version": "1.5.0",
            "box_style": "",
            "layout": "IPY_MODEL_d9bc4ecc20d14f3887dfc7df84838b65",
            "_model_module": "@jupyter-widgets/controls",
            "children": [
              "IPY_MODEL_0d44335343ee402e8421c85b6f0e252a",
              "IPY_MODEL_3b3b468a803f470998fb52b6b05c6a12",
              "IPY_MODEL_8c8ec3d01b654838b5e1a6fb7b5aaab6"
            ]
          }
        },
        "d9bc4ecc20d14f3887dfc7df84838b65": {
          "model_module": "@jupyter-widgets/base",
          "model_name": "LayoutModel",
          "model_module_version": "1.2.0",
          "state": {
            "_view_name": "LayoutView",
            "grid_template_rows": null,
            "right": null,
            "justify_content": null,
            "_view_module": "@jupyter-widgets/base",
            "overflow": null,
            "_model_module_version": "1.2.0",
            "_view_count": null,
            "flex_flow": null,
            "width": null,
            "min_width": null,
            "border": null,
            "align_items": null,
            "bottom": null,
            "_model_module": "@jupyter-widgets/base",
            "top": null,
            "grid_column": null,
            "overflow_y": null,
            "overflow_x": null,
            "grid_auto_flow": null,
            "grid_area": null,
            "grid_template_columns": null,
            "flex": null,
            "_model_name": "LayoutModel",
            "justify_items": null,
            "grid_row": null,
            "max_height": null,
            "align_content": null,
            "visibility": null,
            "align_self": null,
            "height": null,
            "min_height": null,
            "padding": null,
            "grid_auto_rows": null,
            "grid_gap": null,
            "max_width": null,
            "order": null,
            "_view_module_version": "1.2.0",
            "grid_template_areas": null,
            "object_position": null,
            "object_fit": null,
            "grid_auto_columns": null,
            "margin": null,
            "display": null,
            "left": null
          }
        },
        "0d44335343ee402e8421c85b6f0e252a": {
          "model_module": "@jupyter-widgets/controls",
          "model_name": "HTMLModel",
          "model_module_version": "1.5.0",
          "state": {
            "_view_name": "HTMLView",
            "style": "IPY_MODEL_2e231126949c47b286ed9972be314efc",
            "_dom_classes": [],
            "description": "",
            "_model_name": "HTMLModel",
            "placeholder": "​",
            "_view_module": "@jupyter-widgets/controls",
            "_model_module_version": "1.5.0",
            "value": "Downloading: 100%",
            "_view_count": null,
            "_view_module_version": "1.5.0",
            "description_tooltip": null,
            "_model_module": "@jupyter-widgets/controls",
            "layout": "IPY_MODEL_0cba4ed5642b4665a60f59ddfeb41546"
          }
        },
        "3b3b468a803f470998fb52b6b05c6a12": {
          "model_module": "@jupyter-widgets/controls",
          "model_name": "FloatProgressModel",
          "model_module_version": "1.5.0",
          "state": {
            "_view_name": "ProgressView",
            "style": "IPY_MODEL_aad345b7931646d3befe17e31fec5ebd",
            "_dom_classes": [],
            "description": "",
            "_model_name": "FloatProgressModel",
            "bar_style": "success",
            "max": 496308209,
            "_view_module": "@jupyter-widgets/controls",
            "_model_module_version": "1.5.0",
            "value": 496308209,
            "_view_count": null,
            "_view_module_version": "1.5.0",
            "orientation": "horizontal",
            "min": 0,
            "description_tooltip": null,
            "_model_module": "@jupyter-widgets/controls",
            "layout": "IPY_MODEL_6369b95d430a455b995935242a7c2cb2"
          }
        },
        "8c8ec3d01b654838b5e1a6fb7b5aaab6": {
          "model_module": "@jupyter-widgets/controls",
          "model_name": "HTMLModel",
          "model_module_version": "1.5.0",
          "state": {
            "_view_name": "HTMLView",
            "style": "IPY_MODEL_5093c89150da4a89b6dc00f08f80b8ed",
            "_dom_classes": [],
            "description": "",
            "_model_name": "HTMLModel",
            "placeholder": "​",
            "_view_module": "@jupyter-widgets/controls",
            "_model_module_version": "1.5.0",
            "value": " 496M/496M [00:27&lt;00:00, 10.6MB/s]",
            "_view_count": null,
            "_view_module_version": "1.5.0",
            "description_tooltip": null,
            "_model_module": "@jupyter-widgets/controls",
            "layout": "IPY_MODEL_9696f070f58c46d293fb1e3a79355d9b"
          }
        },
        "2e231126949c47b286ed9972be314efc": {
          "model_module": "@jupyter-widgets/controls",
          "model_name": "DescriptionStyleModel",
          "model_module_version": "1.5.0",
          "state": {
            "_view_name": "StyleView",
            "_model_name": "DescriptionStyleModel",
            "description_width": "",
            "_view_module": "@jupyter-widgets/base",
            "_model_module_version": "1.5.0",
            "_view_count": null,
            "_view_module_version": "1.2.0",
            "_model_module": "@jupyter-widgets/controls"
          }
        },
        "0cba4ed5642b4665a60f59ddfeb41546": {
          "model_module": "@jupyter-widgets/base",
          "model_name": "LayoutModel",
          "model_module_version": "1.2.0",
          "state": {
            "_view_name": "LayoutView",
            "grid_template_rows": null,
            "right": null,
            "justify_content": null,
            "_view_module": "@jupyter-widgets/base",
            "overflow": null,
            "_model_module_version": "1.2.0",
            "_view_count": null,
            "flex_flow": null,
            "width": null,
            "min_width": null,
            "border": null,
            "align_items": null,
            "bottom": null,
            "_model_module": "@jupyter-widgets/base",
            "top": null,
            "grid_column": null,
            "overflow_y": null,
            "overflow_x": null,
            "grid_auto_flow": null,
            "grid_area": null,
            "grid_template_columns": null,
            "flex": null,
            "_model_name": "LayoutModel",
            "justify_items": null,
            "grid_row": null,
            "max_height": null,
            "align_content": null,
            "visibility": null,
            "align_self": null,
            "height": null,
            "min_height": null,
            "padding": null,
            "grid_auto_rows": null,
            "grid_gap": null,
            "max_width": null,
            "order": null,
            "_view_module_version": "1.2.0",
            "grid_template_areas": null,
            "object_position": null,
            "object_fit": null,
            "grid_auto_columns": null,
            "margin": null,
            "display": null,
            "left": null
          }
        },
        "aad345b7931646d3befe17e31fec5ebd": {
          "model_module": "@jupyter-widgets/controls",
          "model_name": "ProgressStyleModel",
          "model_module_version": "1.5.0",
          "state": {
            "_view_name": "StyleView",
            "_model_name": "ProgressStyleModel",
            "description_width": "",
            "_view_module": "@jupyter-widgets/base",
            "_model_module_version": "1.5.0",
            "_view_count": null,
            "_view_module_version": "1.2.0",
            "bar_color": null,
            "_model_module": "@jupyter-widgets/controls"
          }
        },
        "6369b95d430a455b995935242a7c2cb2": {
          "model_module": "@jupyter-widgets/base",
          "model_name": "LayoutModel",
          "model_module_version": "1.2.0",
          "state": {
            "_view_name": "LayoutView",
            "grid_template_rows": null,
            "right": null,
            "justify_content": null,
            "_view_module": "@jupyter-widgets/base",
            "overflow": null,
            "_model_module_version": "1.2.0",
            "_view_count": null,
            "flex_flow": null,
            "width": null,
            "min_width": null,
            "border": null,
            "align_items": null,
            "bottom": null,
            "_model_module": "@jupyter-widgets/base",
            "top": null,
            "grid_column": null,
            "overflow_y": null,
            "overflow_x": null,
            "grid_auto_flow": null,
            "grid_area": null,
            "grid_template_columns": null,
            "flex": null,
            "_model_name": "LayoutModel",
            "justify_items": null,
            "grid_row": null,
            "max_height": null,
            "align_content": null,
            "visibility": null,
            "align_self": null,
            "height": null,
            "min_height": null,
            "padding": null,
            "grid_auto_rows": null,
            "grid_gap": null,
            "max_width": null,
            "order": null,
            "_view_module_version": "1.2.0",
            "grid_template_areas": null,
            "object_position": null,
            "object_fit": null,
            "grid_auto_columns": null,
            "margin": null,
            "display": null,
            "left": null
          }
        },
        "5093c89150da4a89b6dc00f08f80b8ed": {
          "model_module": "@jupyter-widgets/controls",
          "model_name": "DescriptionStyleModel",
          "model_module_version": "1.5.0",
          "state": {
            "_view_name": "StyleView",
            "_model_name": "DescriptionStyleModel",
            "description_width": "",
            "_view_module": "@jupyter-widgets/base",
            "_model_module_version": "1.5.0",
            "_view_count": null,
            "_view_module_version": "1.2.0",
            "_model_module": "@jupyter-widgets/controls"
          }
        },
        "9696f070f58c46d293fb1e3a79355d9b": {
          "model_module": "@jupyter-widgets/base",
          "model_name": "LayoutModel",
          "model_module_version": "1.2.0",
          "state": {
            "_view_name": "LayoutView",
            "grid_template_rows": null,
            "right": null,
            "justify_content": null,
            "_view_module": "@jupyter-widgets/base",
            "overflow": null,
            "_model_module_version": "1.2.0",
            "_view_count": null,
            "flex_flow": null,
            "width": null,
            "min_width": null,
            "border": null,
            "align_items": null,
            "bottom": null,
            "_model_module": "@jupyter-widgets/base",
            "top": null,
            "grid_column": null,
            "overflow_y": null,
            "overflow_x": null,
            "grid_auto_flow": null,
            "grid_area": null,
            "grid_template_columns": null,
            "flex": null,
            "_model_name": "LayoutModel",
            "justify_items": null,
            "grid_row": null,
            "max_height": null,
            "align_content": null,
            "visibility": null,
            "align_self": null,
            "height": null,
            "min_height": null,
            "padding": null,
            "grid_auto_rows": null,
            "grid_gap": null,
            "max_width": null,
            "order": null,
            "_view_module_version": "1.2.0",
            "grid_template_areas": null,
            "object_position": null,
            "object_fit": null,
            "grid_auto_columns": null,
            "margin": null,
            "display": null,
            "left": null
          }
        },
        "f1da97901a4b48e2aead7f706da1eca7": {
          "model_module": "@jupyter-widgets/controls",
          "model_name": "HBoxModel",
          "model_module_version": "1.5.0",
          "state": {
            "_view_name": "HBoxView",
            "_dom_classes": [],
            "_model_name": "HBoxModel",
            "_view_module": "@jupyter-widgets/controls",
            "_model_module_version": "1.5.0",
            "_view_count": null,
            "_view_module_version": "1.5.0",
            "box_style": "",
            "layout": "IPY_MODEL_6c64c4c5358047d29253509fb2262a75",
            "_model_module": "@jupyter-widgets/controls",
            "children": [
              "IPY_MODEL_0cf2d6ee6a8543efb59680a5addaf48e",
              "IPY_MODEL_8a68beb646554dfeac81951e7beddc80",
              "IPY_MODEL_d2234ac02abd4c9d9d77de042cac7516"
            ]
          }
        },
        "6c64c4c5358047d29253509fb2262a75": {
          "model_module": "@jupyter-widgets/base",
          "model_name": "LayoutModel",
          "model_module_version": "1.2.0",
          "state": {
            "_view_name": "LayoutView",
            "grid_template_rows": null,
            "right": null,
            "justify_content": null,
            "_view_module": "@jupyter-widgets/base",
            "overflow": null,
            "_model_module_version": "1.2.0",
            "_view_count": null,
            "flex_flow": null,
            "width": null,
            "min_width": null,
            "border": null,
            "align_items": null,
            "bottom": null,
            "_model_module": "@jupyter-widgets/base",
            "top": null,
            "grid_column": null,
            "overflow_y": null,
            "overflow_x": null,
            "grid_auto_flow": null,
            "grid_area": null,
            "grid_template_columns": null,
            "flex": null,
            "_model_name": "LayoutModel",
            "justify_items": null,
            "grid_row": null,
            "max_height": null,
            "align_content": null,
            "visibility": null,
            "align_self": null,
            "height": null,
            "min_height": null,
            "padding": null,
            "grid_auto_rows": null,
            "grid_gap": null,
            "max_width": null,
            "order": null,
            "_view_module_version": "1.2.0",
            "grid_template_areas": null,
            "object_position": null,
            "object_fit": null,
            "grid_auto_columns": null,
            "margin": null,
            "display": null,
            "left": null
          }
        },
        "0cf2d6ee6a8543efb59680a5addaf48e": {
          "model_module": "@jupyter-widgets/controls",
          "model_name": "HTMLModel",
          "model_module_version": "1.5.0",
          "state": {
            "_view_name": "HTMLView",
            "style": "IPY_MODEL_6951e6e5a58348d8807cee512794852d",
            "_dom_classes": [],
            "description": "",
            "_model_name": "HTMLModel",
            "placeholder": "​",
            "_view_module": "@jupyter-widgets/controls",
            "_model_module_version": "1.5.0",
            "value": "Downloading: 100%",
            "_view_count": null,
            "_view_module_version": "1.5.0",
            "description_tooltip": null,
            "_model_module": "@jupyter-widgets/controls",
            "layout": "IPY_MODEL_398efe8f0e3b4f4e904cd628f8e197a8"
          }
        },
        "8a68beb646554dfeac81951e7beddc80": {
          "model_module": "@jupyter-widgets/controls",
          "model_name": "FloatProgressModel",
          "model_module_version": "1.5.0",
          "state": {
            "_view_name": "ProgressView",
            "style": "IPY_MODEL_c8c2a69373894931b25b83dd999696ae",
            "_dom_classes": [],
            "description": "",
            "_model_name": "FloatProgressModel",
            "bar_style": "success",
            "max": 798293,
            "_view_module": "@jupyter-widgets/controls",
            "_model_module_version": "1.5.0",
            "value": 798293,
            "_view_count": null,
            "_view_module_version": "1.5.0",
            "orientation": "horizontal",
            "min": 0,
            "description_tooltip": null,
            "_model_module": "@jupyter-widgets/controls",
            "layout": "IPY_MODEL_28bb60f35e1541bfbd08cef21a720057"
          }
        },
        "d2234ac02abd4c9d9d77de042cac7516": {
          "model_module": "@jupyter-widgets/controls",
          "model_name": "HTMLModel",
          "model_module_version": "1.5.0",
          "state": {
            "_view_name": "HTMLView",
            "style": "IPY_MODEL_45894301e0424422a5b96c869cbb96f2",
            "_dom_classes": [],
            "description": "",
            "_model_name": "HTMLModel",
            "placeholder": "​",
            "_view_module": "@jupyter-widgets/controls",
            "_model_module_version": "1.5.0",
            "value": " 798k/798k [00:01&lt;00:00, 1.17MB/s]",
            "_view_count": null,
            "_view_module_version": "1.5.0",
            "description_tooltip": null,
            "_model_module": "@jupyter-widgets/controls",
            "layout": "IPY_MODEL_bd59156c98854dabb7a51aa38268d026"
          }
        },
        "6951e6e5a58348d8807cee512794852d": {
          "model_module": "@jupyter-widgets/controls",
          "model_name": "DescriptionStyleModel",
          "model_module_version": "1.5.0",
          "state": {
            "_view_name": "StyleView",
            "_model_name": "DescriptionStyleModel",
            "description_width": "",
            "_view_module": "@jupyter-widgets/base",
            "_model_module_version": "1.5.0",
            "_view_count": null,
            "_view_module_version": "1.2.0",
            "_model_module": "@jupyter-widgets/controls"
          }
        },
        "398efe8f0e3b4f4e904cd628f8e197a8": {
          "model_module": "@jupyter-widgets/base",
          "model_name": "LayoutModel",
          "model_module_version": "1.2.0",
          "state": {
            "_view_name": "LayoutView",
            "grid_template_rows": null,
            "right": null,
            "justify_content": null,
            "_view_module": "@jupyter-widgets/base",
            "overflow": null,
            "_model_module_version": "1.2.0",
            "_view_count": null,
            "flex_flow": null,
            "width": null,
            "min_width": null,
            "border": null,
            "align_items": null,
            "bottom": null,
            "_model_module": "@jupyter-widgets/base",
            "top": null,
            "grid_column": null,
            "overflow_y": null,
            "overflow_x": null,
            "grid_auto_flow": null,
            "grid_area": null,
            "grid_template_columns": null,
            "flex": null,
            "_model_name": "LayoutModel",
            "justify_items": null,
            "grid_row": null,
            "max_height": null,
            "align_content": null,
            "visibility": null,
            "align_self": null,
            "height": null,
            "min_height": null,
            "padding": null,
            "grid_auto_rows": null,
            "grid_gap": null,
            "max_width": null,
            "order": null,
            "_view_module_version": "1.2.0",
            "grid_template_areas": null,
            "object_position": null,
            "object_fit": null,
            "grid_auto_columns": null,
            "margin": null,
            "display": null,
            "left": null
          }
        },
        "c8c2a69373894931b25b83dd999696ae": {
          "model_module": "@jupyter-widgets/controls",
          "model_name": "ProgressStyleModel",
          "model_module_version": "1.5.0",
          "state": {
            "_view_name": "StyleView",
            "_model_name": "ProgressStyleModel",
            "description_width": "",
            "_view_module": "@jupyter-widgets/base",
            "_model_module_version": "1.5.0",
            "_view_count": null,
            "_view_module_version": "1.2.0",
            "bar_color": null,
            "_model_module": "@jupyter-widgets/controls"
          }
        },
        "28bb60f35e1541bfbd08cef21a720057": {
          "model_module": "@jupyter-widgets/base",
          "model_name": "LayoutModel",
          "model_module_version": "1.2.0",
          "state": {
            "_view_name": "LayoutView",
            "grid_template_rows": null,
            "right": null,
            "justify_content": null,
            "_view_module": "@jupyter-widgets/base",
            "overflow": null,
            "_model_module_version": "1.2.0",
            "_view_count": null,
            "flex_flow": null,
            "width": null,
            "min_width": null,
            "border": null,
            "align_items": null,
            "bottom": null,
            "_model_module": "@jupyter-widgets/base",
            "top": null,
            "grid_column": null,
            "overflow_y": null,
            "overflow_x": null,
            "grid_auto_flow": null,
            "grid_area": null,
            "grid_template_columns": null,
            "flex": null,
            "_model_name": "LayoutModel",
            "justify_items": null,
            "grid_row": null,
            "max_height": null,
            "align_content": null,
            "visibility": null,
            "align_self": null,
            "height": null,
            "min_height": null,
            "padding": null,
            "grid_auto_rows": null,
            "grid_gap": null,
            "max_width": null,
            "order": null,
            "_view_module_version": "1.2.0",
            "grid_template_areas": null,
            "object_position": null,
            "object_fit": null,
            "grid_auto_columns": null,
            "margin": null,
            "display": null,
            "left": null
          }
        },
        "45894301e0424422a5b96c869cbb96f2": {
          "model_module": "@jupyter-widgets/controls",
          "model_name": "DescriptionStyleModel",
          "model_module_version": "1.5.0",
          "state": {
            "_view_name": "StyleView",
            "_model_name": "DescriptionStyleModel",
            "description_width": "",
            "_view_module": "@jupyter-widgets/base",
            "_model_module_version": "1.5.0",
            "_view_count": null,
            "_view_module_version": "1.2.0",
            "_model_module": "@jupyter-widgets/controls"
          }
        },
        "bd59156c98854dabb7a51aa38268d026": {
          "model_module": "@jupyter-widgets/base",
          "model_name": "LayoutModel",
          "model_module_version": "1.2.0",
          "state": {
            "_view_name": "LayoutView",
            "grid_template_rows": null,
            "right": null,
            "justify_content": null,
            "_view_module": "@jupyter-widgets/base",
            "overflow": null,
            "_model_module_version": "1.2.0",
            "_view_count": null,
            "flex_flow": null,
            "width": null,
            "min_width": null,
            "border": null,
            "align_items": null,
            "bottom": null,
            "_model_module": "@jupyter-widgets/base",
            "top": null,
            "grid_column": null,
            "overflow_y": null,
            "overflow_x": null,
            "grid_auto_flow": null,
            "grid_area": null,
            "grid_template_columns": null,
            "flex": null,
            "_model_name": "LayoutModel",
            "justify_items": null,
            "grid_row": null,
            "max_height": null,
            "align_content": null,
            "visibility": null,
            "align_self": null,
            "height": null,
            "min_height": null,
            "padding": null,
            "grid_auto_rows": null,
            "grid_gap": null,
            "max_width": null,
            "order": null,
            "_view_module_version": "1.2.0",
            "grid_template_areas": null,
            "object_position": null,
            "object_fit": null,
            "grid_auto_columns": null,
            "margin": null,
            "display": null,
            "left": null
          }
        },
        "36f5612d7973462d8c01e3ce05cc8a7a": {
          "model_module": "@jupyter-widgets/controls",
          "model_name": "HBoxModel",
          "model_module_version": "1.5.0",
          "state": {
            "_view_name": "HBoxView",
            "_dom_classes": [],
            "_model_name": "HBoxModel",
            "_view_module": "@jupyter-widgets/controls",
            "_model_module_version": "1.5.0",
            "_view_count": null,
            "_view_module_version": "1.5.0",
            "box_style": "",
            "layout": "IPY_MODEL_508a06c331b243d694f2409b925fc0c6",
            "_model_module": "@jupyter-widgets/controls",
            "children": [
              "IPY_MODEL_5ec512e0d632464fb129087cef674c3d",
              "IPY_MODEL_61dc9fe91e6a40bcabe99b86001428b4",
              "IPY_MODEL_9d8a0db02b2b40b4911be51689e0ea36"
            ]
          }
        },
        "508a06c331b243d694f2409b925fc0c6": {
          "model_module": "@jupyter-widgets/base",
          "model_name": "LayoutModel",
          "model_module_version": "1.2.0",
          "state": {
            "_view_name": "LayoutView",
            "grid_template_rows": null,
            "right": null,
            "justify_content": null,
            "_view_module": "@jupyter-widgets/base",
            "overflow": null,
            "_model_module_version": "1.2.0",
            "_view_count": null,
            "flex_flow": null,
            "width": null,
            "min_width": null,
            "border": null,
            "align_items": null,
            "bottom": null,
            "_model_module": "@jupyter-widgets/base",
            "top": null,
            "grid_column": null,
            "overflow_y": null,
            "overflow_x": null,
            "grid_auto_flow": null,
            "grid_area": null,
            "grid_template_columns": null,
            "flex": null,
            "_model_name": "LayoutModel",
            "justify_items": null,
            "grid_row": null,
            "max_height": null,
            "align_content": null,
            "visibility": null,
            "align_self": null,
            "height": null,
            "min_height": null,
            "padding": null,
            "grid_auto_rows": null,
            "grid_gap": null,
            "max_width": null,
            "order": null,
            "_view_module_version": "1.2.0",
            "grid_template_areas": null,
            "object_position": null,
            "object_fit": null,
            "grid_auto_columns": null,
            "margin": null,
            "display": null,
            "left": null
          }
        },
        "5ec512e0d632464fb129087cef674c3d": {
          "model_module": "@jupyter-widgets/controls",
          "model_name": "HTMLModel",
          "model_module_version": "1.5.0",
          "state": {
            "_view_name": "HTMLView",
            "style": "IPY_MODEL_2d11f97ef31a4e628195ef5f6fe3af25",
            "_dom_classes": [],
            "description": "",
            "_model_name": "HTMLModel",
            "placeholder": "​",
            "_view_module": "@jupyter-widgets/controls",
            "_model_module_version": "1.5.0",
            "value": "Downloading: 100%",
            "_view_count": null,
            "_view_module_version": "1.5.0",
            "description_tooltip": null,
            "_model_module": "@jupyter-widgets/controls",
            "layout": "IPY_MODEL_d7b3fa90ce2349ac919f8dc793f509b3"
          }
        },
        "61dc9fe91e6a40bcabe99b86001428b4": {
          "model_module": "@jupyter-widgets/controls",
          "model_name": "FloatProgressModel",
          "model_module_version": "1.5.0",
          "state": {
            "_view_name": "ProgressView",
            "style": "IPY_MODEL_07fddec807014cf597ede4d216c7d890",
            "_dom_classes": [],
            "description": "",
            "_model_name": "FloatProgressModel",
            "bar_style": "success",
            "max": 456356,
            "_view_module": "@jupyter-widgets/controls",
            "_model_module_version": "1.5.0",
            "value": 456356,
            "_view_count": null,
            "_view_module_version": "1.5.0",
            "orientation": "horizontal",
            "min": 0,
            "description_tooltip": null,
            "_model_module": "@jupyter-widgets/controls",
            "layout": "IPY_MODEL_1a62846340ee493793ca74572a879c8c"
          }
        },
        "9d8a0db02b2b40b4911be51689e0ea36": {
          "model_module": "@jupyter-widgets/controls",
          "model_name": "HTMLModel",
          "model_module_version": "1.5.0",
          "state": {
            "_view_name": "HTMLView",
            "style": "IPY_MODEL_11c90c24935d4ffca0ca8e097d3bd8fb",
            "_dom_classes": [],
            "description": "",
            "_model_name": "HTMLModel",
            "placeholder": "​",
            "_view_module": "@jupyter-widgets/controls",
            "_model_module_version": "1.5.0",
            "value": " 456k/456k [00:00&lt;00:00, 632kB/s]",
            "_view_count": null,
            "_view_module_version": "1.5.0",
            "description_tooltip": null,
            "_model_module": "@jupyter-widgets/controls",
            "layout": "IPY_MODEL_e4477d53ca4b428294e41aa3c7cc125b"
          }
        },
        "2d11f97ef31a4e628195ef5f6fe3af25": {
          "model_module": "@jupyter-widgets/controls",
          "model_name": "DescriptionStyleModel",
          "model_module_version": "1.5.0",
          "state": {
            "_view_name": "StyleView",
            "_model_name": "DescriptionStyleModel",
            "description_width": "",
            "_view_module": "@jupyter-widgets/base",
            "_model_module_version": "1.5.0",
            "_view_count": null,
            "_view_module_version": "1.2.0",
            "_model_module": "@jupyter-widgets/controls"
          }
        },
        "d7b3fa90ce2349ac919f8dc793f509b3": {
          "model_module": "@jupyter-widgets/base",
          "model_name": "LayoutModel",
          "model_module_version": "1.2.0",
          "state": {
            "_view_name": "LayoutView",
            "grid_template_rows": null,
            "right": null,
            "justify_content": null,
            "_view_module": "@jupyter-widgets/base",
            "overflow": null,
            "_model_module_version": "1.2.0",
            "_view_count": null,
            "flex_flow": null,
            "width": null,
            "min_width": null,
            "border": null,
            "align_items": null,
            "bottom": null,
            "_model_module": "@jupyter-widgets/base",
            "top": null,
            "grid_column": null,
            "overflow_y": null,
            "overflow_x": null,
            "grid_auto_flow": null,
            "grid_area": null,
            "grid_template_columns": null,
            "flex": null,
            "_model_name": "LayoutModel",
            "justify_items": null,
            "grid_row": null,
            "max_height": null,
            "align_content": null,
            "visibility": null,
            "align_self": null,
            "height": null,
            "min_height": null,
            "padding": null,
            "grid_auto_rows": null,
            "grid_gap": null,
            "max_width": null,
            "order": null,
            "_view_module_version": "1.2.0",
            "grid_template_areas": null,
            "object_position": null,
            "object_fit": null,
            "grid_auto_columns": null,
            "margin": null,
            "display": null,
            "left": null
          }
        },
        "07fddec807014cf597ede4d216c7d890": {
          "model_module": "@jupyter-widgets/controls",
          "model_name": "ProgressStyleModel",
          "model_module_version": "1.5.0",
          "state": {
            "_view_name": "StyleView",
            "_model_name": "ProgressStyleModel",
            "description_width": "",
            "_view_module": "@jupyter-widgets/base",
            "_model_module_version": "1.5.0",
            "_view_count": null,
            "_view_module_version": "1.2.0",
            "bar_color": null,
            "_model_module": "@jupyter-widgets/controls"
          }
        },
        "1a62846340ee493793ca74572a879c8c": {
          "model_module": "@jupyter-widgets/base",
          "model_name": "LayoutModel",
          "model_module_version": "1.2.0",
          "state": {
            "_view_name": "LayoutView",
            "grid_template_rows": null,
            "right": null,
            "justify_content": null,
            "_view_module": "@jupyter-widgets/base",
            "overflow": null,
            "_model_module_version": "1.2.0",
            "_view_count": null,
            "flex_flow": null,
            "width": null,
            "min_width": null,
            "border": null,
            "align_items": null,
            "bottom": null,
            "_model_module": "@jupyter-widgets/base",
            "top": null,
            "grid_column": null,
            "overflow_y": null,
            "overflow_x": null,
            "grid_auto_flow": null,
            "grid_area": null,
            "grid_template_columns": null,
            "flex": null,
            "_model_name": "LayoutModel",
            "justify_items": null,
            "grid_row": null,
            "max_height": null,
            "align_content": null,
            "visibility": null,
            "align_self": null,
            "height": null,
            "min_height": null,
            "padding": null,
            "grid_auto_rows": null,
            "grid_gap": null,
            "max_width": null,
            "order": null,
            "_view_module_version": "1.2.0",
            "grid_template_areas": null,
            "object_position": null,
            "object_fit": null,
            "grid_auto_columns": null,
            "margin": null,
            "display": null,
            "left": null
          }
        },
        "11c90c24935d4ffca0ca8e097d3bd8fb": {
          "model_module": "@jupyter-widgets/controls",
          "model_name": "DescriptionStyleModel",
          "model_module_version": "1.5.0",
          "state": {
            "_view_name": "StyleView",
            "_model_name": "DescriptionStyleModel",
            "description_width": "",
            "_view_module": "@jupyter-widgets/base",
            "_model_module_version": "1.5.0",
            "_view_count": null,
            "_view_module_version": "1.2.0",
            "_model_module": "@jupyter-widgets/controls"
          }
        },
        "e4477d53ca4b428294e41aa3c7cc125b": {
          "model_module": "@jupyter-widgets/base",
          "model_name": "LayoutModel",
          "model_module_version": "1.2.0",
          "state": {
            "_view_name": "LayoutView",
            "grid_template_rows": null,
            "right": null,
            "justify_content": null,
            "_view_module": "@jupyter-widgets/base",
            "overflow": null,
            "_model_module_version": "1.2.0",
            "_view_count": null,
            "flex_flow": null,
            "width": null,
            "min_width": null,
            "border": null,
            "align_items": null,
            "bottom": null,
            "_model_module": "@jupyter-widgets/base",
            "top": null,
            "grid_column": null,
            "overflow_y": null,
            "overflow_x": null,
            "grid_auto_flow": null,
            "grid_area": null,
            "grid_template_columns": null,
            "flex": null,
            "_model_name": "LayoutModel",
            "justify_items": null,
            "grid_row": null,
            "max_height": null,
            "align_content": null,
            "visibility": null,
            "align_self": null,
            "height": null,
            "min_height": null,
            "padding": null,
            "grid_auto_rows": null,
            "grid_gap": null,
            "max_width": null,
            "order": null,
            "_view_module_version": "1.2.0",
            "grid_template_areas": null,
            "object_position": null,
            "object_fit": null,
            "grid_auto_columns": null,
            "margin": null,
            "display": null,
            "left": null
          }
        },
        "fefc3a193b8c459f9cfc1ee3ba60f91a": {
          "model_module": "@jupyter-widgets/controls",
          "model_name": "HBoxModel",
          "model_module_version": "1.5.0",
          "state": {
            "_view_name": "HBoxView",
            "_dom_classes": [],
            "_model_name": "HBoxModel",
            "_view_module": "@jupyter-widgets/controls",
            "_model_module_version": "1.5.0",
            "_view_count": null,
            "_view_module_version": "1.5.0",
            "box_style": "",
            "layout": "IPY_MODEL_983cc80430174ee08ff35065e8b5354e",
            "_model_module": "@jupyter-widgets/controls",
            "children": [
              "IPY_MODEL_c28c759c912d48bd817c0de3601231b1",
              "IPY_MODEL_1a69610b196a4ed7aa706314c4b7eb8a",
              "IPY_MODEL_7bb95ef7fe384ca282fa80fba819dbf3"
            ]
          }
        },
        "983cc80430174ee08ff35065e8b5354e": {
          "model_module": "@jupyter-widgets/base",
          "model_name": "LayoutModel",
          "model_module_version": "1.2.0",
          "state": {
            "_view_name": "LayoutView",
            "grid_template_rows": null,
            "right": null,
            "justify_content": null,
            "_view_module": "@jupyter-widgets/base",
            "overflow": null,
            "_model_module_version": "1.2.0",
            "_view_count": null,
            "flex_flow": null,
            "width": null,
            "min_width": null,
            "border": null,
            "align_items": null,
            "bottom": null,
            "_model_module": "@jupyter-widgets/base",
            "top": null,
            "grid_column": null,
            "overflow_y": null,
            "overflow_x": null,
            "grid_auto_flow": null,
            "grid_area": null,
            "grid_template_columns": null,
            "flex": null,
            "_model_name": "LayoutModel",
            "justify_items": null,
            "grid_row": null,
            "max_height": null,
            "align_content": null,
            "visibility": null,
            "align_self": null,
            "height": null,
            "min_height": null,
            "padding": null,
            "grid_auto_rows": null,
            "grid_gap": null,
            "max_width": null,
            "order": null,
            "_view_module_version": "1.2.0",
            "grid_template_areas": null,
            "object_position": null,
            "object_fit": null,
            "grid_auto_columns": null,
            "margin": null,
            "display": null,
            "left": null
          }
        },
        "c28c759c912d48bd817c0de3601231b1": {
          "model_module": "@jupyter-widgets/controls",
          "model_name": "HTMLModel",
          "model_module_version": "1.5.0",
          "state": {
            "_view_name": "HTMLView",
            "style": "IPY_MODEL_4f3f3ada0d2b4994bb035780e0da4beb",
            "_dom_classes": [],
            "description": "",
            "_model_name": "HTMLModel",
            "placeholder": "​",
            "_view_module": "@jupyter-widgets/controls",
            "_model_module_version": "1.5.0",
            "value": "Downloading: 100%",
            "_view_count": null,
            "_view_module_version": "1.5.0",
            "description_tooltip": null,
            "_model_module": "@jupyter-widgets/controls",
            "layout": "IPY_MODEL_749c75d6b0d24fe3a16ea074306a41b6"
          }
        },
        "1a69610b196a4ed7aa706314c4b7eb8a": {
          "model_module": "@jupyter-widgets/controls",
          "model_name": "FloatProgressModel",
          "model_module_version": "1.5.0",
          "state": {
            "_view_name": "ProgressView",
            "style": "IPY_MODEL_6a9ca73fb19d4736bfa9306575d4f380",
            "_dom_classes": [],
            "description": "",
            "_model_name": "FloatProgressModel",
            "bar_style": "success",
            "max": 1356042,
            "_view_module": "@jupyter-widgets/controls",
            "_model_module_version": "1.5.0",
            "value": 1356042,
            "_view_count": null,
            "_view_module_version": "1.5.0",
            "orientation": "horizontal",
            "min": 0,
            "description_tooltip": null,
            "_model_module": "@jupyter-widgets/controls",
            "layout": "IPY_MODEL_486917e46e824d9ead63fc4c44022498"
          }
        },
        "7bb95ef7fe384ca282fa80fba819dbf3": {
          "model_module": "@jupyter-widgets/controls",
          "model_name": "HTMLModel",
          "model_module_version": "1.5.0",
          "state": {
            "_view_name": "HTMLView",
            "style": "IPY_MODEL_8e6341f337ea4126a3cc2c32ec4379f7",
            "_dom_classes": [],
            "description": "",
            "_model_name": "HTMLModel",
            "placeholder": "​",
            "_view_module": "@jupyter-widgets/controls",
            "_model_module_version": "1.5.0",
            "value": " 1.36M/1.36M [00:01&lt;00:00, 1.19MB/s]",
            "_view_count": null,
            "_view_module_version": "1.5.0",
            "description_tooltip": null,
            "_model_module": "@jupyter-widgets/controls",
            "layout": "IPY_MODEL_a89f035e1a6841c79c89c695f8f35bb5"
          }
        },
        "4f3f3ada0d2b4994bb035780e0da4beb": {
          "model_module": "@jupyter-widgets/controls",
          "model_name": "DescriptionStyleModel",
          "model_module_version": "1.5.0",
          "state": {
            "_view_name": "StyleView",
            "_model_name": "DescriptionStyleModel",
            "description_width": "",
            "_view_module": "@jupyter-widgets/base",
            "_model_module_version": "1.5.0",
            "_view_count": null,
            "_view_module_version": "1.2.0",
            "_model_module": "@jupyter-widgets/controls"
          }
        },
        "749c75d6b0d24fe3a16ea074306a41b6": {
          "model_module": "@jupyter-widgets/base",
          "model_name": "LayoutModel",
          "model_module_version": "1.2.0",
          "state": {
            "_view_name": "LayoutView",
            "grid_template_rows": null,
            "right": null,
            "justify_content": null,
            "_view_module": "@jupyter-widgets/base",
            "overflow": null,
            "_model_module_version": "1.2.0",
            "_view_count": null,
            "flex_flow": null,
            "width": null,
            "min_width": null,
            "border": null,
            "align_items": null,
            "bottom": null,
            "_model_module": "@jupyter-widgets/base",
            "top": null,
            "grid_column": null,
            "overflow_y": null,
            "overflow_x": null,
            "grid_auto_flow": null,
            "grid_area": null,
            "grid_template_columns": null,
            "flex": null,
            "_model_name": "LayoutModel",
            "justify_items": null,
            "grid_row": null,
            "max_height": null,
            "align_content": null,
            "visibility": null,
            "align_self": null,
            "height": null,
            "min_height": null,
            "padding": null,
            "grid_auto_rows": null,
            "grid_gap": null,
            "max_width": null,
            "order": null,
            "_view_module_version": "1.2.0",
            "grid_template_areas": null,
            "object_position": null,
            "object_fit": null,
            "grid_auto_columns": null,
            "margin": null,
            "display": null,
            "left": null
          }
        },
        "6a9ca73fb19d4736bfa9306575d4f380": {
          "model_module": "@jupyter-widgets/controls",
          "model_name": "ProgressStyleModel",
          "model_module_version": "1.5.0",
          "state": {
            "_view_name": "StyleView",
            "_model_name": "ProgressStyleModel",
            "description_width": "",
            "_view_module": "@jupyter-widgets/base",
            "_model_module_version": "1.5.0",
            "_view_count": null,
            "_view_module_version": "1.2.0",
            "bar_color": null,
            "_model_module": "@jupyter-widgets/controls"
          }
        },
        "486917e46e824d9ead63fc4c44022498": {
          "model_module": "@jupyter-widgets/base",
          "model_name": "LayoutModel",
          "model_module_version": "1.2.0",
          "state": {
            "_view_name": "LayoutView",
            "grid_template_rows": null,
            "right": null,
            "justify_content": null,
            "_view_module": "@jupyter-widgets/base",
            "overflow": null,
            "_model_module_version": "1.2.0",
            "_view_count": null,
            "flex_flow": null,
            "width": null,
            "min_width": null,
            "border": null,
            "align_items": null,
            "bottom": null,
            "_model_module": "@jupyter-widgets/base",
            "top": null,
            "grid_column": null,
            "overflow_y": null,
            "overflow_x": null,
            "grid_auto_flow": null,
            "grid_area": null,
            "grid_template_columns": null,
            "flex": null,
            "_model_name": "LayoutModel",
            "justify_items": null,
            "grid_row": null,
            "max_height": null,
            "align_content": null,
            "visibility": null,
            "align_self": null,
            "height": null,
            "min_height": null,
            "padding": null,
            "grid_auto_rows": null,
            "grid_gap": null,
            "max_width": null,
            "order": null,
            "_view_module_version": "1.2.0",
            "grid_template_areas": null,
            "object_position": null,
            "object_fit": null,
            "grid_auto_columns": null,
            "margin": null,
            "display": null,
            "left": null
          }
        },
        "8e6341f337ea4126a3cc2c32ec4379f7": {
          "model_module": "@jupyter-widgets/controls",
          "model_name": "DescriptionStyleModel",
          "model_module_version": "1.5.0",
          "state": {
            "_view_name": "StyleView",
            "_model_name": "DescriptionStyleModel",
            "description_width": "",
            "_view_module": "@jupyter-widgets/base",
            "_model_module_version": "1.5.0",
            "_view_count": null,
            "_view_module_version": "1.2.0",
            "_model_module": "@jupyter-widgets/controls"
          }
        },
        "a89f035e1a6841c79c89c695f8f35bb5": {
          "model_module": "@jupyter-widgets/base",
          "model_name": "LayoutModel",
          "model_module_version": "1.2.0",
          "state": {
            "_view_name": "LayoutView",
            "grid_template_rows": null,
            "right": null,
            "justify_content": null,
            "_view_module": "@jupyter-widgets/base",
            "overflow": null,
            "_model_module_version": "1.2.0",
            "_view_count": null,
            "flex_flow": null,
            "width": null,
            "min_width": null,
            "border": null,
            "align_items": null,
            "bottom": null,
            "_model_module": "@jupyter-widgets/base",
            "top": null,
            "grid_column": null,
            "overflow_y": null,
            "overflow_x": null,
            "grid_auto_flow": null,
            "grid_area": null,
            "grid_template_columns": null,
            "flex": null,
            "_model_name": "LayoutModel",
            "justify_items": null,
            "grid_row": null,
            "max_height": null,
            "align_content": null,
            "visibility": null,
            "align_self": null,
            "height": null,
            "min_height": null,
            "padding": null,
            "grid_auto_rows": null,
            "grid_gap": null,
            "max_width": null,
            "order": null,
            "_view_module_version": "1.2.0",
            "grid_template_areas": null,
            "object_position": null,
            "object_fit": null,
            "grid_auto_columns": null,
            "margin": null,
            "display": null,
            "left": null
          }
        },
        "a37c1dc869eb4a658abbafb66410f061": {
          "model_module": "@jupyter-widgets/controls",
          "model_name": "HBoxModel",
          "model_module_version": "1.5.0",
          "state": {
            "_view_name": "HBoxView",
            "_dom_classes": [],
            "_model_name": "HBoxModel",
            "_view_module": "@jupyter-widgets/controls",
            "_model_module_version": "1.5.0",
            "_view_count": null,
            "_view_module_version": "1.5.0",
            "box_style": "",
            "layout": "IPY_MODEL_6dda665e71e24ef8ac128dc295875c5f",
            "_model_module": "@jupyter-widgets/controls",
            "children": [
              "IPY_MODEL_102d9112749f47de9c738e622ed9f1b7",
              "IPY_MODEL_e0e9650ee0424835b7d50f121dc39528",
              "IPY_MODEL_d86296a16aa54361b409e5372e29cca6"
            ]
          }
        },
        "6dda665e71e24ef8ac128dc295875c5f": {
          "model_module": "@jupyter-widgets/base",
          "model_name": "LayoutModel",
          "model_module_version": "1.2.0",
          "state": {
            "_view_name": "LayoutView",
            "grid_template_rows": null,
            "right": null,
            "justify_content": null,
            "_view_module": "@jupyter-widgets/base",
            "overflow": null,
            "_model_module_version": "1.2.0",
            "_view_count": null,
            "flex_flow": null,
            "width": null,
            "min_width": null,
            "border": null,
            "align_items": null,
            "bottom": null,
            "_model_module": "@jupyter-widgets/base",
            "top": null,
            "grid_column": null,
            "overflow_y": null,
            "overflow_x": null,
            "grid_auto_flow": null,
            "grid_area": null,
            "grid_template_columns": null,
            "flex": null,
            "_model_name": "LayoutModel",
            "justify_items": null,
            "grid_row": null,
            "max_height": null,
            "align_content": null,
            "visibility": null,
            "align_self": null,
            "height": null,
            "min_height": null,
            "padding": null,
            "grid_auto_rows": null,
            "grid_gap": null,
            "max_width": null,
            "order": null,
            "_view_module_version": "1.2.0",
            "grid_template_areas": null,
            "object_position": null,
            "object_fit": null,
            "grid_auto_columns": null,
            "margin": null,
            "display": null,
            "left": null
          }
        },
        "102d9112749f47de9c738e622ed9f1b7": {
          "model_module": "@jupyter-widgets/controls",
          "model_name": "HTMLModel",
          "model_module_version": "1.5.0",
          "state": {
            "_view_name": "HTMLView",
            "style": "IPY_MODEL_440a01e9a98f43738c3ed0fa043b5cbb",
            "_dom_classes": [],
            "description": "",
            "_model_name": "HTMLModel",
            "placeholder": "​",
            "_view_module": "@jupyter-widgets/controls",
            "_model_module_version": "1.5.0",
            "value": "Downloading: 100%",
            "_view_count": null,
            "_view_module_version": "1.5.0",
            "description_tooltip": null,
            "_model_module": "@jupyter-widgets/controls",
            "layout": "IPY_MODEL_0fc8ae05159b4445b256372e6b6efb0f"
          }
        },
        "e0e9650ee0424835b7d50f121dc39528": {
          "model_module": "@jupyter-widgets/controls",
          "model_name": "FloatProgressModel",
          "model_module_version": "1.5.0",
          "state": {
            "_view_name": "ProgressView",
            "style": "IPY_MODEL_8135193660274a17b2a02b5c3e560172",
            "_dom_classes": [],
            "description": "",
            "_model_name": "FloatProgressModel",
            "bar_style": "success",
            "max": 772,
            "_view_module": "@jupyter-widgets/controls",
            "_model_module_version": "1.5.0",
            "value": 772,
            "_view_count": null,
            "_view_module_version": "1.5.0",
            "orientation": "horizontal",
            "min": 0,
            "description_tooltip": null,
            "_model_module": "@jupyter-widgets/controls",
            "layout": "IPY_MODEL_b78b31ac24e340a59d0982005912048a"
          }
        },
        "d86296a16aa54361b409e5372e29cca6": {
          "model_module": "@jupyter-widgets/controls",
          "model_name": "HTMLModel",
          "model_module_version": "1.5.0",
          "state": {
            "_view_name": "HTMLView",
            "style": "IPY_MODEL_1241e37a3d0f4bee817dbf993bbcaa01",
            "_dom_classes": [],
            "description": "",
            "_model_name": "HTMLModel",
            "placeholder": "​",
            "_view_module": "@jupyter-widgets/controls",
            "_model_module_version": "1.5.0",
            "value": " 772/772 [00:00&lt;00:00, 17.0kB/s]",
            "_view_count": null,
            "_view_module_version": "1.5.0",
            "description_tooltip": null,
            "_model_module": "@jupyter-widgets/controls",
            "layout": "IPY_MODEL_9c96ba9819e545a38bd7f3d698626181"
          }
        },
        "440a01e9a98f43738c3ed0fa043b5cbb": {
          "model_module": "@jupyter-widgets/controls",
          "model_name": "DescriptionStyleModel",
          "model_module_version": "1.5.0",
          "state": {
            "_view_name": "StyleView",
            "_model_name": "DescriptionStyleModel",
            "description_width": "",
            "_view_module": "@jupyter-widgets/base",
            "_model_module_version": "1.5.0",
            "_view_count": null,
            "_view_module_version": "1.2.0",
            "_model_module": "@jupyter-widgets/controls"
          }
        },
        "0fc8ae05159b4445b256372e6b6efb0f": {
          "model_module": "@jupyter-widgets/base",
          "model_name": "LayoutModel",
          "model_module_version": "1.2.0",
          "state": {
            "_view_name": "LayoutView",
            "grid_template_rows": null,
            "right": null,
            "justify_content": null,
            "_view_module": "@jupyter-widgets/base",
            "overflow": null,
            "_model_module_version": "1.2.0",
            "_view_count": null,
            "flex_flow": null,
            "width": null,
            "min_width": null,
            "border": null,
            "align_items": null,
            "bottom": null,
            "_model_module": "@jupyter-widgets/base",
            "top": null,
            "grid_column": null,
            "overflow_y": null,
            "overflow_x": null,
            "grid_auto_flow": null,
            "grid_area": null,
            "grid_template_columns": null,
            "flex": null,
            "_model_name": "LayoutModel",
            "justify_items": null,
            "grid_row": null,
            "max_height": null,
            "align_content": null,
            "visibility": null,
            "align_self": null,
            "height": null,
            "min_height": null,
            "padding": null,
            "grid_auto_rows": null,
            "grid_gap": null,
            "max_width": null,
            "order": null,
            "_view_module_version": "1.2.0",
            "grid_template_areas": null,
            "object_position": null,
            "object_fit": null,
            "grid_auto_columns": null,
            "margin": null,
            "display": null,
            "left": null
          }
        },
        "8135193660274a17b2a02b5c3e560172": {
          "model_module": "@jupyter-widgets/controls",
          "model_name": "ProgressStyleModel",
          "model_module_version": "1.5.0",
          "state": {
            "_view_name": "StyleView",
            "_model_name": "ProgressStyleModel",
            "description_width": "",
            "_view_module": "@jupyter-widgets/base",
            "_model_module_version": "1.5.0",
            "_view_count": null,
            "_view_module_version": "1.2.0",
            "bar_color": null,
            "_model_module": "@jupyter-widgets/controls"
          }
        },
        "b78b31ac24e340a59d0982005912048a": {
          "model_module": "@jupyter-widgets/base",
          "model_name": "LayoutModel",
          "model_module_version": "1.2.0",
          "state": {
            "_view_name": "LayoutView",
            "grid_template_rows": null,
            "right": null,
            "justify_content": null,
            "_view_module": "@jupyter-widgets/base",
            "overflow": null,
            "_model_module_version": "1.2.0",
            "_view_count": null,
            "flex_flow": null,
            "width": null,
            "min_width": null,
            "border": null,
            "align_items": null,
            "bottom": null,
            "_model_module": "@jupyter-widgets/base",
            "top": null,
            "grid_column": null,
            "overflow_y": null,
            "overflow_x": null,
            "grid_auto_flow": null,
            "grid_area": null,
            "grid_template_columns": null,
            "flex": null,
            "_model_name": "LayoutModel",
            "justify_items": null,
            "grid_row": null,
            "max_height": null,
            "align_content": null,
            "visibility": null,
            "align_self": null,
            "height": null,
            "min_height": null,
            "padding": null,
            "grid_auto_rows": null,
            "grid_gap": null,
            "max_width": null,
            "order": null,
            "_view_module_version": "1.2.0",
            "grid_template_areas": null,
            "object_position": null,
            "object_fit": null,
            "grid_auto_columns": null,
            "margin": null,
            "display": null,
            "left": null
          }
        },
        "1241e37a3d0f4bee817dbf993bbcaa01": {
          "model_module": "@jupyter-widgets/controls",
          "model_name": "DescriptionStyleModel",
          "model_module_version": "1.5.0",
          "state": {
            "_view_name": "StyleView",
            "_model_name": "DescriptionStyleModel",
            "description_width": "",
            "_view_module": "@jupyter-widgets/base",
            "_model_module_version": "1.5.0",
            "_view_count": null,
            "_view_module_version": "1.2.0",
            "_model_module": "@jupyter-widgets/controls"
          }
        },
        "9c96ba9819e545a38bd7f3d698626181": {
          "model_module": "@jupyter-widgets/base",
          "model_name": "LayoutModel",
          "model_module_version": "1.2.0",
          "state": {
            "_view_name": "LayoutView",
            "grid_template_rows": null,
            "right": null,
            "justify_content": null,
            "_view_module": "@jupyter-widgets/base",
            "overflow": null,
            "_model_module_version": "1.2.0",
            "_view_count": null,
            "flex_flow": null,
            "width": null,
            "min_width": null,
            "border": null,
            "align_items": null,
            "bottom": null,
            "_model_module": "@jupyter-widgets/base",
            "top": null,
            "grid_column": null,
            "overflow_y": null,
            "overflow_x": null,
            "grid_auto_flow": null,
            "grid_area": null,
            "grid_template_columns": null,
            "flex": null,
            "_model_name": "LayoutModel",
            "justify_items": null,
            "grid_row": null,
            "max_height": null,
            "align_content": null,
            "visibility": null,
            "align_self": null,
            "height": null,
            "min_height": null,
            "padding": null,
            "grid_auto_rows": null,
            "grid_gap": null,
            "max_width": null,
            "order": null,
            "_view_module_version": "1.2.0",
            "grid_template_areas": null,
            "object_position": null,
            "object_fit": null,
            "grid_auto_columns": null,
            "margin": null,
            "display": null,
            "left": null
          }
        },
        "fefc7afefd8a4997bcb8d7bf645bbef0": {
          "model_module": "@jupyter-widgets/controls",
          "model_name": "HBoxModel",
          "model_module_version": "1.5.0",
          "state": {
            "_view_name": "HBoxView",
            "_dom_classes": [],
            "_model_name": "HBoxModel",
            "_view_module": "@jupyter-widgets/controls",
            "_model_module_version": "1.5.0",
            "_view_count": null,
            "_view_module_version": "1.5.0",
            "box_style": "",
            "layout": "IPY_MODEL_ee453dc499d94d6b8d9e652cb2468f73",
            "_model_module": "@jupyter-widgets/controls",
            "children": [
              "IPY_MODEL_7b8d8d4a6a524978963e534c1a9ee953",
              "IPY_MODEL_6af3c37cae6a4a71a2ccbdffa67bf5d7",
              "IPY_MODEL_7898923bfe9b40df8f0f5faffc0f37f8"
            ]
          }
        },
        "ee453dc499d94d6b8d9e652cb2468f73": {
          "model_module": "@jupyter-widgets/base",
          "model_name": "LayoutModel",
          "model_module_version": "1.2.0",
          "state": {
            "_view_name": "LayoutView",
            "grid_template_rows": null,
            "right": null,
            "justify_content": null,
            "_view_module": "@jupyter-widgets/base",
            "overflow": null,
            "_model_module_version": "1.2.0",
            "_view_count": null,
            "flex_flow": null,
            "width": null,
            "min_width": null,
            "border": null,
            "align_items": null,
            "bottom": null,
            "_model_module": "@jupyter-widgets/base",
            "top": null,
            "grid_column": null,
            "overflow_y": null,
            "overflow_x": null,
            "grid_auto_flow": null,
            "grid_area": null,
            "grid_template_columns": null,
            "flex": null,
            "_model_name": "LayoutModel",
            "justify_items": null,
            "grid_row": null,
            "max_height": null,
            "align_content": null,
            "visibility": null,
            "align_self": null,
            "height": null,
            "min_height": null,
            "padding": null,
            "grid_auto_rows": null,
            "grid_gap": null,
            "max_width": null,
            "order": null,
            "_view_module_version": "1.2.0",
            "grid_template_areas": null,
            "object_position": null,
            "object_fit": null,
            "grid_auto_columns": null,
            "margin": null,
            "display": null,
            "left": null
          }
        },
        "7b8d8d4a6a524978963e534c1a9ee953": {
          "model_module": "@jupyter-widgets/controls",
          "model_name": "HTMLModel",
          "model_module_version": "1.5.0",
          "state": {
            "_view_name": "HTMLView",
            "style": "IPY_MODEL_361ae77a856e424d8b2629a7e549ac3c",
            "_dom_classes": [],
            "description": "",
            "_model_name": "HTMLModel",
            "placeholder": "​",
            "_view_module": "@jupyter-widgets/controls",
            "_model_module_version": "1.5.0",
            "value": "Downloading: 100%",
            "_view_count": null,
            "_view_module_version": "1.5.0",
            "description_tooltip": null,
            "_model_module": "@jupyter-widgets/controls",
            "layout": "IPY_MODEL_4322b8a6330543758eeb3177d19b380b"
          }
        },
        "6af3c37cae6a4a71a2ccbdffa67bf5d7": {
          "model_module": "@jupyter-widgets/controls",
          "model_name": "FloatProgressModel",
          "model_module_version": "1.5.0",
          "state": {
            "_view_name": "ProgressView",
            "style": "IPY_MODEL_22deb53beb5e451199ccfee391d58341",
            "_dom_classes": [],
            "description": "",
            "_model_name": "FloatProgressModel",
            "bar_style": "success",
            "max": 1350,
            "_view_module": "@jupyter-widgets/controls",
            "_model_module_version": "1.5.0",
            "value": 1350,
            "_view_count": null,
            "_view_module_version": "1.5.0",
            "orientation": "horizontal",
            "min": 0,
            "description_tooltip": null,
            "_model_module": "@jupyter-widgets/controls",
            "layout": "IPY_MODEL_9585eea4d00f478aa460fda6682778ca"
          }
        },
        "7898923bfe9b40df8f0f5faffc0f37f8": {
          "model_module": "@jupyter-widgets/controls",
          "model_name": "HTMLModel",
          "model_module_version": "1.5.0",
          "state": {
            "_view_name": "HTMLView",
            "style": "IPY_MODEL_8504f001abb744a1bf3196dcac0e6283",
            "_dom_classes": [],
            "description": "",
            "_model_name": "HTMLModel",
            "placeholder": "​",
            "_view_module": "@jupyter-widgets/controls",
            "_model_module_version": "1.5.0",
            "value": " 1.35k/1.35k [00:00&lt;00:00, 31.9kB/s]",
            "_view_count": null,
            "_view_module_version": "1.5.0",
            "description_tooltip": null,
            "_model_module": "@jupyter-widgets/controls",
            "layout": "IPY_MODEL_4411608c400f4b648cc03318359c6334"
          }
        },
        "361ae77a856e424d8b2629a7e549ac3c": {
          "model_module": "@jupyter-widgets/controls",
          "model_name": "DescriptionStyleModel",
          "model_module_version": "1.5.0",
          "state": {
            "_view_name": "StyleView",
            "_model_name": "DescriptionStyleModel",
            "description_width": "",
            "_view_module": "@jupyter-widgets/base",
            "_model_module_version": "1.5.0",
            "_view_count": null,
            "_view_module_version": "1.2.0",
            "_model_module": "@jupyter-widgets/controls"
          }
        },
        "4322b8a6330543758eeb3177d19b380b": {
          "model_module": "@jupyter-widgets/base",
          "model_name": "LayoutModel",
          "model_module_version": "1.2.0",
          "state": {
            "_view_name": "LayoutView",
            "grid_template_rows": null,
            "right": null,
            "justify_content": null,
            "_view_module": "@jupyter-widgets/base",
            "overflow": null,
            "_model_module_version": "1.2.0",
            "_view_count": null,
            "flex_flow": null,
            "width": null,
            "min_width": null,
            "border": null,
            "align_items": null,
            "bottom": null,
            "_model_module": "@jupyter-widgets/base",
            "top": null,
            "grid_column": null,
            "overflow_y": null,
            "overflow_x": null,
            "grid_auto_flow": null,
            "grid_area": null,
            "grid_template_columns": null,
            "flex": null,
            "_model_name": "LayoutModel",
            "justify_items": null,
            "grid_row": null,
            "max_height": null,
            "align_content": null,
            "visibility": null,
            "align_self": null,
            "height": null,
            "min_height": null,
            "padding": null,
            "grid_auto_rows": null,
            "grid_gap": null,
            "max_width": null,
            "order": null,
            "_view_module_version": "1.2.0",
            "grid_template_areas": null,
            "object_position": null,
            "object_fit": null,
            "grid_auto_columns": null,
            "margin": null,
            "display": null,
            "left": null
          }
        },
        "22deb53beb5e451199ccfee391d58341": {
          "model_module": "@jupyter-widgets/controls",
          "model_name": "ProgressStyleModel",
          "model_module_version": "1.5.0",
          "state": {
            "_view_name": "StyleView",
            "_model_name": "ProgressStyleModel",
            "description_width": "",
            "_view_module": "@jupyter-widgets/base",
            "_model_module_version": "1.5.0",
            "_view_count": null,
            "_view_module_version": "1.2.0",
            "bar_color": null,
            "_model_module": "@jupyter-widgets/controls"
          }
        },
        "9585eea4d00f478aa460fda6682778ca": {
          "model_module": "@jupyter-widgets/base",
          "model_name": "LayoutModel",
          "model_module_version": "1.2.0",
          "state": {
            "_view_name": "LayoutView",
            "grid_template_rows": null,
            "right": null,
            "justify_content": null,
            "_view_module": "@jupyter-widgets/base",
            "overflow": null,
            "_model_module_version": "1.2.0",
            "_view_count": null,
            "flex_flow": null,
            "width": null,
            "min_width": null,
            "border": null,
            "align_items": null,
            "bottom": null,
            "_model_module": "@jupyter-widgets/base",
            "top": null,
            "grid_column": null,
            "overflow_y": null,
            "overflow_x": null,
            "grid_auto_flow": null,
            "grid_area": null,
            "grid_template_columns": null,
            "flex": null,
            "_model_name": "LayoutModel",
            "justify_items": null,
            "grid_row": null,
            "max_height": null,
            "align_content": null,
            "visibility": null,
            "align_self": null,
            "height": null,
            "min_height": null,
            "padding": null,
            "grid_auto_rows": null,
            "grid_gap": null,
            "max_width": null,
            "order": null,
            "_view_module_version": "1.2.0",
            "grid_template_areas": null,
            "object_position": null,
            "object_fit": null,
            "grid_auto_columns": null,
            "margin": null,
            "display": null,
            "left": null
          }
        },
        "8504f001abb744a1bf3196dcac0e6283": {
          "model_module": "@jupyter-widgets/controls",
          "model_name": "DescriptionStyleModel",
          "model_module_version": "1.5.0",
          "state": {
            "_view_name": "StyleView",
            "_model_name": "DescriptionStyleModel",
            "description_width": "",
            "_view_module": "@jupyter-widgets/base",
            "_model_module_version": "1.5.0",
            "_view_count": null,
            "_view_module_version": "1.2.0",
            "_model_module": "@jupyter-widgets/controls"
          }
        },
        "4411608c400f4b648cc03318359c6334": {
          "model_module": "@jupyter-widgets/base",
          "model_name": "LayoutModel",
          "model_module_version": "1.2.0",
          "state": {
            "_view_name": "LayoutView",
            "grid_template_rows": null,
            "right": null,
            "justify_content": null,
            "_view_module": "@jupyter-widgets/base",
            "overflow": null,
            "_model_module_version": "1.2.0",
            "_view_count": null,
            "flex_flow": null,
            "width": null,
            "min_width": null,
            "border": null,
            "align_items": null,
            "bottom": null,
            "_model_module": "@jupyter-widgets/base",
            "top": null,
            "grid_column": null,
            "overflow_y": null,
            "overflow_x": null,
            "grid_auto_flow": null,
            "grid_area": null,
            "grid_template_columns": null,
            "flex": null,
            "_model_name": "LayoutModel",
            "justify_items": null,
            "grid_row": null,
            "max_height": null,
            "align_content": null,
            "visibility": null,
            "align_self": null,
            "height": null,
            "min_height": null,
            "padding": null,
            "grid_auto_rows": null,
            "grid_gap": null,
            "max_width": null,
            "order": null,
            "_view_module_version": "1.2.0",
            "grid_template_areas": null,
            "object_position": null,
            "object_fit": null,
            "grid_auto_columns": null,
            "margin": null,
            "display": null,
            "left": null
          }
        }
      }
    },
    "accelerator": "GPU"
  },
  "cells": [
    {
      "cell_type": "markdown",
      "source": [
        "##Problem Statement: "
      ],
      "metadata": {
        "id": "rU_MZAYPUyDT"
      }
    },
    {
      "cell_type": "markdown",
      "source": [
        "Train a model for building a Question Answering Pipeline and build a Haystack extractive QA pipeline for serving requests. Haystack QA pipeline typically consists of a Retriever and a Reader.  The pipeline receives the query and runs it through the components of the pipeline graph and the retriever connects to a datastore (like Elasticsearch or Weaviate) to fetch the relevant data."
      ],
      "metadata": {
        "id": "jv805aJpTuV0"
      }
    },
    {
      "cell_type": "markdown",
      "source": [
        "## Specifications of the Model Used for QA objective <br>\n",
        "Language model: roberta-base <br>\n",
        "Language: English <br>\n",
        "Downstream-task: Extractive QA <br>\n",
        "Training data: SQuAD 2.0 <br>\n",
        "Eval data: SQuAD 2.0 <br>"
      ],
      "metadata": {
        "id": "I7-xflOUS6Mi"
      }
    },
    {
      "cell_type": "code",
      "metadata": {
        "id": "WAyuMVKbc9fm"
      },
      "source": [
        "! pip install datasets transformers\n",
        "! apt install git-lfs"
      ],
      "execution_count": null,
      "outputs": []
    },
    {
      "cell_type": "markdown",
      "source": [
        "## Initialization for Training"
      ],
      "metadata": {
        "id": "1Rua0DB-U7wx"
      }
    },
    {
      "cell_type": "code",
      "source": [
        "from transformers import AutoModelForQuestionAnswering, AutoTokenizer"
      ],
      "metadata": {
        "id": "-7ChvXQiKYzL"
      },
      "execution_count": null,
      "outputs": []
    },
    {
      "cell_type": "code",
      "metadata": {
        "id": "FdoRYRHvb-k7"
      },
      "source": [
        "model_name = 'deepset/roberta-base-squad2'\n",
        "model = AutoModelForQuestionAnswering.from_pretrained(model_name)\n",
        "tokenizer = AutoTokenizer.from_pretrained(model_name)"
      ],
      "execution_count": null,
      "outputs": []
    },
    {
      "cell_type": "markdown",
      "source": [
        "## SELQA Dataset"
      ],
      "metadata": {
        "id": "EZeOWJLvVEbL"
      }
    },
    {
      "cell_type": "markdown",
      "source": [
        "The SelQA dataset provides crowdsourced annotation for two selection-based question answer tasks, answer sentence selection and answer triggering. The dataset composes about 8K factoid questions for the top-10 most prevalent topics among Wikipedia articles. "
      ],
      "metadata": {
        "id": "YvGxT7UGVPGA"
      }
    },
    {
      "cell_type": "code",
      "metadata": {
        "colab": {
          "base_uri": "https://localhost:8080/",
          "height": 104,
          "referenced_widgets": [
            "ff6cb14bbdbb48708d20d8aa4360460e",
            "ce38ea595ffb40e38db6c06e45e9b2e9",
            "2068c24eb42848ce82199645ed998273",
            "40d2ae5f56ea4ddf8f6480f0ad338a72",
            "aa09c354449f477db702a2a95fc73dc6",
            "1a6e340244944d148a2a282899c2dc94",
            "56f73d9533ec47c189e11c90d07a9ee1",
            "da8104aa06954385901ae986ea194fea",
            "6e05812c8e864ecb866c16ceabf8888a",
            "438f1bd727634303b8d0888b9b5cef4f",
            "bb27aff946b040b2b0e32e2e10a1740f"
          ]
        },
        "id": "nbropUKAdTp5",
        "outputId": "828c20ea-7dc9-45b5-99e4-6947a036d926"
      },
      "source": [
        "from datasets import load_dataset, load_metric\n",
        "\n",
        "datasets = load_dataset('selqa')"
      ],
      "execution_count": null,
      "outputs": [
        {
          "output_type": "stream",
          "name": "stderr",
          "text": [
            "No config specified, defaulting to: selqa/answer_selection_analysis\n",
            "Reusing dataset selqa (/root/.cache/huggingface/datasets/selqa/answer_selection_analysis/1.1.0/df32394da83caa47bbdc1df6db7d50432c2d73a25ac35c4ce95514a70c61fa1c)\n"
          ]
        },
        {
          "output_type": "display_data",
          "data": {
            "application/vnd.jupyter.widget-view+json": {
              "model_id": "ff6cb14bbdbb48708d20d8aa4360460e",
              "version_minor": 0,
              "version_major": 2
            },
            "text/plain": [
              "  0%|          | 0/3 [00:00<?, ?it/s]"
            ]
          },
          "metadata": {}
        }
      ]
    },
    {
      "cell_type": "code",
      "metadata": {
        "colab": {
          "base_uri": "https://localhost:8080/"
        },
        "id": "EnXrVLs-ducU",
        "outputId": "175caa8d-88d0-4693-af0a-595ec6bd3a3d"
      },
      "source": [
        "datasets"
      ],
      "execution_count": null,
      "outputs": [
        {
          "output_type": "execute_result",
          "data": {
            "text/plain": [
              "DatasetDict({\n",
              "    train: Dataset({\n",
              "        features: ['section', 'question', 'article', 'is_paraphrase', 'topic', 'answers', 'candidates', 'q_types'],\n",
              "        num_rows: 5529\n",
              "    })\n",
              "    test: Dataset({\n",
              "        features: ['section', 'question', 'article', 'is_paraphrase', 'topic', 'answers', 'candidates', 'q_types'],\n",
              "        num_rows: 1590\n",
              "    })\n",
              "    validation: Dataset({\n",
              "        features: ['section', 'question', 'article', 'is_paraphrase', 'topic', 'answers', 'candidates', 'q_types'],\n",
              "        num_rows: 785\n",
              "    })\n",
              "})"
            ]
          },
          "metadata": {},
          "execution_count": 5
        }
      ]
    },
    {
      "cell_type": "code",
      "metadata": {
        "colab": {
          "base_uri": "https://localhost:8080/"
        },
        "id": "LFqovdbbdv4h",
        "outputId": "3edcd9ec-5f9f-4d97-e666-55a37df45997"
      },
      "source": [
        "datasets['train'][0]"
      ],
      "execution_count": null,
      "outputs": [
        {
          "output_type": "execute_result",
          "data": {
            "text/plain": [
              "{'answers': [4],\n",
              " 'article': 'Table tennis',\n",
              " 'candidates': ['The international rules specify that the game is played with a light 2.7 gram, 40\\xa0mm diameter ball.',\n",
              "  'The rules say that the ball shall bounce up 24–26\\xa0cm when dropped from a height of 30.5\\xa0cm onto a standard steel block thereby having a coefficient of restitution of 0.89 to 0.92.',\n",
              "  'The 40\\xa0mm ball was introduced after the 2000 Olympic Games.',\n",
              "  'However, this created some controversy as the Chinese National Team argued that this was merely to give non-Chinese players a better chance of winning since the new type of balls has a slower speed, while at that time most Chinese players were playing with fast attack and smashes.',\n",
              "  'A 40\\xa0mm table tennis ball is slower and spins less than the original 38\\xa0mm (1.5\\xa0inch) one.',\n",
              "  'The ball is made of a high-bouncing air-filled celluloid or similar plastics material, colored white or orange, with a matte finish.',\n",
              "  'The choice of ball color is made according to the table color and its surroundings.',\n",
              "  'For example, a white ball is easier to see on a green or blue table than it is on a gray table.',\n",
              "  'Some Table Tennis balls have ball rated in stars so that more professional players can know which ball to use.',\n",
              "  'Manufacturers often indicate the quality of the ball with a star-rating system, usually from one to three, three being the highest grade.',\n",
              "  'As this system is not standard across manufacturers, the only way a ball may be used in official competition is upon ITTF approval.',\n",
              "  'The ITTF approval can be seen printed on the ball.'],\n",
              " 'is_paraphrase': False,\n",
              " 'q_types': [],\n",
              " 'question': 'Does a 40mm table tennis ball spin more or less than the original 38mm one?',\n",
              " 'section': 'Ball',\n",
              " 'topic': 4}"
            ]
          },
          "metadata": {},
          "execution_count": 6
        }
      ]
    },
    {
      "cell_type": "markdown",
      "source": [
        "Displaying few records from SELQA"
      ],
      "metadata": {
        "id": "BEKGmq_VVTyF"
      }
    },
    {
      "cell_type": "code",
      "metadata": {
        "id": "m8krgMJggPvi"
      },
      "source": [
        "from datasets import ClassLabel, Sequence\n",
        "import random\n",
        "import pandas as pd\n",
        "from IPython.display import display, HTML\n",
        "\n",
        "def show_random_elements(dataset, num_examples=10):\n",
        "    assert num_examples <= len(dataset), \"Can't pick more elements than there are in the dataset.\"\n",
        "    picks = []\n",
        "    for _ in range(num_examples):\n",
        "        pick = random.randint(0, len(dataset)-1)\n",
        "        while pick in picks:\n",
        "            pick = random.randint(0, len(dataset)-1)\n",
        "        picks.append(pick)\n",
        "    \n",
        "    df = pd.DataFrame(dataset[picks])\n",
        "    for column, typ in dataset.features.items():\n",
        "        if isinstance(typ, ClassLabel):\n",
        "            df[column] = df[column].transform(lambda i: typ.names[i])\n",
        "        elif isinstance(typ, Sequence) and isinstance(typ.feature, ClassLabel):\n",
        "            df[column] = df[column].transform(lambda x: [typ.feature.names[i] for i in x])\n",
        "    display(HTML(df.to_html()))"
      ],
      "execution_count": null,
      "outputs": []
    },
    {
      "cell_type": "code",
      "metadata": {
        "colab": {
          "base_uri": "https://localhost:8080/",
          "height": 1000
        },
        "id": "y4HhpvGsg0wE",
        "outputId": "49bc7742-760a-48d4-aeda-c92c6bfed63f"
      },
      "source": [
        "show_random_elements(datasets[\"train\"])"
      ],
      "execution_count": null,
      "outputs": [
        {
          "output_type": "display_data",
          "data": {
            "text/html": [
              "<table border=\"1\" class=\"dataframe\">\n",
              "  <thead>\n",
              "    <tr style=\"text-align: right;\">\n",
              "      <th></th>\n",
              "      <th>section</th>\n",
              "      <th>question</th>\n",
              "      <th>article</th>\n",
              "      <th>is_paraphrase</th>\n",
              "      <th>topic</th>\n",
              "      <th>answers</th>\n",
              "      <th>candidates</th>\n",
              "      <th>q_types</th>\n",
              "    </tr>\n",
              "  </thead>\n",
              "  <tbody>\n",
              "    <tr>\n",
              "      <th>0</th>\n",
              "      <td>Media usage</td>\n",
              "      <td>What TV series have featured the song \"Rolling in the Deep\"?</td>\n",
              "      <td>Rolling in the Deep</td>\n",
              "      <td>False</td>\n",
              "      <td>MUSIC</td>\n",
              "      <td>[2]</td>\n",
              "      <td>[, \"Rolling in the Deep\" first gained attention when it was used in a trailer for the film \"I Am Number Four\" and in the film itself., It has since been featured in several television series such as in \"90210\" third season, in \"Doctor Who\" sixth series premiere, in \"One Tree Hill\" eighth season, in \"Gossip Girl\" fourth season finale, and in \"The Secret Life of the American Teenager\" fourth season., \"Rolling in the Deep\" was used as the theme song for E4's reality series \"Made in Chelsea\" and appeared in \"So You Think You Can Dance\" eighth season during contestant Mitchell Kelly's solo performance., The instrumental of the song was used in Apple Inc's marketing video for the iPhone 4S., It was also featured in CBC's intro to Game 1 of the hockey 2011 Stanley Cup Finals between the Vancouver Canucks and the Boston Bruins., while the song's instrumentals were played heavily in promos during the 2011 NBA Draft., The song was played in the background during the parade of athletes at the 2012 Summer Olympic Games.]</td>\n",
              "      <td>[what]</td>\n",
              "    </tr>\n",
              "    <tr>\n",
              "      <th>1</th>\n",
              "      <td>Personnel</td>\n",
              "      <td>Who are the songwriters for rolling in the deep, sung by Adele?</td>\n",
              "      <td>Rolling in the Deep</td>\n",
              "      <td>True</td>\n",
              "      <td>MUSIC</td>\n",
              "      <td>[1]</td>\n",
              "      <td>[Vocals – Adele, Songwriting - Paul Epworth &amp; Adele Adkins, Production, bass, acoustic guitar, electric guitar, percussion and backing vocals – Paul Epworth , Mixing – Tom Elmhirst, Mixing assistant – Dan Parry, Recording – Mark Rankin, Piano – Neil Cowley, Drums – Leo Taylor, Mastering – Tom Coyne, Credits adapted from liner notes:]</td>\n",
              "      <td>[who]</td>\n",
              "    </tr>\n",
              "    <tr>\n",
              "      <th>2</th>\n",
              "      <td>Buena Vista Street</td>\n",
              "      <td>When was Buena Vista street open to the public?</td>\n",
              "      <td>Disney California Adventure</td>\n",
              "      <td>False</td>\n",
              "      <td>TRAVEL</td>\n",
              "      <td>[5]</td>\n",
              "      <td>[Buena Vista Street is the first \"themed district\" inside the main entrance of California Adventure Park, taking its name from the Burbank street on which the Walt Disney Studios are located., Guests enter through the main entrance gate, which resembles the landmark Pan-Pacific Auditorium., Buena Vista Street includes an immersive recreation of early 1920s Los Angeles when Walt Disney first arrived with Mission and Art Deco facades housing shops and restaurants., A recreation of Carthay Circle Theater, which showcased the world premiere of \"Snow White and the Seven Dwarfs\" in 1937 sits at the end of the street, serving as the visual anchor for the district., The narrow gauge Red Car Trolley travels from the entry, up Buena Vista Street to Carthay Circle, then down Hollywood Boulevard towards the Tower of Terror., Buena Vista Street was opened to the public on June 15, 2012.]</td>\n",
              "      <td>[when]</td>\n",
              "    </tr>\n",
              "    <tr>\n",
              "      <th>3</th>\n",
              "      <td>Rivalry with Matisse</td>\n",
              "      <td>In what place did Matisse reveal his painting \"Blue Nude\", shocking the public?</td>\n",
              "      <td>Les Demoiselles d'Avignon</td>\n",
              "      <td>True</td>\n",
              "      <td>ART</td>\n",
              "      <td>[9]</td>\n",
              "      <td>[The Salon d'Automne of 1905 brought notoriety and attention to the works of Henri Matisse and the Les Fauves group., The latter gained their name after critic Louis Vauxcelles described their work with the phrase \"Donatello au milieu des fauves!\", (\"Donatello among the wild beasts\"), contrasting the paintings with a Renaissance-type sculpture that shared the room with them., Henri Rousseau (1844–1910), an artist that Picasso knew and admired and who was not a Fauve, had his large jungle scene \"The Hungry Lion Throws Itself on the Antelope\" also hanging near the works by Matisse and which may have had an influence on the particular sarcastic term used in the press., Vauxcelles' comment was printed on 17 October 1905 in the daily newspaper \"Gil Blas\", and passed into popular usage., Although the pictures were widely derided—\"A pot of paint has been flung in the face of the public\", declared the critic Camille Mauclair (1872–1945)—they also attracted some favorable attention., The painting that was singled out for the most attacks was Matisse's \"Woman with a Hat\"; the purchase of this work by Gertrude and Leo Stein had a very positive effect on Matisse, who was suffering demoralization from the bad reception of his work., Matisse's notoriety and preeminence as the leader of the new movement in modern painting continued to build throughout 1906 and 1907, and Matisse attracted a following of artists including Georges Braque (1880–1963), André Derain (1880–1954), Maurice de Vlaminck (1876–1958)., Picasso's work had passed through his Blue period and his Rose period and while he had a considerable following his reputation was tame in comparison to his rival Matisse., To make matters worse Matisse shocked the French public again at the 1907 Société des Artistes Indépendants when he exhibited his painting \"Blue Nude (Souvenir de Biskra),\" completed in early 1907., The \"Blue Nude\" was one of the paintings that would later create an international sensation at the Armory Show of 1913 in New York City., By the spring of 1907 when he began to paint \"Les Demoiselles d'Avignon\", until its completion later in the year, Picasso was vying with Matisse for the preeminent position of being the perceived new leader of Modern painting., Upon its completion the shock and the impact of the painting propelled Picasso into the center of controversy and all but knocked Matisse and Fauvism off the map, virtually ending the movement by the following year., In 1907 Picasso joined the art gallery that had recently been opened in Paris by Daniel-Henry Kahnweiler (1884–1979)., Kahnweiler was a German art historian, art collector who became one of the premier French art dealers of the 20th century., He became prominent in Paris beginning in 1907 for being among the first champions of Pablo Picasso, and especially his painting \"Les Demoiselles d'Avignon.\", Before 1910 Picasso was already being recognized as one of the important leaders of Modern art alongside Henri Matisse who had been the undisputed leader of Fauvism and who was more than ten years older than he was and his contemporaries the Fauvist André Derain and the former Fauvist and fellow Cubist, Georges Braque., In his 1992 essay \"Reflections on Matisse\", the art critic Hilton Kramer wrote, , After the impact of \"Les Demoiselles d'Avignon\", however, Matisse was never again mistaken for an avant-garde incendiary., With the bizarre painting that appalled and electrified the cognoscenti, which understood the \"Les Demoiselles\" was at once a response to Matisse's \"Le bonheur de vivre\" (1905–1906) and an assault upon the tradition from which it derived, Picasso effectively appropriated the role of avant-garde \"wild beast\"—a role that, as far as public opinion was concerned, he was never to relinquish., Kramer goes on to say, , Whereas Matisse had drawn upon a long tradition of European painting—from Giorgione, Poussin, and Watteau to Ingres, Cézanne, and Gauguin—to create a modern version of a pastoral paradise in \"Le bonheur de vivre\", Picasso had turned to an alien tradition of primitive art to create in \"Les Demoiselles\" a netherworld of strange gods and violent emotions., As between the mythological nymphs of \"Le bonheur de vivre\" and the grotesque effigies of \"Les Demoiselles,\" there was no question as to which was the more shocking or more intended to be shocking., Picasso had unleashed a vein of feeling that was to have immense consequences for the art and culture of the modern era while Matisse's ambition came to seem, as he said in his \"Notes of a Painter,\" more \"limited\"—limited that is, to the realm of aesthetic pleasure., There was thus opened up, in the very first decade of the century and in the work of its two greatest artists, the chasm that has continued to divide the art of the modern era down to our own time., \"]</td>\n",
              "      <td>[what]</td>\n",
              "    </tr>\n",
              "    <tr>\n",
              "      <th>4</th>\n",
              "      <td>Abstract</td>\n",
              "      <td>Who produced Cabin in the Woods?</td>\n",
              "      <td>The Cabin in the Woods</td>\n",
              "      <td>False</td>\n",
              "      <td>MOVIES</td>\n",
              "      <td>[0]</td>\n",
              "      <td>[The Cabin in the Woods is a 2012 American satirical horror film directed by Drew Goddard in his directorial debut, produced by Joss Whedon, and written by Whedon and Goddard., The film stars Kristen Connolly, Chris Hemsworth, Anna Hutchison, Fran Kranz, and Jesse Williams., Goddard and Whedon, having worked together previously on \"Buffy the Vampire Slayer\" and \"Angel\", wrote the screenplay in three days, describing it as an attempt to \"revitalize\" the slasher film genre and as a critical satire on torture porn., \"The A.V., Club\", elaborating on this description, wrote, \"Where \"Scream\" put a postmodern twist on slasher films, \"The Cabin In The Woods\" takes on the whole genre and twists even harder..., The script brings to the fore Whedon’s love of subverting clichés while embracing them and teasing out their deeper meaning., \"Filming took place in Vancouver, British Columbia, from March to May 2009 on an estimated budget of $30 million., Scheduled to be released on February 5, 2010, the release was delayed until January 14, 2011 so that the film could be converted into 3D., Metro-Goldwyn-Mayer's financial troubles then delayed the release indefinitely., The distribution rights were bought by Lionsgate in April 2011, who cancelled the planned 3D conversion., The film then premiered on March 9, 2012 at the South by Southwest film festival in Austin, Texas and was released in the United States on April 13, 2012., The film was both a critical and financial success receiving positive reviews, featuring on Metacritic's best films of 2012 list and grossing over $65 million worldwide.]</td>\n",
              "      <td>[who]</td>\n",
              "    </tr>\n",
              "    <tr>\n",
              "      <th>5</th>\n",
              "      <td>Further periodic table extensions</td>\n",
              "      <td>Which scientist theorized that the eighth period of the period table of elements would conform with prior periods?</td>\n",
              "      <td>Periodic table</td>\n",
              "      <td>True</td>\n",
              "      <td>SCIENCE</td>\n",
              "      <td>[1]</td>\n",
              "      <td>[It is unclear whether new elements will continue the pattern of the current periodic table as period 8, or require further adaptations or adjustments., Seaborg expected the eighth period to follow the previously established pattern exactly, so that it would include a two-element s-block for elements 119 and 120, a new g-block for the next 18 elements, and 30 additional elements continuing the current f-, d-, and p-blocks., More recently, physicists such as Pekka Pyykkö have theorized that these additional elements do not follow the Madelung rule, which predicts how electron shells are filled and thus affects the appearance of the present periodic table.]</td>\n",
              "      <td>[]</td>\n",
              "    </tr>\n",
              "    <tr>\n",
              "      <th>6</th>\n",
              "      <td>Layout</td>\n",
              "      <td>What section of the city was probably residential?</td>\n",
              "      <td>Machu Picchu</td>\n",
              "      <td>False</td>\n",
              "      <td>TRAVEL</td>\n",
              "      <td>[7]</td>\n",
              "      <td>[The site is roughly divided into an urban sector and an agricultural sector, as well as the upper town and the lower town., The temples are part of the upper town, the warehouses the lower., The architecture is adapted to the natural form of the mountains., Approximately 200 buildings are arranged on wide parallel terraces around a vast central square that is oriented east-west., The various \"kanchas\" or compounds are long and narrow in order to exploit the terrain., Extensive terraces were used for agriculture and sophisticated channeling systems provided irrigation for the fields., Numerous stone stairways set in the walls allowed access to the different levels across the site., The eastern section of the city was probably residential., The western, separated by the square, was for religious and ceremonial purposes., This section contains the Torreón, the massive tower which may have been used as an observatory., Located in the first zone are the primary archaeological treasures: the \"Intihuatana\", the \"Temple of the Sun\" and the \"Room of the Three Windows\"., These were dedicated to \"Inti\", their sun god and greatest deity., The Popular District, or Residential District, is the place where the lower-class people lived., It includes storage buildings and simple houses., The royalty area, a sector for the nobility, is a group of houses located in rows over a slope; the residence of the Amautas (wise persons) was characterized by its reddish walls, and the zone of the \"Ñustas\" (princesses) had trapezoid-shaped rooms., The Monumental Mausoleum is a carved statue with a vaulted interior and carved drawings., It was used for rites or sacrifices., The Guardhouse is a three-sided building, with one of its long sides opening onto the Terrace of the Ceremonial Rock., The three-sided style of Inca architecture is known as the \"wayrona\" style.]</td>\n",
              "      <td>[what]</td>\n",
              "    </tr>\n",
              "    <tr>\n",
              "      <th>7</th>\n",
              "      <td>Setting and access</td>\n",
              "      <td>In what year were the stones at Stonehenge roped off?</td>\n",
              "      <td>Stonehenge</td>\n",
              "      <td>False</td>\n",
              "      <td>TRAVEL</td>\n",
              "      <td>[0]</td>\n",
              "      <td>[When Stonehenge was first opened to the public it was possible to walk among and even climb on the stones, but the stones were roped off in 1977 as a result of serious erosion., Visitors are no longer permitted to touch the stones, but are able to walk around the monument from a short distance away., English Heritage does, however, permit access during the summer and winter solstice, and the spring and autumn equinox., Additionally, visitors can make special bookings to access the stones throughout the year., The access situation and the proximity of the two roads has drawn widespread criticism, highlighted by a 2006 National Geographic survey., In the survey of conditions at 94 leading World Heritage Sites, 400 conservation and tourism experts ranked Stonehenge 75th in the list of destinations, declaring it to be \"in moderate trouble\"., As motorised traffic increased, the setting of the monument began to be affected by the proximity of the two roads on either side – the A344 to Shrewton on the north side, and the A303 to Winterbourne Stoke to the south., Plans to upgrade the A303 and close the A344 to restore the vista from the stones have been considered since the monument became a World Heritage Site., However, the controversy surrounding expensive re-routing of the roads has led to the scheme being cancelled on multiple occasions., On 6 December 2007, it was announced that extensive plans to build Stonehenge road tunnel under the landscape and create a permanent visitors' centre had been cancelled., On 13 May 2009, the government gave approval for a £25 million scheme to create a smaller visitors' centre and close the A344, although this was dependent on funding and local authority planning consent., On 20 January 2010 Wiltshire Council granted planning permission for a centre to the west and English Heritage confirmed that funds to build it would be available, supported by a £10m grant from the Heritage Lottery Fund., On 23 June 2013 the A344 was closed to begin the work of removing the section of road and grassing it over., The centre, designed by Denton Corker Marshall, opened to the public on 18 December 2013.]</td>\n",
              "      <td>[what]</td>\n",
              "    </tr>\n",
              "    <tr>\n",
              "      <th>8</th>\n",
              "      <td>Sequels and spin-offs</td>\n",
              "      <td>When was \"The Lion King 1½\" released?</td>\n",
              "      <td>The Lion King</td>\n",
              "      <td>False</td>\n",
              "      <td>MOVIES</td>\n",
              "      <td>[5]</td>\n",
              "      <td>[Sequels and spin-offs., Between 1995 and 1999, the characters of Timon and Pumbaa received their own animated show, \"The Lion King's Timon and Pumbaa\", which ran for three seasons and 85 episodes., Ernie Sabella continued to voice Pumbaa, while Timon was voiced by Quinton Flynn and Kevin Schon in addition to Nathan Lane himself., In 1998, a sequel entitled \"\" was released on VHS., The film centers around Simba and Nala's daughter, Kiara, who falls in love with Kovu, a male lion who was raised in a pride of Scar's followers, the Outsiders., 2004 saw the release of another \"Lion King\" film on DVD, \"The Lion King 1½\"., It is a prequel in showing how Timon and Pumbaa met each other, and also a parallel in that it also depicts what the characters were retconned to have done during the events of the original movie.]</td>\n",
              "      <td>[when]</td>\n",
              "    </tr>\n",
              "    <tr>\n",
              "      <th>9</th>\n",
              "      <td>Woody Woodpecker's Kidzone</td>\n",
              "      <td>What attraction is at the end in Woody Woodpecker's Kidzone?</td>\n",
              "      <td>Universal Studios Florida</td>\n",
              "      <td>True</td>\n",
              "      <td>TRAVEL</td>\n",
              "      <td>[7]</td>\n",
              "      <td>[Woody Woodpecker's Kidzone is the park's children's area named after Universal Studios' mascot, Woody Woodpecker., The area was originally part of World Expo, but was divided into its own section with the opening of a junior roller coaster named \"Woody Woodpecker's Nuthouse Coaster\" in 1999., In addition to the junior roller coaster, Woody Woodpecker's Kidzone is home to three attractions and three shows., \"Fievel's Playland\" is a children's playground which includes a spider web to climb and a long water slide., The attraction opened in 1992., A second children's play area opened six years later., Curious George Goes to Town is a play area featuring two large water troughs that dump 500 gallons of water on its visitors every few minutes, and a ball area where guests can shoot soft, foam balls out of cannons., The final attraction is E.T., Adventure which opened in 1990, the ride is a dark ride based on the 1982 hit film \"E.T., the Extra-Terrestrial\"., Woody Woodpecker's Kidzone is home to three shows which are performed multiple times per day., A Day in the Park with Barney is a live, sing-along stage show featuring Barney and his friends., Animal Actors On Location is a 20-minute live stage show featuring trained animals showcasing their talent., StarToons Summer Jam is a live show featuring classic Universal cartoon characters performing to beach party songs., It is the fourth version of the show to be held at the park, the previous three versions being \"StarToons\", in the Production Central area, as well as\"StarToons Character Meet and Greet\" and \"StarToons: 80's Rewind\", also in the Woody Woodpecker's Kidzone area., Guests can purchase food and beverage items from the \"Kidzone Pizza Company\" in Woody Woodpecker's Kidzone., As with the rest of the park, merchandise shops have been designed to offer specific merchandise related to that area's attractions., \"The Barney Store\" and \"E.T., 's Toy Closet\" sell merchandise specific to A Day in the Park with Barney and E.T., Adventure respectively., The \"Universal Cartoon Store\", on the other hand, sells merchandise of various cartoon characters, including Woody Woodpecker and Scooby Doo., On May 28, 2012, the Universal Cartoon Store was replaced with a SpongeBob SquarePants-themed store called SpongeBob StorePants., Ever since then it has been the newest addition to Woody Woodpecker's Kidzone since the Kidzone opened in 1999.]</td>\n",
              "      <td>[what]</td>\n",
              "    </tr>\n",
              "  </tbody>\n",
              "</table>"
            ],
            "text/plain": [
              "<IPython.core.display.HTML object>"
            ]
          },
          "metadata": {}
        }
      ]
    },
    {
      "cell_type": "markdown",
      "source": [
        "##WandB"
      ],
      "metadata": {
        "id": "rfX9B7oNsEPP"
      }
    },
    {
      "cell_type": "markdown",
      "source": [
        "We Coupled Hugging face model training with Weights & Biases. With this we are able to quickly train and monitor models for full traceability and reproducibility without any extra line of code"
      ],
      "metadata": {
        "id": "HzCWSfjDVcS4"
      }
    },
    {
      "cell_type": "markdown",
      "source": [
        "W&B integration with 🤗 Hugging Face can automatically:\n",
        "* log your configuration parameters\n",
        "* log your losses and metrics\n",
        "* log gradients and parameter distributions\n",
        "* log your model\n",
        "* keep track of your code\n",
        "* log your system metrics (GPU, CPU, memory, temperature, etc)"
      ],
      "metadata": {
        "id": "MmcijOMrV0r1"
      }
    },
    {
      "cell_type": "code",
      "source": [
        "! pip install wandb"
      ],
      "metadata": {
        "colab": {
          "base_uri": "https://localhost:8080/",
          "height": 1000
        },
        "id": "5YLWVY8Dlhg2",
        "outputId": "6e0a9ac5-4c21-416e-9095-ceb4bb900e54"
      },
      "execution_count": null,
      "outputs": [
        {
          "output_type": "stream",
          "name": "stdout",
          "text": [
            "Collecting wandb\n",
            "  Downloading wandb-0.12.7-py2.py3-none-any.whl (1.7 MB)\n",
            "\u001b[?25l\r\u001b[K     |▏                               | 10 kB 31.6 MB/s eta 0:00:01\r\u001b[K     |▍                               | 20 kB 39.7 MB/s eta 0:00:01\r\u001b[K     |▋                               | 30 kB 45.8 MB/s eta 0:00:01\r\u001b[K     |▊                               | 40 kB 26.3 MB/s eta 0:00:01\r\u001b[K     |█                               | 51 kB 16.6 MB/s eta 0:00:01\r\u001b[K     |█▏                              | 61 kB 14.4 MB/s eta 0:00:01\r\u001b[K     |█▍                              | 71 kB 13.3 MB/s eta 0:00:01\r\u001b[K     |█▌                              | 81 kB 14.8 MB/s eta 0:00:01\r\u001b[K     |█▊                              | 92 kB 13.8 MB/s eta 0:00:01\r\u001b[K     |██                              | 102 kB 12.7 MB/s eta 0:00:01\r\u001b[K     |██▏                             | 112 kB 12.7 MB/s eta 0:00:01\r\u001b[K     |██▎                             | 122 kB 12.7 MB/s eta 0:00:01\r\u001b[K     |██▌                             | 133 kB 12.7 MB/s eta 0:00:01\r\u001b[K     |██▊                             | 143 kB 12.7 MB/s eta 0:00:01\r\u001b[K     |███                             | 153 kB 12.7 MB/s eta 0:00:01\r\u001b[K     |███                             | 163 kB 12.7 MB/s eta 0:00:01\r\u001b[K     |███▎                            | 174 kB 12.7 MB/s eta 0:00:01\r\u001b[K     |███▌                            | 184 kB 12.7 MB/s eta 0:00:01\r\u001b[K     |███▊                            | 194 kB 12.7 MB/s eta 0:00:01\r\u001b[K     |███▉                            | 204 kB 12.7 MB/s eta 0:00:01\r\u001b[K     |████                            | 215 kB 12.7 MB/s eta 0:00:01\r\u001b[K     |████▎                           | 225 kB 12.7 MB/s eta 0:00:01\r\u001b[K     |████▌                           | 235 kB 12.7 MB/s eta 0:00:01\r\u001b[K     |████▋                           | 245 kB 12.7 MB/s eta 0:00:01\r\u001b[K     |████▉                           | 256 kB 12.7 MB/s eta 0:00:01\r\u001b[K     |█████                           | 266 kB 12.7 MB/s eta 0:00:01\r\u001b[K     |█████▎                          | 276 kB 12.7 MB/s eta 0:00:01\r\u001b[K     |█████▍                          | 286 kB 12.7 MB/s eta 0:00:01\r\u001b[K     |█████▋                          | 296 kB 12.7 MB/s eta 0:00:01\r\u001b[K     |█████▉                          | 307 kB 12.7 MB/s eta 0:00:01\r\u001b[K     |██████                          | 317 kB 12.7 MB/s eta 0:00:01\r\u001b[K     |██████▏                         | 327 kB 12.7 MB/s eta 0:00:01\r\u001b[K     |██████▍                         | 337 kB 12.7 MB/s eta 0:00:01\r\u001b[K     |██████▋                         | 348 kB 12.7 MB/s eta 0:00:01\r\u001b[K     |██████▉                         | 358 kB 12.7 MB/s eta 0:00:01\r\u001b[K     |███████                         | 368 kB 12.7 MB/s eta 0:00:01\r\u001b[K     |███████▏                        | 378 kB 12.7 MB/s eta 0:00:01\r\u001b[K     |███████▍                        | 389 kB 12.7 MB/s eta 0:00:01\r\u001b[K     |███████▋                        | 399 kB 12.7 MB/s eta 0:00:01\r\u001b[K     |███████▊                        | 409 kB 12.7 MB/s eta 0:00:01\r\u001b[K     |████████                        | 419 kB 12.7 MB/s eta 0:00:01\r\u001b[K     |████████▏                       | 430 kB 12.7 MB/s eta 0:00:01\r\u001b[K     |████████▍                       | 440 kB 12.7 MB/s eta 0:00:01\r\u001b[K     |████████▌                       | 450 kB 12.7 MB/s eta 0:00:01\r\u001b[K     |████████▊                       | 460 kB 12.7 MB/s eta 0:00:01\r\u001b[K     |█████████                       | 471 kB 12.7 MB/s eta 0:00:01\r\u001b[K     |█████████                       | 481 kB 12.7 MB/s eta 0:00:01\r\u001b[K     |█████████▎                      | 491 kB 12.7 MB/s eta 0:00:01\r\u001b[K     |█████████▌                      | 501 kB 12.7 MB/s eta 0:00:01\r\u001b[K     |█████████▊                      | 512 kB 12.7 MB/s eta 0:00:01\r\u001b[K     |█████████▉                      | 522 kB 12.7 MB/s eta 0:00:01\r\u001b[K     |██████████                      | 532 kB 12.7 MB/s eta 0:00:01\r\u001b[K     |██████████▎                     | 542 kB 12.7 MB/s eta 0:00:01\r\u001b[K     |██████████▌                     | 552 kB 12.7 MB/s eta 0:00:01\r\u001b[K     |██████████▋                     | 563 kB 12.7 MB/s eta 0:00:01\r\u001b[K     |██████████▉                     | 573 kB 12.7 MB/s eta 0:00:01\r\u001b[K     |███████████                     | 583 kB 12.7 MB/s eta 0:00:01\r\u001b[K     |███████████▎                    | 593 kB 12.7 MB/s eta 0:00:01\r\u001b[K     |███████████▍                    | 604 kB 12.7 MB/s eta 0:00:01\r\u001b[K     |███████████▋                    | 614 kB 12.7 MB/s eta 0:00:01\r\u001b[K     |███████████▉                    | 624 kB 12.7 MB/s eta 0:00:01\r\u001b[K     |████████████                    | 634 kB 12.7 MB/s eta 0:00:01\r\u001b[K     |████████████▏                   | 645 kB 12.7 MB/s eta 0:00:01\r\u001b[K     |████████████▍                   | 655 kB 12.7 MB/s eta 0:00:01\r\u001b[K     |████████████▋                   | 665 kB 12.7 MB/s eta 0:00:01\r\u001b[K     |████████████▉                   | 675 kB 12.7 MB/s eta 0:00:01\r\u001b[K     |█████████████                   | 686 kB 12.7 MB/s eta 0:00:01\r\u001b[K     |█████████████▏                  | 696 kB 12.7 MB/s eta 0:00:01\r\u001b[K     |█████████████▍                  | 706 kB 12.7 MB/s eta 0:00:01\r\u001b[K     |█████████████▋                  | 716 kB 12.7 MB/s eta 0:00:01\r\u001b[K     |█████████████▊                  | 727 kB 12.7 MB/s eta 0:00:01\r\u001b[K     |██████████████                  | 737 kB 12.7 MB/s eta 0:00:01\r\u001b[K     |██████████████▏                 | 747 kB 12.7 MB/s eta 0:00:01\r\u001b[K     |██████████████▍                 | 757 kB 12.7 MB/s eta 0:00:01\r\u001b[K     |██████████████▌                 | 768 kB 12.7 MB/s eta 0:00:01\r\u001b[K     |██████████████▊                 | 778 kB 12.7 MB/s eta 0:00:01\r\u001b[K     |███████████████                 | 788 kB 12.7 MB/s eta 0:00:01\r\u001b[K     |███████████████▏                | 798 kB 12.7 MB/s eta 0:00:01\r\u001b[K     |███████████████▎                | 808 kB 12.7 MB/s eta 0:00:01\r\u001b[K     |███████████████▌                | 819 kB 12.7 MB/s eta 0:00:01\r\u001b[K     |███████████████▊                | 829 kB 12.7 MB/s eta 0:00:01\r\u001b[K     |████████████████                | 839 kB 12.7 MB/s eta 0:00:01\r\u001b[K     |████████████████                | 849 kB 12.7 MB/s eta 0:00:01\r\u001b[K     |████████████████▎               | 860 kB 12.7 MB/s eta 0:00:01\r\u001b[K     |████████████████▌               | 870 kB 12.7 MB/s eta 0:00:01\r\u001b[K     |████████████████▊               | 880 kB 12.7 MB/s eta 0:00:01\r\u001b[K     |████████████████▉               | 890 kB 12.7 MB/s eta 0:00:01\r\u001b[K     |█████████████████               | 901 kB 12.7 MB/s eta 0:00:01\r\u001b[K     |█████████████████▎              | 911 kB 12.7 MB/s eta 0:00:01\r\u001b[K     |█████████████████▍              | 921 kB 12.7 MB/s eta 0:00:01\r\u001b[K     |█████████████████▋              | 931 kB 12.7 MB/s eta 0:00:01\r\u001b[K     |█████████████████▉              | 942 kB 12.7 MB/s eta 0:00:01\r\u001b[K     |██████████████████              | 952 kB 12.7 MB/s eta 0:00:01\r\u001b[K     |██████████████████▏             | 962 kB 12.7 MB/s eta 0:00:01\r\u001b[K     |██████████████████▍             | 972 kB 12.7 MB/s eta 0:00:01\r\u001b[K     |██████████████████▋             | 983 kB 12.7 MB/s eta 0:00:01\r\u001b[K     |██████████████████▉             | 993 kB 12.7 MB/s eta 0:00:01\r\u001b[K     |███████████████████             | 1.0 MB 12.7 MB/s eta 0:00:01\r\u001b[K     |███████████████████▏            | 1.0 MB 12.7 MB/s eta 0:00:01\r\u001b[K     |███████████████████▍            | 1.0 MB 12.7 MB/s eta 0:00:01\r\u001b[K     |███████████████████▋            | 1.0 MB 12.7 MB/s eta 0:00:01\r\u001b[K     |███████████████████▊            | 1.0 MB 12.7 MB/s eta 0:00:01\r\u001b[K     |████████████████████            | 1.1 MB 12.7 MB/s eta 0:00:01\r\u001b[K     |████████████████████▏           | 1.1 MB 12.7 MB/s eta 0:00:01\r\u001b[K     |████████████████████▍           | 1.1 MB 12.7 MB/s eta 0:00:01\r\u001b[K     |████████████████████▌           | 1.1 MB 12.7 MB/s eta 0:00:01\r\u001b[K     |████████████████████▊           | 1.1 MB 12.7 MB/s eta 0:00:01\r\u001b[K     |█████████████████████           | 1.1 MB 12.7 MB/s eta 0:00:01\r\u001b[K     |█████████████████████▏          | 1.1 MB 12.7 MB/s eta 0:00:01\r\u001b[K     |█████████████████████▎          | 1.1 MB 12.7 MB/s eta 0:00:01\r\u001b[K     |█████████████████████▌          | 1.1 MB 12.7 MB/s eta 0:00:01\r\u001b[K     |█████████████████████▊          | 1.1 MB 12.7 MB/s eta 0:00:01\r\u001b[K     |██████████████████████          | 1.2 MB 12.7 MB/s eta 0:00:01\r\u001b[K     |██████████████████████          | 1.2 MB 12.7 MB/s eta 0:00:01\r\u001b[K     |██████████████████████▎         | 1.2 MB 12.7 MB/s eta 0:00:01\r\u001b[K     |██████████████████████▌         | 1.2 MB 12.7 MB/s eta 0:00:01\r\u001b[K     |██████████████████████▊         | 1.2 MB 12.7 MB/s eta 0:00:01\r\u001b[K     |██████████████████████▉         | 1.2 MB 12.7 MB/s eta 0:00:01\r\u001b[K     |███████████████████████         | 1.2 MB 12.7 MB/s eta 0:00:01\r\u001b[K     |███████████████████████▎        | 1.2 MB 12.7 MB/s eta 0:00:01\r\u001b[K     |███████████████████████▌        | 1.2 MB 12.7 MB/s eta 0:00:01\r\u001b[K     |███████████████████████▋        | 1.2 MB 12.7 MB/s eta 0:00:01\r\u001b[K     |███████████████████████▉        | 1.3 MB 12.7 MB/s eta 0:00:01\r\u001b[K     |████████████████████████        | 1.3 MB 12.7 MB/s eta 0:00:01\r\u001b[K     |████████████████████████▎       | 1.3 MB 12.7 MB/s eta 0:00:01\r\u001b[K     |████████████████████████▍       | 1.3 MB 12.7 MB/s eta 0:00:01\r\u001b[K     |████████████████████████▋       | 1.3 MB 12.7 MB/s eta 0:00:01\r\u001b[K     |████████████████████████▉       | 1.3 MB 12.7 MB/s eta 0:00:01\r\u001b[K     |█████████████████████████       | 1.3 MB 12.7 MB/s eta 0:00:01\r\u001b[K     |█████████████████████████▏      | 1.3 MB 12.7 MB/s eta 0:00:01\r\u001b[K     |█████████████████████████▍      | 1.3 MB 12.7 MB/s eta 0:00:01\r\u001b[K     |█████████████████████████▋      | 1.4 MB 12.7 MB/s eta 0:00:01\r\u001b[K     |█████████████████████████▊      | 1.4 MB 12.7 MB/s eta 0:00:01\r\u001b[K     |██████████████████████████      | 1.4 MB 12.7 MB/s eta 0:00:01\r\u001b[K     |██████████████████████████▏     | 1.4 MB 12.7 MB/s eta 0:00:01\r\u001b[K     |██████████████████████████▍     | 1.4 MB 12.7 MB/s eta 0:00:01\r\u001b[K     |██████████████████████████▌     | 1.4 MB 12.7 MB/s eta 0:00:01\r\u001b[K     |██████████████████████████▊     | 1.4 MB 12.7 MB/s eta 0:00:01\r\u001b[K     |███████████████████████████     | 1.4 MB 12.7 MB/s eta 0:00:01\r\u001b[K     |███████████████████████████▏    | 1.4 MB 12.7 MB/s eta 0:00:01\r\u001b[K     |███████████████████████████▎    | 1.4 MB 12.7 MB/s eta 0:00:01\r\u001b[K     |███████████████████████████▌    | 1.5 MB 12.7 MB/s eta 0:00:01\r\u001b[K     |███████████████████████████▊    | 1.5 MB 12.7 MB/s eta 0:00:01\r\u001b[K     |████████████████████████████    | 1.5 MB 12.7 MB/s eta 0:00:01\r\u001b[K     |████████████████████████████    | 1.5 MB 12.7 MB/s eta 0:00:01\r\u001b[K     |████████████████████████████▎   | 1.5 MB 12.7 MB/s eta 0:00:01\r\u001b[K     |████████████████████████████▌   | 1.5 MB 12.7 MB/s eta 0:00:01\r\u001b[K     |████████████████████████████▊   | 1.5 MB 12.7 MB/s eta 0:00:01\r\u001b[K     |████████████████████████████▉   | 1.5 MB 12.7 MB/s eta 0:00:01\r\u001b[K     |█████████████████████████████   | 1.5 MB 12.7 MB/s eta 0:00:01\r\u001b[K     |█████████████████████████████▎  | 1.5 MB 12.7 MB/s eta 0:00:01\r\u001b[K     |█████████████████████████████▌  | 1.6 MB 12.7 MB/s eta 0:00:01\r\u001b[K     |█████████████████████████████▋  | 1.6 MB 12.7 MB/s eta 0:00:01\r\u001b[K     |█████████████████████████████▉  | 1.6 MB 12.7 MB/s eta 0:00:01\r\u001b[K     |██████████████████████████████  | 1.6 MB 12.7 MB/s eta 0:00:01\r\u001b[K     |██████████████████████████████▎ | 1.6 MB 12.7 MB/s eta 0:00:01\r\u001b[K     |██████████████████████████████▍ | 1.6 MB 12.7 MB/s eta 0:00:01\r\u001b[K     |██████████████████████████████▋ | 1.6 MB 12.7 MB/s eta 0:00:01\r\u001b[K     |██████████████████████████████▉ | 1.6 MB 12.7 MB/s eta 0:00:01\r\u001b[K     |███████████████████████████████ | 1.6 MB 12.7 MB/s eta 0:00:01\r\u001b[K     |███████████████████████████████▏| 1.6 MB 12.7 MB/s eta 0:00:01\r\u001b[K     |███████████████████████████████▍| 1.7 MB 12.7 MB/s eta 0:00:01\r\u001b[K     |███████████████████████████████▋| 1.7 MB 12.7 MB/s eta 0:00:01\r\u001b[K     |███████████████████████████████▉| 1.7 MB 12.7 MB/s eta 0:00:01\r\u001b[K     |████████████████████████████████| 1.7 MB 12.7 MB/s eta 0:00:01\r\u001b[K     |████████████████████████████████| 1.7 MB 12.7 MB/s \n",
            "\u001b[?25hCollecting docker-pycreds>=0.4.0\n",
            "  Downloading docker_pycreds-0.4.0-py2.py3-none-any.whl (9.0 kB)\n",
            "Collecting configparser>=3.8.1\n",
            "  Downloading configparser-5.2.0-py3-none-any.whl (19 kB)\n",
            "Requirement already satisfied: promise<3,>=2.0 in /usr/local/lib/python3.7/dist-packages (from wandb) (2.3)\n",
            "Requirement already satisfied: PyYAML in /usr/local/lib/python3.7/dist-packages (from wandb) (6.0)\n",
            "Collecting GitPython>=1.0.0\n",
            "  Downloading GitPython-3.1.24-py3-none-any.whl (180 kB)\n",
            "\u001b[K     |████████████████████████████████| 180 kB 78.9 MB/s \n",
            "\u001b[?25hCollecting yaspin>=1.0.0\n",
            "  Downloading yaspin-2.1.0-py3-none-any.whl (18 kB)\n",
            "Requirement already satisfied: protobuf>=3.12.0 in /usr/local/lib/python3.7/dist-packages (from wandb) (3.17.3)\n",
            "Collecting shortuuid>=0.5.0\n",
            "  Downloading shortuuid-1.0.8-py3-none-any.whl (9.5 kB)\n",
            "Requirement already satisfied: Click!=8.0.0,>=7.0 in /usr/local/lib/python3.7/dist-packages (from wandb) (7.1.2)\n",
            "Requirement already satisfied: requests<3,>=2.0.0 in /usr/local/lib/python3.7/dist-packages (from wandb) (2.23.0)\n",
            "Requirement already satisfied: six>=1.13.0 in /usr/local/lib/python3.7/dist-packages (from wandb) (1.15.0)\n",
            "Requirement already satisfied: psutil>=5.0.0 in /usr/local/lib/python3.7/dist-packages (from wandb) (5.4.8)\n",
            "Collecting sentry-sdk>=1.0.0\n",
            "  Downloading sentry_sdk-1.5.0-py2.py3-none-any.whl (140 kB)\n",
            "\u001b[K     |████████████████████████████████| 140 kB 70.6 MB/s \n",
            "\u001b[?25hRequirement already satisfied: python-dateutil>=2.6.1 in /usr/local/lib/python3.7/dist-packages (from wandb) (2.8.2)\n",
            "Collecting subprocess32>=3.5.3\n",
            "  Downloading subprocess32-3.5.4.tar.gz (97 kB)\n",
            "\u001b[K     |████████████████████████████████| 97 kB 8.1 MB/s \n",
            "\u001b[?25hCollecting pathtools\n",
            "  Downloading pathtools-0.1.2.tar.gz (11 kB)\n",
            "Collecting gitdb<5,>=4.0.1\n",
            "  Downloading gitdb-4.0.9-py3-none-any.whl (63 kB)\n",
            "\u001b[K     |████████████████████████████████| 63 kB 2.0 MB/s \n",
            "\u001b[?25hRequirement already satisfied: typing-extensions>=3.7.4.3 in /usr/local/lib/python3.7/dist-packages (from GitPython>=1.0.0->wandb) (3.10.0.2)\n",
            "Collecting smmap<6,>=3.0.1\n",
            "  Downloading smmap-5.0.0-py3-none-any.whl (24 kB)\n",
            "Requirement already satisfied: idna<3,>=2.5 in /usr/local/lib/python3.7/dist-packages (from requests<3,>=2.0.0->wandb) (2.10)\n",
            "Requirement already satisfied: chardet<4,>=3.0.2 in /usr/local/lib/python3.7/dist-packages (from requests<3,>=2.0.0->wandb) (3.0.4)\n",
            "Requirement already satisfied: certifi>=2017.4.17 in /usr/local/lib/python3.7/dist-packages (from requests<3,>=2.0.0->wandb) (2021.10.8)\n",
            "Requirement already satisfied: urllib3!=1.25.0,!=1.25.1,<1.26,>=1.21.1 in /usr/local/lib/python3.7/dist-packages (from requests<3,>=2.0.0->wandb) (1.24.3)\n",
            "Requirement already satisfied: termcolor<2.0.0,>=1.1.0 in /usr/local/lib/python3.7/dist-packages (from yaspin>=1.0.0->wandb) (1.1.0)\n",
            "Building wheels for collected packages: subprocess32, pathtools\n",
            "  Building wheel for subprocess32 (setup.py) ... \u001b[?25l\u001b[?25hdone\n",
            "  Created wheel for subprocess32: filename=subprocess32-3.5.4-py3-none-any.whl size=6502 sha256=96d186e7d005cb7d6826c9c1dc20f2c3003dc3c42bc2499c2fe1fe5d89bc9ddd\n",
            "  Stored in directory: /root/.cache/pip/wheels/50/ca/fa/8fca8d246e64f19488d07567547ddec8eb084e8c0d7a59226a\n",
            "  Building wheel for pathtools (setup.py) ... \u001b[?25l\u001b[?25hdone\n",
            "  Created wheel for pathtools: filename=pathtools-0.1.2-py3-none-any.whl size=8807 sha256=5354fe700f9062ab0aca13138c2918c5dab5d332456582fd4b0ff290b34de01e\n",
            "  Stored in directory: /root/.cache/pip/wheels/3e/31/09/fa59cef12cdcfecc627b3d24273699f390e71828921b2cbba2\n",
            "Successfully built subprocess32 pathtools\n",
            "Installing collected packages: smmap, gitdb, yaspin, subprocess32, shortuuid, sentry-sdk, pathtools, GitPython, docker-pycreds, configparser, wandb\n",
            "Successfully installed GitPython-3.1.24 configparser-5.2.0 docker-pycreds-0.4.0 gitdb-4.0.9 pathtools-0.1.2 sentry-sdk-1.5.0 shortuuid-1.0.8 smmap-5.0.0 subprocess32-3.5.4 wandb-0.12.7 yaspin-2.1.0\n"
          ]
        },
        {
          "output_type": "display_data",
          "data": {
            "application/vnd.colab-display-data+json": {
              "pip_warning": {
                "packages": [
                  "configparser"
                ]
              }
            }
          },
          "metadata": {}
        }
      ]
    },
    {
      "cell_type": "code",
      "source": [
        "! wandb login"
      ],
      "metadata": {
        "colab": {
          "base_uri": "https://localhost:8080/"
        },
        "id": "knDSGHMdl2bQ",
        "outputId": "4d442fba-9f23-404a-9289-38a115bcfa30"
      },
      "execution_count": null,
      "outputs": [
        {
          "output_type": "stream",
          "name": "stdout",
          "text": [
            "\u001b[34m\u001b[1mwandb\u001b[0m: You can find your API key in your browser here: https://wandb.ai/authorize\n",
            "\u001b[34m\u001b[1mwandb\u001b[0m: Paste an API key from your profile and hit enter, or press ctrl+c to quit: \n",
            "\u001b[34m\u001b[1mwandb\u001b[0m: Appending key for api.wandb.ai to your netrc file: /root/.netrc\n"
          ]
        }
      ]
    },
    {
      "cell_type": "markdown",
      "source": [
        "## tokenization and input preprocessing"
      ],
      "metadata": {
        "id": "HAzK26bzWPJ1"
      }
    },
    {
      "cell_type": "code",
      "metadata": {
        "id": "FbMqIVzag1FG"
      },
      "source": [
        "import transformers\n",
        "assert isinstance(tokenizer, transformers.PreTrainedTokenizerFast)"
      ],
      "execution_count": null,
      "outputs": []
    },
    {
      "cell_type": "code",
      "metadata": {
        "colab": {
          "base_uri": "https://localhost:8080/"
        },
        "id": "zmlU8Cyug6ql",
        "outputId": "41cdecd8-443c-4fb5-9c6d-69e490f26a81"
      },
      "source": [
        "tokenizer(\"What is your name?\", \"My name is Sylvain.\")"
      ],
      "execution_count": null,
      "outputs": [
        {
          "output_type": "execute_result",
          "data": {
            "text/plain": [
              "{'input_ids': [0, 2264, 16, 110, 766, 116, 2, 2, 2387, 766, 16, 28856, 1851, 4, 2], 'attention_mask': [1, 1, 1, 1, 1, 1, 1, 1, 1, 1, 1, 1, 1, 1, 1]}"
            ]
          },
          "metadata": {},
          "execution_count": 9
        }
      ]
    },
    {
      "cell_type": "code",
      "metadata": {
        "id": "s_T4SdsJg_Ym"
      },
      "source": [
        "max_length = 386 # The maximum length of a feature (question and context)\n",
        "doc_stride = 128 # The authorized overlap between two part of the context when splitting it is needed."
      ],
      "execution_count": null,
      "outputs": []
    },
    {
      "cell_type": "code",
      "metadata": {
        "id": "i987VeRxkOCZ"
      },
      "source": [
        "join_sentences = lambda lst: ''.join(lst)"
      ],
      "execution_count": null,
      "outputs": []
    },
    {
      "cell_type": "code",
      "metadata": {
        "id": "ta0qL7kAjWpB"
      },
      "source": [
        "for idx, example in enumerate(datasets[\"train\"]):\n",
        "    example['context'] = join_sentences(example['candidates'])\n",
        "    if len(tokenizer(example[\"question\"], example[\"context\"])[\"input_ids\"]) > max_length:\n",
        "        break\n",
        "example = datasets[\"train\"][idx]"
      ],
      "execution_count": null,
      "outputs": []
    },
    {
      "cell_type": "code",
      "metadata": {
        "colab": {
          "base_uri": "https://localhost:8080/"
        },
        "id": "dwnH7P0lttZH",
        "outputId": "ca6afac8-e932-440e-835e-e5c797ddeb53"
      },
      "source": [
        "example['context'] = join_sentences(example['candidates'])\n",
        "len(tokenizer(example[\"question\"], example[\"context\"])[\"input_ids\"])"
      ],
      "execution_count": null,
      "outputs": [
        {
          "output_type": "execute_result",
          "data": {
            "text/plain": [
              "486"
            ]
          },
          "metadata": {},
          "execution_count": 8
        }
      ]
    },
    {
      "cell_type": "code",
      "metadata": {
        "id": "I20889SduwNV"
      },
      "source": [
        "tokenized_example = tokenizer(\n",
        "    example[\"question\"],\n",
        "    example[\"context\"],\n",
        "    max_length=max_length,\n",
        "    truncation=\"only_second\",\n",
        "    return_overflowing_tokens=True,\n",
        "    stride=doc_stride\n",
        ")"
      ],
      "execution_count": null,
      "outputs": []
    },
    {
      "cell_type": "code",
      "metadata": {
        "colab": {
          "base_uri": "https://localhost:8080/"
        },
        "id": "fncVpgE0u3RM",
        "outputId": "c5107640-4789-4791-9f11-5f92c8c2a1b8"
      },
      "source": [
        "[len(x) for x in tokenized_example[\"input_ids\"]]"
      ],
      "execution_count": null,
      "outputs": [
        {
          "output_type": "execute_result",
          "data": {
            "text/plain": [
              "[386, 240]"
            ]
          },
          "metadata": {},
          "execution_count": 10
        }
      ]
    },
    {
      "cell_type": "code",
      "metadata": {
        "colab": {
          "base_uri": "https://localhost:8080/"
        },
        "id": "ibkcGRvxvkzk",
        "outputId": "bc58266b-5cc7-4966-c96d-06a9ea262c81"
      },
      "source": [
        "for x in tokenized_example[\"input_ids\"][:2]:\n",
        "    print(tokenizer.decode(x))"
      ],
      "execution_count": null,
      "outputs": [
        {
          "output_type": "stream",
          "name": "stdout",
          "text": [
            "<s>What does Pink wear in the video?</s></s>The music video for \"Blow Me (One Last Kiss)\" premiered on July 26, 2012 at 7:50pm EDT on MTV and VEVO and was directed by Pink's longtime collaborator Dave Meyers, who directed the videos for almost all of her lead singles and many of her hits.The official colored version of the video was leaked online on August 31, and was officially posted on VEVO on September 5, 2012.The video is entirely in black and white, with splashes of color, features opening titles in French.The video begins with Pink having a picnic with her love interest (Sebastian de la Forza).The two lean in for a kiss, which is interrupted by him taking a phone call.Pink splashes him with red wine, and walks away through the trees.She meets another man on his motorbike (Alexander Ercheverria) and goes home with him.He draws a portrait of her.Pink watches through the window as many female guests arrive for a party the man has organised.During the party, she dances with one of the women until she is interrupted by the man who brought her home.Pink wears a black suit with her hair pushed back and dances with the woman (Mosh).The man gets down on one knee and proposes.Pink accepts by giving him her hand but is disappointed to find out the proposal was meant for her dance partner.During their wedding ceremony, Pink is dressed completely in black, as if she is attending a funeral.A flying bike appears above the guests (Andreas-Holm Hansen), which is carrying a heart-shaped balloon.The balloon pops, and red liquid covers the guests as Pink sings and dances cheerfully.She joins the driver of the flying bike, and they fly away together at the end of this video clip across the countryside, into the sunset</s>\n",
            "<s>What does Pink wear in the video?</s></s> the woman (Mosh).The man gets down on one knee and proposes.Pink accepts by giving him her hand but is disappointed to find out the proposal was meant for her dance partner.During their wedding ceremony, Pink is dressed completely in black, as if she is attending a funeral.A flying bike appears above the guests (Andreas-Holm Hansen), which is carrying a heart-shaped balloon.The balloon pops, and red liquid covers the guests as Pink sings and dances cheerfully.She joins the driver of the flying bike, and they fly away together at the end of this video clip across the countryside, into the sunset, under a bridge, over trees and up close to a big hill on the high flying bicycle with eagle wings.A colored version was also released.MTV's James Montgomery assured Pink's fans that she hasn't changed, while crediting the video for its angry and funny nature, saying \"While your heroine might be saying she's a changed woman, the 'Blow Me' video proves that she's not.It's just as angry as her previous clips, and nearly as funny too.\"</s>\n"
          ]
        }
      ]
    },
    {
      "cell_type": "code",
      "metadata": {
        "colab": {
          "base_uri": "https://localhost:8080/"
        },
        "id": "9TINaSAxvqyp",
        "outputId": "4c32316a-1360-4005-e6d5-4078ff4082bb"
      },
      "source": [
        "tokenized_example = tokenizer(\n",
        "    example[\"question\"],\n",
        "    example[\"context\"],\n",
        "    max_length=max_length,\n",
        "    truncation=\"only_second\",\n",
        "    return_overflowing_tokens=True,\n",
        "    return_offsets_mapping=True,\n",
        "    stride=doc_stride\n",
        ")\n",
        "print(tokenized_example[\"offset_mapping\"][0][:100])"
      ],
      "execution_count": null,
      "outputs": [
        {
          "output_type": "stream",
          "name": "stdout",
          "text": [
            "[(0, 0), (0, 4), (5, 9), (10, 14), (15, 19), (20, 22), (23, 26), (27, 32), (32, 33), (0, 0), (0, 0), (0, 3), (4, 9), (10, 15), (16, 19), (20, 21), (21, 23), (23, 25), (26, 28), (29, 30), (30, 33), (34, 38), (39, 43), (43, 45), (46, 55), (56, 58), (59, 63), (64, 66), (66, 67), (68, 72), (73, 75), (76, 77), (77, 78), (78, 80), (80, 82), (83, 86), (87, 89), (90, 93), (94, 97), (98, 99), (99, 101), (101, 102), (103, 106), (107, 110), (111, 119), (120, 122), (123, 127), (127, 129), (130, 138), (139, 151), (152, 156), (157, 159), (159, 163), (163, 164), (165, 168), (169, 177), (178, 181), (182, 188), (189, 192), (193, 199), (200, 203), (204, 206), (207, 210), (211, 215), (216, 223), (224, 227), (228, 232), (233, 235), (236, 239), (240, 244), (244, 245), (245, 248), (249, 257), (258, 265), (266, 273), (274, 276), (277, 280), (281, 286), (287, 290), (291, 297), (298, 304), (305, 307), (308, 314), (315, 317), (317, 318), (319, 322), (323, 326), (327, 337), (338, 344), (345, 347), (348, 349), (349, 351), (351, 352), (353, 355), (356, 365), (366, 367), (367, 368), (369, 373), (373, 374), (374, 377)]\n"
          ]
        }
      ]
    },
    {
      "cell_type": "code",
      "metadata": {
        "colab": {
          "base_uri": "https://localhost:8080/"
        },
        "id": "QsfFkrdDvuvV",
        "outputId": "c1b3573d-8363-4b4d-ad4b-1cc51b4df079"
      },
      "source": [
        "first_token_id = tokenized_example[\"input_ids\"][0][1]\n",
        "offsets = tokenized_example[\"offset_mapping\"][0][1]\n",
        "print(tokenizer.convert_ids_to_tokens([first_token_id])[0], example[\"question\"][offsets[0]:offsets[1]])"
      ],
      "execution_count": null,
      "outputs": [
        {
          "output_type": "stream",
          "name": "stdout",
          "text": [
            "What What\n"
          ]
        }
      ]
    },
    {
      "cell_type": "code",
      "metadata": {
        "colab": {
          "base_uri": "https://localhost:8080/"
        },
        "id": "lHCJT31QvwzR",
        "outputId": "b8bcd3fc-bc8f-42cc-9445-1dfb6513fd36"
      },
      "source": [
        "sequence_ids = tokenized_example.sequence_ids()\n",
        "print(sequence_ids)"
      ],
      "execution_count": null,
      "outputs": [
        {
          "output_type": "stream",
          "name": "stdout",
          "text": [
            "[None, 0, 0, 0, 0, 0, 0, 0, 0, None, None, 1, 1, 1, 1, 1, 1, 1, 1, 1, 1, 1, 1, 1, 1, 1, 1, 1, 1, 1, 1, 1, 1, 1, 1, 1, 1, 1, 1, 1, 1, 1, 1, 1, 1, 1, 1, 1, 1, 1, 1, 1, 1, 1, 1, 1, 1, 1, 1, 1, 1, 1, 1, 1, 1, 1, 1, 1, 1, 1, 1, 1, 1, 1, 1, 1, 1, 1, 1, 1, 1, 1, 1, 1, 1, 1, 1, 1, 1, 1, 1, 1, 1, 1, 1, 1, 1, 1, 1, 1, 1, 1, 1, 1, 1, 1, 1, 1, 1, 1, 1, 1, 1, 1, 1, 1, 1, 1, 1, 1, 1, 1, 1, 1, 1, 1, 1, 1, 1, 1, 1, 1, 1, 1, 1, 1, 1, 1, 1, 1, 1, 1, 1, 1, 1, 1, 1, 1, 1, 1, 1, 1, 1, 1, 1, 1, 1, 1, 1, 1, 1, 1, 1, 1, 1, 1, 1, 1, 1, 1, 1, 1, 1, 1, 1, 1, 1, 1, 1, 1, 1, 1, 1, 1, 1, 1, 1, 1, 1, 1, 1, 1, 1, 1, 1, 1, 1, 1, 1, 1, 1, 1, 1, 1, 1, 1, 1, 1, 1, 1, 1, 1, 1, 1, 1, 1, 1, 1, 1, 1, 1, 1, 1, 1, 1, 1, 1, 1, 1, 1, 1, 1, 1, 1, 1, 1, 1, 1, 1, 1, 1, 1, 1, 1, 1, 1, 1, 1, 1, 1, 1, 1, 1, 1, 1, 1, 1, 1, 1, 1, 1, 1, 1, 1, 1, 1, 1, 1, 1, 1, 1, 1, 1, 1, 1, 1, 1, 1, 1, 1, 1, 1, 1, 1, 1, 1, 1, 1, 1, 1, 1, 1, 1, 1, 1, 1, 1, 1, 1, 1, 1, 1, 1, 1, 1, 1, 1, 1, 1, 1, 1, 1, 1, 1, 1, 1, 1, 1, 1, 1, 1, 1, 1, 1, 1, 1, 1, 1, 1, 1, 1, 1, 1, 1, 1, 1, 1, 1, 1, 1, 1, 1, 1, 1, 1, 1, 1, 1, 1, 1, 1, 1, 1, 1, 1, 1, 1, 1, 1, 1, 1, 1, 1, 1, 1, 1, 1, 1, 1, 1, 1, 1, 1, 1, 1, 1, 1, 1, 1, 1, 1, 1, 1, 1, 1, None]\n"
          ]
        }
      ]
    },
    {
      "cell_type": "code",
      "metadata": {
        "id": "FqYFiznMwQqC"
      },
      "source": [
        "idx = example['answers'][0]\n",
        "start_char = len(''.join(example['candidates'][:idx]))\n",
        "end_char = start_char + len(''.join(example['candidates'][idx]))"
      ],
      "execution_count": null,
      "outputs": []
    },
    {
      "cell_type": "code",
      "metadata": {
        "colab": {
          "base_uri": "https://localhost:8080/"
        },
        "id": "7O1sesEJv6Dl",
        "outputId": "00a8538f-45c4-4fd2-b4a8-05bb0d5a9a1d"
      },
      "source": [
        "start_char = len(''.join(example['candidates'][:idx]))\n",
        "end_char = start_char + len(''.join(example['candidates'][idx]))\n",
        "\n",
        "# Start token index of the current span in the text.\n",
        "token_start_index = 0\n",
        "while sequence_ids[token_start_index] != 1:\n",
        "    token_start_index += 1\n",
        "\n",
        "# End token index of the current span in the text.\n",
        "token_end_index = len(tokenized_example[\"input_ids\"][0]) - 1\n",
        "while sequence_ids[token_end_index] != 1:\n",
        "    token_end_index -= 1\n",
        "\n",
        "# Detect if the answer is out of the span (in which case this feature is labeled with the CLS index).\n",
        "offsets = tokenized_example[\"offset_mapping\"][0]\n",
        "if (offsets[token_start_index][0] <= start_char and offsets[token_end_index][1] >= end_char):\n",
        "    # Move the token_start_index and token_end_index to the two ends of the answer.\n",
        "    # Note: we could go after the last offset if the answer is the last word (edge case).\n",
        "    while token_start_index < len(offsets) and offsets[token_start_index][0] <= start_char:\n",
        "        token_start_index += 1\n",
        "    start_position = token_start_index - 1\n",
        "    while offsets[token_end_index][1] >= end_char:\n",
        "        token_end_index -= 1\n",
        "    end_position = token_end_index + 1\n",
        "    print(start_position, end_position)\n",
        "else:\n",
        "    print(\"The answer is not in this feature.\")"
      ],
      "execution_count": null,
      "outputs": [
        {
          "output_type": "stream",
          "name": "stdout",
          "text": [
            "244 262\n"
          ]
        }
      ]
    },
    {
      "cell_type": "code",
      "metadata": {
        "colab": {
          "base_uri": "https://localhost:8080/"
        },
        "id": "2JsyQknh0TuF",
        "outputId": "b75f2365-405c-4dd9-b6d3-14fef7a674f1"
      },
      "source": [
        "print(tokenizer.decode(tokenized_example[\"input_ids\"][0][start_position: end_position+1]))\n",
        "print(example['candidates'][idx])"
      ],
      "execution_count": null,
      "outputs": [
        {
          "output_type": "stream",
          "name": "stdout",
          "text": [
            "Pink wears a black suit with her hair pushed back and dances with the woman (Mosh).\n",
            "Pink wears a black suit with her hair pushed back and dances with the woman (Mosh).\n"
          ]
        }
      ]
    },
    {
      "cell_type": "code",
      "metadata": {
        "id": "kg9KmF8k0UGo"
      },
      "source": [
        "pad_on_right = tokenizer.padding_side == \"right\""
      ],
      "execution_count": null,
      "outputs": []
    },
    {
      "cell_type": "markdown",
      "source": [
        "## Input text preproces function for training"
      ],
      "metadata": {
        "id": "FGrM6u6GWhJJ"
      }
    },
    {
      "cell_type": "code",
      "metadata": {
        "id": "aVY--1Ht1hIQ"
      },
      "source": [
        "def prepare_train_features(examples):\n",
        "    # Some of the questions have lots of whitespace on the left, which is not useful and will make the\n",
        "    # truncation of the context fail (the tokenized question will take a lots of space). So we remove that\n",
        "    # left whitespace\n",
        "    examples[\"question\"] = [q.lstrip() for q in examples[\"question\"]]\n",
        "    context = [join_sentences(lst) for lst in examples[\"candidates\"]]\n",
        "    # Tokenize our examples with truncation and padding, but keep the overflows using a stride. This results\n",
        "    # in one example possible giving several features when a context is long, each of those features having a\n",
        "    # context that overlaps a bit the context of the previous feature.\n",
        "    tokenized_examples = tokenizer(\n",
        "        examples[\"question\"] if pad_on_right else context,\n",
        "        context if pad_on_right else examples[\"question\"],\n",
        "        truncation=\"only_second\" if pad_on_right else \"only_first\",\n",
        "        max_length=max_length,\n",
        "        stride=doc_stride,\n",
        "        return_overflowing_tokens=True,\n",
        "        return_offsets_mapping=True,\n",
        "        padding=\"max_length\",\n",
        "    )\n",
        "\n",
        "    # Since one example might give us several features if it has a long context, we need a map from a feature to\n",
        "    # its corresponding example. This key gives us just that.\n",
        "    sample_mapping = tokenized_examples.pop(\"overflow_to_sample_mapping\")\n",
        "    # The offset mappings will give us a map from token to character position in the original context. This will\n",
        "    # help us compute the start_positions and end_positions.\n",
        "    offset_mapping = tokenized_examples.pop(\"offset_mapping\")\n",
        "\n",
        "    # Let's label those examples!\n",
        "    tokenized_examples[\"start_positions\"] = []\n",
        "    tokenized_examples[\"end_positions\"] = []\n",
        "\n",
        "    for idx, offsets in enumerate(offset_mapping):\n",
        "        # We will label impossible answers with the index of the CLS token.\n",
        "        input_ids = tokenized_examples[\"input_ids\"][idx]\n",
        "        cls_index = input_ids.index(tokenizer.cls_token_id)\n",
        "\n",
        "        # Grab the sequence corresponding to that example (to know what is the context and what is the question).\n",
        "        sequence_ids = tokenized_examples.sequence_ids(idx)\n",
        "\n",
        "        # One example can give several spans, this is the index of the example containing this span of text.\n",
        "        sample_index = sample_mapping[idx]\n",
        "        # If no answers are given, set the cls_index as answer.\n",
        "        if len(examples[\"answers\"][sample_index]) == 0:\n",
        "            tokenized_examples[\"start_positions\"].append(cls_index)\n",
        "            tokenized_examples[\"end_positions\"].append(cls_index)\n",
        "        else:\n",
        "          # Start/end character index of the answer in the text.\n",
        "          i = examples[\"answers\"][sample_index][0]\n",
        "          start_char = len(''.join(examples['candidates'][sample_index][:i]))\n",
        "          end_char = start_char + len(''.join(examples['candidates'][sample_index][i]))\n",
        "\n",
        "          # Start token index of the current span in the text.\n",
        "          token_start_index = 0\n",
        "          while sequence_ids[token_start_index] != (1 if pad_on_right else 0):\n",
        "              token_start_index += 1\n",
        "\n",
        "          # End token index of the current span in the text.\n",
        "          token_end_index = len(input_ids) - 1\n",
        "          while sequence_ids[token_end_index] != (1 if pad_on_right else 0):\n",
        "              token_end_index -= 1\n",
        "\n",
        "          # Detect if the answer is out of the span (in which case this feature is labeled with the CLS index).\n",
        "          if not (offsets[token_start_index][0] <= start_char and offsets[token_end_index][1] >= end_char):\n",
        "              tokenized_examples[\"start_positions\"].append(cls_index)\n",
        "              tokenized_examples[\"end_positions\"].append(cls_index)\n",
        "          else:\n",
        "              # Otherwise move the token_start_index and token_end_index to the two ends of the answer.\n",
        "              # Note: we could go after the last offset if the answer is the last word (edge case).\n",
        "              while token_start_index < len(offsets) and offsets[token_start_index][0] <= start_char:\n",
        "                  token_start_index += 1\n",
        "              tokenized_examples[\"start_positions\"].append(token_start_index - 1)\n",
        "              while offsets[token_end_index][1] >= end_char:\n",
        "                  token_end_index -= 1\n",
        "              tokenized_examples[\"end_positions\"].append(token_end_index + 1)\n",
        "\n",
        "    return tokenized_examples"
      ],
      "execution_count": null,
      "outputs": []
    },
    {
      "cell_type": "code",
      "metadata": {
        "id": "jAwqVm2o73XJ"
      },
      "source": [
        "features = prepare_train_features(datasets['train'][:5])"
      ],
      "execution_count": null,
      "outputs": []
    },
    {
      "cell_type": "markdown",
      "source": [
        "## Tokenizing the dataset"
      ],
      "metadata": {
        "id": "ne-MYYcdWvBu"
      }
    },
    {
      "cell_type": "code",
      "metadata": {
        "colab": {
          "base_uri": "https://localhost:8080/"
        },
        "id": "H68v1HdGBNDa",
        "outputId": "84065090-f9aa-472a-c650-a069548d4667"
      },
      "source": [
        "tokenized_datasets = datasets.map(prepare_train_features, batched=True, remove_columns=datasets[\"train\"].column_names)"
      ],
      "execution_count": null,
      "outputs": [
        {
          "output_type": "stream",
          "name": "stderr",
          "text": [
            "Loading cached processed dataset at /root/.cache/huggingface/datasets/selqa/answer_selection_analysis/1.1.0/df32394da83caa47bbdc1df6db7d50432c2d73a25ac35c4ce95514a70c61fa1c/cache-28e0ed6454cc51ef.arrow\n",
            "Loading cached processed dataset at /root/.cache/huggingface/datasets/selqa/answer_selection_analysis/1.1.0/df32394da83caa47bbdc1df6db7d50432c2d73a25ac35c4ce95514a70c61fa1c/cache-a00712e4342d90fa.arrow\n",
            "Loading cached processed dataset at /root/.cache/huggingface/datasets/selqa/answer_selection_analysis/1.1.0/df32394da83caa47bbdc1df6db7d50432c2d73a25ac35c4ce95514a70c61fa1c/cache-b628047d7725b223.arrow\n"
          ]
        }
      ]
    },
    {
      "cell_type": "markdown",
      "source": [
        "## Training Parameters"
      ],
      "metadata": {
        "id": "qnWr5d_7r02m"
      }
    },
    {
      "cell_type": "markdown",
      "source": [
        "Due to memory constraint, fell back to 24 batch size from 32 batch size"
      ],
      "metadata": {
        "id": "Y4mtH9YAWxdl"
      }
    },
    {
      "cell_type": "code",
      "metadata": {
        "id": "biZ1wHK5hRsM"
      },
      "source": [
        "batch_size = 24\n",
        "epochs = 10"
      ],
      "execution_count": null,
      "outputs": []
    },
    {
      "cell_type": "code",
      "metadata": {
        "colab": {
          "base_uri": "https://localhost:8080/",
          "height": 211,
          "referenced_widgets": [
            "988e9e58f947422bb73b356dc147e98b",
            "06692c67cc054f5f91f54648ba8474a9",
            "38625d22362e472e9d421401e855334f",
            "dcd4bb1e8baf46f89cc558b482d20011",
            "6e42a0349fdc488db0c15896c08ca2aa",
            "ac34b85d1eb54451b812590ce524f64d",
            "0eccc23f8fd04abbb363d165d1da8a2b",
            "bc1b6cc7bd284d09a4bb31997af3cbdf",
            "20a96a00d4dd4ce9a8a221acd47d4eaf",
            "57862e54b8f74197801ab1cbafddd41c",
            "475c3c212d2e46ed845e154ac53b6885",
            "ec9698cebf454f7bbc7cbd456bd50f3e",
            "fb7e98ceeafa498c97fe44250959d73d",
            "8fb7bdd6fc584290bbd592c937971555",
            "63539364aacf485db4e4153d66dd8e8a",
            "c3a0044612a6490ead7dcebee108a2c3",
            "3b5aad80ab424cb38bfd6f66d156e44c",
            "4bf769f182f2436cb6b4b80a44d346c1",
            "6722caa59ed34b4b92feb48c01b9aaa7",
            "f907e29a8912480fb0ae3af2d765c80b",
            "c7533d7c0f6a48fdac9a44b0ab4104b0",
            "72e10ec5a49844b6b43606d9f09a64f9",
            "f8028167c564406bb9b723423e19f03b",
            "08e78a73b6094674bac0fa1cef1c73be",
            "d8d01b30b6bb4983a490c13aa21a6385",
            "33d2f1b9a64f4e7a92e519b393a29293",
            "6370c3e5c9704d18892e90228b759d4c",
            "68df7867448045059a210a5be60d22bc",
            "2dbb924803784ec5a9d50685ce1434a9",
            "9a512147264a412495cb582eb5af5fc4",
            "14206f2950864d07b719bcca7113b065",
            "d5f628f68e644f028b7bf68ec7581be0"
          ]
        },
        "id": "U4xZnXJhNifa",
        "outputId": "77ee8aaa-7ab0-4a7a-d3ee-17bf1043edac"
      },
      "source": [
        "from huggingface_hub import notebook_login\n",
        "\n",
        "notebook_login()"
      ],
      "execution_count": null,
      "outputs": [
        {
          "output_type": "stream",
          "name": "stderr",
          "text": [
            "ERROR:root:HfApi.login: This method is deprecated in favor of `set_access_token`.\n"
          ]
        },
        {
          "output_type": "stream",
          "name": "stdout",
          "text": [
            "Login successful\n",
            "Your token has been saved to /root/.huggingface/token\n"
          ]
        }
      ]
    },
    {
      "cell_type": "code",
      "metadata": {
        "id": "XczP2LC1Np5z"
      },
      "source": [
        "!git config --global credential.helper store"
      ],
      "execution_count": null,
      "outputs": []
    },
    {
      "cell_type": "markdown",
      "source": [
        "## Setting up the training arguments with W&B for reporting"
      ],
      "metadata": {
        "id": "Ksh-zJLwW_mU"
      }
    },
    {
      "cell_type": "code",
      "metadata": {
        "id": "A1O8lmQNL350"
      },
      "source": [
        "from transformers import TrainingArguments, Trainer\n",
        "\n",
        "\n",
        "\n",
        "args = TrainingArguments(\n",
        "    f\"{model_name}-finetuned-selqa\",\n",
        "    report_to = 'wandb',\n",
        "    run_name = 'custom_training_latest',\n",
        "    evaluation_strategy = \"epoch\",\n",
        "    learning_rate=3e-5,\n",
        "    per_device_train_batch_size=batch_size,\n",
        "    per_device_eval_batch_size=batch_size,\n",
        "    num_train_epochs=epochs,\n",
        "    weight_decay=0.01,\n",
        "    push_to_hub=True,\n",
        ")"
      ],
      "execution_count": null,
      "outputs": []
    },
    {
      "cell_type": "code",
      "metadata": {
        "id": "w7x9-7v5M6YX"
      },
      "source": [
        "from transformers import default_data_collator\n",
        "\n",
        "data_collator = default_data_collator"
      ],
      "execution_count": null,
      "outputs": []
    },
    {
      "cell_type": "code",
      "metadata": {
        "colab": {
          "base_uri": "https://localhost:8080/"
        },
        "id": "_8Mj250BN54x",
        "outputId": "ffd89ed0-6039-4c8b-93e1-007d05e6523a"
      },
      "source": [
        "trainer = Trainer(\n",
        "    model,\n",
        "    args,\n",
        "    train_dataset=tokenized_datasets[\"train\"],\n",
        "    eval_dataset=tokenized_datasets[\"validation\"],\n",
        "    data_collator=data_collator,\n",
        "    tokenizer=tokenizer,\n",
        ")"
      ],
      "execution_count": null,
      "outputs": [
        {
          "output_type": "stream",
          "name": "stderr",
          "text": [
            "/content/deepset/roberta-base-squad2-finetuned-selqa is already a clone of https://huggingface.co/Teepika/roberta-base-squad2-finetuned-selqa. Make sure you pull the latest changes with `repo.git_pull()`.\n",
            "WARNING:huggingface_hub.repository:/content/deepset/roberta-base-squad2-finetuned-selqa is already a clone of https://huggingface.co/Teepika/roberta-base-squad2-finetuned-selqa. Make sure you pull the latest changes with `repo.git_pull()`.\n"
          ]
        }
      ]
    },
    {
      "cell_type": "markdown",
      "source": [
        "## Training "
      ],
      "metadata": {
        "id": "A_dO8rbIXKCI"
      }
    },
    {
      "cell_type": "code",
      "source": [
        "trainer.train()"
      ],
      "metadata": {
        "colab": {
          "base_uri": "https://localhost:8080/",
          "height": 1000
        },
        "id": "Ym8-MVtcoMyH",
        "outputId": "0c640f3c-520a-4779-b103-96a0eaf5ad30"
      },
      "execution_count": null,
      "outputs": [
        {
          "metadata": {
            "tags": null
          },
          "name": "stderr",
          "output_type": "stream",
          "text": [
            "***** Running training *****\n",
            "  Num examples = 8202\n",
            "  Num Epochs = 10\n",
            "  Instantaneous batch size per device = 24\n",
            "  Total train batch size (w. parallel, distributed & accumulation) = 24\n",
            "  Gradient Accumulation steps = 1\n",
            "  Total optimization steps = 3420\n",
            "Automatic Weights & Biases logging enabled, to disable set os.environ[\"WANDB_DISABLED\"] = \"true\"\n",
            "\u001b[34m\u001b[1mwandb\u001b[0m: Currently logged in as: \u001b[33mteepika_rm\u001b[0m (use `wandb login --relogin` to force relogin)\n"
          ]
        },
        {
          "data": {
            "text/html": [
              "\n",
              "                    Syncing run <strong><a href=\"https://wandb.ai/teepika_rm/huggingface/runs/38tpp88n\" target=\"_blank\">custom_training_latest</a></strong> to <a href=\"https://wandb.ai/teepika_rm/huggingface\" target=\"_blank\">Weights & Biases</a> (<a href=\"https://docs.wandb.com/integrations/jupyter.html\" target=\"_blank\">docs</a>).<br/>\n",
              "\n",
              "                "
            ],
            "text/plain": [
              "<IPython.core.display.HTML object>"
            ]
          },
          "metadata": {},
          "output_type": "display_data"
        },
        {
          "data": {
            "text/html": [
              "\n",
              "    <div>\n",
              "      \n",
              "      <progress value='3246' max='3420' style='width:300px; height:20px; vertical-align: middle;'></progress>\n",
              "      [3246/3420 31:00 < 01:39, 1.74 it/s, Epoch 9.49/10]\n",
              "    </div>\n",
              "    <table border=\"1\" class=\"dataframe\">\n",
              "  <thead>\n",
              "    <tr style=\"text-align: left;\">\n",
              "      <th>Epoch</th>\n",
              "      <th>Training Loss</th>\n",
              "      <th>Validation Loss</th>\n",
              "    </tr>\n",
              "  </thead>\n",
              "  <tbody>\n",
              "    <tr>\n",
              "      <td>1</td>\n",
              "      <td>No log</td>\n",
              "      <td>0.353826</td>\n",
              "    </tr>\n",
              "    <tr>\n",
              "      <td>2</td>\n",
              "      <td>0.565200</td>\n",
              "      <td>0.360392</td>\n",
              "    </tr>\n",
              "    <tr>\n",
              "      <td>3</td>\n",
              "      <td>0.209900</td>\n",
              "      <td>0.339991</td>\n",
              "    </tr>\n",
              "    <tr>\n",
              "      <td>4</td>\n",
              "      <td>0.209900</td>\n",
              "      <td>0.459076</td>\n",
              "    </tr>\n",
              "    <tr>\n",
              "      <td>5</td>\n",
              "      <td>0.100200</td>\n",
              "      <td>0.503750</td>\n",
              "    </tr>\n",
              "    <tr>\n",
              "      <td>6</td>\n",
              "      <td>0.056700</td>\n",
              "      <td>0.430538</td>\n",
              "    </tr>\n",
              "    <tr>\n",
              "      <td>7</td>\n",
              "      <td>0.056700</td>\n",
              "      <td>0.493669</td>\n",
              "    </tr>\n",
              "    <tr>\n",
              "      <td>8</td>\n",
              "      <td>0.034600</td>\n",
              "      <td>0.519275</td>\n",
              "    </tr>\n",
              "    <tr>\n",
              "      <td>9</td>\n",
              "      <td>0.018600</td>\n",
              "      <td>0.489277</td>\n",
              "    </tr>\n",
              "  </tbody>\n",
              "</table><p>"
            ],
            "text/plain": [
              "<IPython.core.display.HTML object>"
            ]
          },
          "metadata": {},
          "output_type": "display_data"
        },
        {
          "metadata": {
            "tags": null
          },
          "name": "stderr",
          "output_type": "stream",
          "text": [
            "***** Running Evaluation *****\n",
            "  Num examples = 1172\n",
            "  Batch size = 24\n",
            "Saving model checkpoint to deepset/roberta-base-squad2-finetuned-selqa/checkpoint-500\n",
            "Configuration saved in deepset/roberta-base-squad2-finetuned-selqa/checkpoint-500/config.json\n",
            "Model weights saved in deepset/roberta-base-squad2-finetuned-selqa/checkpoint-500/pytorch_model.bin\n",
            "tokenizer config file saved in deepset/roberta-base-squad2-finetuned-selqa/checkpoint-500/tokenizer_config.json\n",
            "Special tokens file saved in deepset/roberta-base-squad2-finetuned-selqa/checkpoint-500/special_tokens_map.json\n",
            "tokenizer config file saved in deepset/roberta-base-squad2-finetuned-selqa/tokenizer_config.json\n",
            "Special tokens file saved in deepset/roberta-base-squad2-finetuned-selqa/special_tokens_map.json\n",
            "***** Running Evaluation *****\n",
            "  Num examples = 1172\n",
            "  Batch size = 24\n",
            "Saving model checkpoint to deepset/roberta-base-squad2-finetuned-selqa/checkpoint-1000\n",
            "Configuration saved in deepset/roberta-base-squad2-finetuned-selqa/checkpoint-1000/config.json\n",
            "Model weights saved in deepset/roberta-base-squad2-finetuned-selqa/checkpoint-1000/pytorch_model.bin\n",
            "tokenizer config file saved in deepset/roberta-base-squad2-finetuned-selqa/checkpoint-1000/tokenizer_config.json\n",
            "Special tokens file saved in deepset/roberta-base-squad2-finetuned-selqa/checkpoint-1000/special_tokens_map.json\n",
            "***** Running Evaluation *****\n",
            "  Num examples = 1172\n",
            "  Batch size = 24\n",
            "***** Running Evaluation *****\n",
            "  Num examples = 1172\n",
            "  Batch size = 24\n",
            "Saving model checkpoint to deepset/roberta-base-squad2-finetuned-selqa/checkpoint-1500\n",
            "Configuration saved in deepset/roberta-base-squad2-finetuned-selqa/checkpoint-1500/config.json\n",
            "Model weights saved in deepset/roberta-base-squad2-finetuned-selqa/checkpoint-1500/pytorch_model.bin\n",
            "tokenizer config file saved in deepset/roberta-base-squad2-finetuned-selqa/checkpoint-1500/tokenizer_config.json\n",
            "Special tokens file saved in deepset/roberta-base-squad2-finetuned-selqa/checkpoint-1500/special_tokens_map.json\n",
            "***** Running Evaluation *****\n",
            "  Num examples = 1172\n",
            "  Batch size = 24\n",
            "Saving model checkpoint to deepset/roberta-base-squad2-finetuned-selqa/checkpoint-2000\n",
            "Configuration saved in deepset/roberta-base-squad2-finetuned-selqa/checkpoint-2000/config.json\n",
            "Model weights saved in deepset/roberta-base-squad2-finetuned-selqa/checkpoint-2000/pytorch_model.bin\n",
            "tokenizer config file saved in deepset/roberta-base-squad2-finetuned-selqa/checkpoint-2000/tokenizer_config.json\n",
            "Special tokens file saved in deepset/roberta-base-squad2-finetuned-selqa/checkpoint-2000/special_tokens_map.json\n",
            "***** Running Evaluation *****\n",
            "  Num examples = 1172\n",
            "  Batch size = 24\n",
            "***** Running Evaluation *****\n",
            "  Num examples = 1172\n",
            "  Batch size = 24\n",
            "Saving model checkpoint to deepset/roberta-base-squad2-finetuned-selqa/checkpoint-2500\n",
            "Configuration saved in deepset/roberta-base-squad2-finetuned-selqa/checkpoint-2500/config.json\n",
            "Model weights saved in deepset/roberta-base-squad2-finetuned-selqa/checkpoint-2500/pytorch_model.bin\n",
            "tokenizer config file saved in deepset/roberta-base-squad2-finetuned-selqa/checkpoint-2500/tokenizer_config.json\n",
            "Special tokens file saved in deepset/roberta-base-squad2-finetuned-selqa/checkpoint-2500/special_tokens_map.json\n",
            "***** Running Evaluation *****\n",
            "  Num examples = 1172\n",
            "  Batch size = 24\n",
            "Saving model checkpoint to deepset/roberta-base-squad2-finetuned-selqa/checkpoint-3000\n",
            "Configuration saved in deepset/roberta-base-squad2-finetuned-selqa/checkpoint-3000/config.json\n",
            "Model weights saved in deepset/roberta-base-squad2-finetuned-selqa/checkpoint-3000/pytorch_model.bin\n",
            "tokenizer config file saved in deepset/roberta-base-squad2-finetuned-selqa/checkpoint-3000/tokenizer_config.json\n",
            "Special tokens file saved in deepset/roberta-base-squad2-finetuned-selqa/checkpoint-3000/special_tokens_map.json\n",
            "***** Running Evaluation *****\n",
            "  Num examples = 1172\n",
            "  Batch size = 24\n"
          ]
        },
        {
          "output_type": "display_data",
          "data": {
            "text/html": [
              "\n",
              "    <div>\n",
              "      \n",
              "      <progress value='3420' max='3420' style='width:300px; height:20px; vertical-align: middle;'></progress>\n",
              "      [3420/3420 32:43, Epoch 10/10]\n",
              "    </div>\n",
              "    <table border=\"1\" class=\"dataframe\">\n",
              "  <thead>\n",
              "    <tr style=\"text-align: left;\">\n",
              "      <th>Epoch</th>\n",
              "      <th>Training Loss</th>\n",
              "      <th>Validation Loss</th>\n",
              "    </tr>\n",
              "  </thead>\n",
              "  <tbody>\n",
              "    <tr>\n",
              "      <td>1</td>\n",
              "      <td>No log</td>\n",
              "      <td>0.353826</td>\n",
              "    </tr>\n",
              "    <tr>\n",
              "      <td>2</td>\n",
              "      <td>0.565200</td>\n",
              "      <td>0.360392</td>\n",
              "    </tr>\n",
              "    <tr>\n",
              "      <td>3</td>\n",
              "      <td>0.209900</td>\n",
              "      <td>0.339991</td>\n",
              "    </tr>\n",
              "    <tr>\n",
              "      <td>4</td>\n",
              "      <td>0.209900</td>\n",
              "      <td>0.459076</td>\n",
              "    </tr>\n",
              "    <tr>\n",
              "      <td>5</td>\n",
              "      <td>0.100200</td>\n",
              "      <td>0.503750</td>\n",
              "    </tr>\n",
              "    <tr>\n",
              "      <td>6</td>\n",
              "      <td>0.056700</td>\n",
              "      <td>0.430538</td>\n",
              "    </tr>\n",
              "    <tr>\n",
              "      <td>7</td>\n",
              "      <td>0.056700</td>\n",
              "      <td>0.493669</td>\n",
              "    </tr>\n",
              "    <tr>\n",
              "      <td>8</td>\n",
              "      <td>0.034600</td>\n",
              "      <td>0.519275</td>\n",
              "    </tr>\n",
              "    <tr>\n",
              "      <td>9</td>\n",
              "      <td>0.018600</td>\n",
              "      <td>0.489277</td>\n",
              "    </tr>\n",
              "    <tr>\n",
              "      <td>10</td>\n",
              "      <td>0.018600</td>\n",
              "      <td>0.523494</td>\n",
              "    </tr>\n",
              "  </tbody>\n",
              "</table><p>"
            ],
            "text/plain": [
              "<IPython.core.display.HTML object>"
            ]
          },
          "metadata": {}
        },
        {
          "output_type": "stream",
          "name": "stderr",
          "text": [
            "***** Running Evaluation *****\n",
            "  Num examples = 1172\n",
            "  Batch size = 24\n",
            "\n",
            "\n",
            "Training completed. Do not forget to share your model on huggingface.co/models =)\n",
            "\n",
            "\n"
          ]
        },
        {
          "output_type": "execute_result",
          "data": {
            "text/plain": [
              "TrainOutput(global_step=3420, training_loss=0.1454621606402927, metrics={'train_runtime': 1970.0996, 'train_samples_per_second': 41.632, 'train_steps_per_second': 1.736, 'total_flos': 1.615738702181616e+16, 'train_loss': 0.1454621606402927, 'epoch': 10.0})"
            ]
          },
          "metadata": {},
          "execution_count": 28
        }
      ]
    },
    {
      "cell_type": "markdown",
      "source": [
        "Eval loss and Summary extracted from W&B dashboard for the model training"
      ],
      "metadata": {
        "id": "CpvaECzzXN4W"
      }
    },
    {
      "cell_type": "markdown",
      "source": [
        "![image.png](data:image/png;base64,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)"
      ],
      "metadata": {
        "id": "1UxJz9IzRPw6"
      }
    },
    {
      "cell_type": "markdown",
      "source": [
        "![image.png](data:image/png;base64,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)"
      ],
      "metadata": {
        "id": "D5Xx21tHQqDw"
      }
    },
    {
      "cell_type": "markdown",
      "source": [
        "![image.png](data:image/png;base64,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)"
      ],
      "metadata": {
        "id": "HRkbYwKaSV3N"
      }
    },
    {
      "cell_type": "code",
      "metadata": {
        "colab": {
          "base_uri": "https://localhost:8080/",
          "height": 693
        },
        "id": "BHdSDkh8ODnr",
        "outputId": "af926ac7-9443-423d-89c8-8c89c3f57570"
      },
      "source": [
        "# trainer.train()"
      ],
      "execution_count": null,
      "outputs": [
        {
          "output_type": "stream",
          "name": "stderr",
          "text": [
            "***** Running training *****\n",
            "  Num examples = 8202\n",
            "  Num Epochs = 3\n",
            "  Instantaneous batch size per device = 32\n",
            "  Total train batch size (w. parallel, distributed & accumulation) = 32\n",
            "  Gradient Accumulation steps = 1\n",
            "  Total optimization steps = 771\n"
          ]
        },
        {
          "output_type": "display_data",
          "data": {
            "text/html": [
              "\n",
              "    <div>\n",
              "      \n",
              "      <progress value='771' max='771' style='width:300px; height:20px; vertical-align: middle;'></progress>\n",
              "      [771/771 2:36:17, Epoch 3/3]\n",
              "    </div>\n",
              "    <table border=\"1\" class=\"dataframe\">\n",
              "  <thead>\n",
              "    <tr style=\"text-align: left;\">\n",
              "      <th>Epoch</th>\n",
              "      <th>Training Loss</th>\n",
              "      <th>Validation Loss</th>\n",
              "    </tr>\n",
              "  </thead>\n",
              "  <tbody>\n",
              "    <tr>\n",
              "      <td>1</td>\n",
              "      <td>No log</td>\n",
              "      <td>0.377454</td>\n",
              "    </tr>\n",
              "    <tr>\n",
              "      <td>2</td>\n",
              "      <td>0.521400</td>\n",
              "      <td>0.353950</td>\n",
              "    </tr>\n",
              "    <tr>\n",
              "      <td>3</td>\n",
              "      <td>0.521400</td>\n",
              "      <td>0.342575</td>\n",
              "    </tr>\n",
              "  </tbody>\n",
              "</table><p>"
            ],
            "text/plain": [
              "<IPython.core.display.HTML object>"
            ]
          },
          "metadata": {}
        },
        {
          "output_type": "stream",
          "name": "stderr",
          "text": [
            "***** Running Evaluation *****\n",
            "  Num examples = 1172\n",
            "  Batch size = 32\n",
            "Saving model checkpoint to deepset/roberta-base-squad2-finetuned-selqa/checkpoint-500\n",
            "Configuration saved in deepset/roberta-base-squad2-finetuned-selqa/checkpoint-500/config.json\n",
            "Model weights saved in deepset/roberta-base-squad2-finetuned-selqa/checkpoint-500/pytorch_model.bin\n",
            "tokenizer config file saved in deepset/roberta-base-squad2-finetuned-selqa/checkpoint-500/tokenizer_config.json\n",
            "Special tokens file saved in deepset/roberta-base-squad2-finetuned-selqa/checkpoint-500/special_tokens_map.json\n",
            "tokenizer config file saved in deepset/roberta-base-squad2-finetuned-selqa/tokenizer_config.json\n",
            "Special tokens file saved in deepset/roberta-base-squad2-finetuned-selqa/special_tokens_map.json\n",
            "***** Running Evaluation *****\n",
            "  Num examples = 1172\n",
            "  Batch size = 32\n",
            "***** Running Evaluation *****\n",
            "  Num examples = 1172\n",
            "  Batch size = 32\n",
            "\n",
            "\n",
            "Training completed. Do not forget to share your model on huggingface.co/models =)\n",
            "\n",
            "\n"
          ]
        },
        {
          "output_type": "execute_result",
          "data": {
            "text/plain": [
              "TrainOutput(global_step=771, training_loss=0.4039787114362309, metrics={'train_runtime': 9390.9729, 'train_samples_per_second': 2.62, 'train_steps_per_second': 0.082, 'total_flos': 4847216106544848.0, 'train_loss': 0.4039787114362309, 'epoch': 3.0})"
            ]
          },
          "metadata": {},
          "execution_count": 35
        }
      ]
    },
    {
      "cell_type": "code",
      "metadata": {
        "colab": {
          "base_uri": "https://localhost:8080/"
        },
        "id": "0fv69T6UOEx4",
        "outputId": "785ecaab-04be-4757-cbe8-8d5cafc17c8c"
      },
      "source": [
        "# trainer.save_model(\"roberta-base-squad2-finetuned-selqa-3\")"
      ],
      "execution_count": null,
      "outputs": [
        {
          "output_type": "stream",
          "name": "stderr",
          "text": [
            "Saving model checkpoint to roberta-base-squad2-finetuned-selqa-3\n",
            "Configuration saved in roberta-base-squad2-finetuned-selqa-3/config.json\n",
            "Model weights saved in roberta-base-squad2-finetuned-selqa-3/pytorch_model.bin\n",
            "tokenizer config file saved in roberta-base-squad2-finetuned-selqa-3/tokenizer_config.json\n",
            "Special tokens file saved in roberta-base-squad2-finetuned-selqa-3/special_tokens_map.json\n"
          ]
        }
      ]
    },
    {
      "cell_type": "code",
      "metadata": {
        "id": "Rt01xPc3yuJv",
        "colab": {
          "base_uri": "https://localhost:8080/"
        },
        "outputId": "5cee9a0c-81e3-4afe-eb90-ad3ebe3e36ff"
      },
      "source": [
        "import os\n",
        "from google.colab import drive\n",
        "\n",
        "from google.colab import drive\n",
        "drive.mount('/content/drive', force_remount=True)\n"
      ],
      "execution_count": null,
      "outputs": [
        {
          "output_type": "stream",
          "name": "stdout",
          "text": [
            "Mounted at /content/drive\n"
          ]
        }
      ]
    },
    {
      "cell_type": "code",
      "source": [
        "\n",
        "DIRECTORY = '/content/drive/Shareddrives/CMPE297' \n",
        "\n",
        "if os.getcwd() != DIRECTORY:\n",
        "  os.chdir(DIRECTORY)"
      ],
      "metadata": {
        "id": "j4U40RYT-amj"
      },
      "execution_count": null,
      "outputs": []
    },
    {
      "cell_type": "code",
      "source": [
        "! ls -lrt"
      ],
      "metadata": {
        "colab": {
          "base_uri": "https://localhost:8080/"
        },
        "id": "PiAy3Hxm-6WG",
        "outputId": "669b4958-4642-44cd-eb2a-7a079f246643"
      },
      "execution_count": null,
      "outputs": [
        {
          "output_type": "stream",
          "name": "stdout",
          "text": [
            "total 16\n",
            "drwxr-xr-x 1 root root 4096 Dec  3 14:33 sample_data\n",
            "drwxr-xr-x 3 root root 4096 Dec  8 20:23 deepset\n",
            "drwxr-xr-x 6 root root 4096 Dec  8 21:01 wandb\n",
            "drwx------ 6 root root 4096 Dec  8 21:37 drive\n"
          ]
        }
      ]
    },
    {
      "cell_type": "code",
      "metadata": {
        "colab": {
          "base_uri": "https://localhost:8080/"
        },
        "id": "KO-RWBSWYUQE",
        "outputId": "37b78fa0-1463-4108-91f4-aef938307d9d"
      },
      "source": [
        "model = AutoModelForQuestionAnswering.from_pretrained('./deepset/roberta-base-squad2-finetuned-selqa')"
      ],
      "execution_count": null,
      "outputs": [
        {
          "output_type": "stream",
          "name": "stderr",
          "text": [
            "loading configuration file ./deepset/roberta-base-squad2-finetuned-selqa/config.json\n",
            "Model config RobertaConfig {\n",
            "  \"_name_or_path\": \"deepset/roberta-base-squad2\",\n",
            "  \"architectures\": [\n",
            "    \"RobertaForQuestionAnswering\"\n",
            "  ],\n",
            "  \"attention_probs_dropout_prob\": 0.1,\n",
            "  \"bos_token_id\": 0,\n",
            "  \"classifier_dropout\": null,\n",
            "  \"eos_token_id\": 2,\n",
            "  \"gradient_checkpointing\": false,\n",
            "  \"hidden_act\": \"gelu\",\n",
            "  \"hidden_dropout_prob\": 0.1,\n",
            "  \"hidden_size\": 768,\n",
            "  \"initializer_range\": 0.02,\n",
            "  \"intermediate_size\": 3072,\n",
            "  \"language\": \"english\",\n",
            "  \"layer_norm_eps\": 1e-05,\n",
            "  \"max_position_embeddings\": 514,\n",
            "  \"model_type\": \"roberta\",\n",
            "  \"name\": \"Roberta\",\n",
            "  \"num_attention_heads\": 12,\n",
            "  \"num_hidden_layers\": 12,\n",
            "  \"pad_token_id\": 1,\n",
            "  \"position_embedding_type\": \"absolute\",\n",
            "  \"torch_dtype\": \"float32\",\n",
            "  \"transformers_version\": \"4.12.5\",\n",
            "  \"type_vocab_size\": 1,\n",
            "  \"use_cache\": true,\n",
            "  \"vocab_size\": 50265\n",
            "}\n",
            "\n",
            "loading weights file ./deepset/roberta-base-squad2-finetuned-selqa/pytorch_model.bin\n",
            "All model checkpoint weights were used when initializing RobertaForQuestionAnswering.\n",
            "\n",
            "All the weights of RobertaForQuestionAnswering were initialized from the model checkpoint at ./deepset/roberta-base-squad2-finetuned-selqa.\n",
            "If your task is similar to the task the model of the checkpoint was trained on, you can already use RobertaForQuestionAnswering for predictions without further training.\n"
          ]
        }
      ]
    },
    {
      "cell_type": "code",
      "metadata": {
        "colab": {
          "base_uri": "https://localhost:8080/"
        },
        "id": "cRpnVEKWZmpH",
        "outputId": "f83313ec-f957-43f3-d105-d349bcf771d0"
      },
      "source": [
        "!huggingface-cli login"
      ],
      "execution_count": null,
      "outputs": [
        {
          "output_type": "stream",
          "name": "stdout",
          "text": [
            "\n",
            "        _|    _|  _|    _|    _|_|_|    _|_|_|  _|_|_|  _|      _|    _|_|_|      _|_|_|_|    _|_|      _|_|_|  _|_|_|_|\n",
            "        _|    _|  _|    _|  _|        _|          _|    _|_|    _|  _|            _|        _|    _|  _|        _|\n",
            "        _|_|_|_|  _|    _|  _|  _|_|  _|  _|_|    _|    _|  _|  _|  _|  _|_|      _|_|_|    _|_|_|_|  _|        _|_|_|\n",
            "        _|    _|  _|    _|  _|    _|  _|    _|    _|    _|    _|_|  _|    _|      _|        _|    _|  _|        _|\n",
            "        _|    _|    _|_|      _|_|_|    _|_|_|  _|_|_|  _|      _|    _|_|_|      _|        _|    _|    _|_|_|  _|_|_|_|\n",
            "\n",
            "        To login, `huggingface_hub` now requires a token generated from https://huggingface.co/settings/token.\n",
            "        (Deprecated, will be removed in v0.3.0) To login with username and password instead, interrupt with Ctrl+C.\n",
            "        \n",
            "Token: \n",
            "Login successful\n",
            "Your token has been saved to /root/.huggingface/token\n"
          ]
        }
      ]
    },
    {
      "cell_type": "code",
      "metadata": {
        "colab": {
          "base_uri": "https://localhost:8080/"
        },
        "id": "_DPftAqM0gQm",
        "outputId": "1aa2d1cd-8928-4f6b-b78b-d68724086549"
      },
      "source": [
        "!apt install git-lfs"
      ],
      "execution_count": null,
      "outputs": [
        {
          "output_type": "stream",
          "name": "stdout",
          "text": [
            "Reading package lists... Done\n",
            "Building dependency tree       \n",
            "Reading state information... Done\n",
            "git-lfs is already the newest version (2.3.4-1).\n",
            "0 upgraded, 0 newly installed, 0 to remove and 37 not upgraded.\n"
          ]
        }
      ]
    },
    {
      "cell_type": "code",
      "metadata": {
        "colab": {
          "base_uri": "https://localhost:8080/"
        },
        "id": "VTeT1Q2c0T-5",
        "outputId": "0b29cf38-3845-4b2c-e86d-5202f46b86dc"
      },
      "source": [
        "!huggingface-cli repo create roberta-base-squad2-finetuned-selqa"
      ],
      "execution_count": null,
      "outputs": [
        {
          "output_type": "stream",
          "name": "stdout",
          "text": [
            "\u001b[90mgit version 2.17.1\u001b[0m\n",
            "Error: unknown flag: --version\n",
            "\n",
            "\u001b[90mSorry, no usage text found for \"git-lfs\"\u001b[0m\n",
            "\n",
            "You are about to create \u001b[1mTeepika/roberta-base-squad2-finetuned-selqa\u001b[0m\n",
            "Proceed? [Y/n] Y\n",
            "409 Client Error: Conflict for url: https://huggingface.co/api/repos/create - You already created this model repo\n",
            "\u001b[1m\u001b[31m{\"error\":\"You already created this model repo\",\"url\":\"https://huggingface.co/Teepika/roberta-base-squad2-finetuned-selqa\"}\u001b[0m\n"
          ]
        }
      ]
    },
    {
      "cell_type": "code",
      "metadata": {
        "colab": {
          "base_uri": "https://localhost:8080/"
        },
        "id": "y2w-sskP0_MQ",
        "outputId": "0b04608a-b036-4390-c6bc-5d6804da3f24"
      },
      "source": [
        "!git lfs install"
      ],
      "execution_count": null,
      "outputs": [
        {
          "output_type": "stream",
          "name": "stdout",
          "text": [
            "Error: Failed to call git rev-parse --git-dir --show-toplevel: \"fatal: not a git repository (or any of the parent directories): .git\\n\"\n",
            "Git LFS initialized.\n"
          ]
        }
      ]
    },
    {
      "cell_type": "code",
      "source": [
        "!git clone https://huggingface.co/Teepika/roberta-base-squad2-finetuned-selqa"
      ],
      "metadata": {
        "colab": {
          "base_uri": "https://localhost:8080/"
        },
        "id": "QC3tYM7S_kET",
        "outputId": "e6a76bbe-8375-4706-ae5c-ff90e6aa3544"
      },
      "execution_count": null,
      "outputs": [
        {
          "output_type": "stream",
          "name": "stdout",
          "text": [
            "Cloning into 'roberta-base-squad2-finetuned-selqa'...\n",
            "remote: Enumerating objects: 3, done.\u001b[K\n",
            "remote: Counting objects: 100% (3/3), done.\u001b[K\n",
            "remote: Compressing objects: 100% (2/2), done.\u001b[K\n",
            "remote: Total 3 (delta 0), reused 0 (delta 0)\u001b[K\n",
            "Unpacking objects: 100% (3/3), done.\n"
          ]
        }
      ]
    },
    {
      "cell_type": "code",
      "metadata": {
        "colab": {
          "base_uri": "https://localhost:8080/"
        },
        "id": "imYnPjcS1IWT",
        "outputId": "7a12158c-0571-467e-c3f3-7e17fba07834"
      },
      "source": [
        "!git clone https://huggingface.co/duncaninganji/roberta-base-squad2-finetuned-selqa-3"
      ],
      "execution_count": null,
      "outputs": [
        {
          "output_type": "stream",
          "name": "stdout",
          "text": [
            "Cloning into 'roberta-base-squad2-finetuned-selqa-3'...\n",
            "remote: Enumerating objects: 3, done.\u001b[K\n",
            "remote: Counting objects: 100% (3/3), done.\u001b[K\n",
            "remote: Compressing objects: 100% (2/2), done.\u001b[K\n",
            "remote: Total 3 (delta 0), reused 0 (delta 0)\u001b[K\n",
            "Unpacking objects: 100% (3/3), done.\n"
          ]
        }
      ]
    },
    {
      "cell_type": "code",
      "metadata": {
        "id": "YIepuy5V3ILF"
      },
      "source": [
        "!cd roberta-base-squad2-finetuned-selqa && ls"
      ],
      "execution_count": null,
      "outputs": []
    },
    {
      "cell_type": "code",
      "metadata": {
        "colab": {
          "base_uri": "https://localhost:8080/"
        },
        "id": "gejFomqw1aTN",
        "outputId": "2e3570b1-2332-4826-f2f7-47c38aa6b692"
      },
      "source": [
        "!cd roberta-base-squad2-finetuned-selqa\n",
        "!echo \"modelv1\" >> README.md\n",
        "!git add . && git commit -m \"modelv1 from $USER\""
      ],
      "execution_count": null,
      "outputs": [
        {
          "output_type": "stream",
          "name": "stdout",
          "text": [
            "fatal: not a git repository (or any of the parent directories): .git\n"
          ]
        }
      ]
    },
    {
      "cell_type": "markdown",
      "source": [
        "## Saving the model in huggingface hub"
      ],
      "metadata": {
        "id": "Qv9FNApYXXvn"
      }
    },
    {
      "cell_type": "code",
      "metadata": {
        "colab": {
          "base_uri": "https://localhost:8080/",
          "height": 206,
          "referenced_widgets": [
            "74468a68cbce4c34ab4b74a07af59243",
            "204c3277317a42f6a4bddff64e94463a",
            "b0b1d79b92184c19acb124f8981ae7da",
            "400ef43c7f5642bf8835179259507d38",
            "f3c1739aceab45df83d106626fcc476b",
            "5eb1ce7c921e42fa907daeb9e20c0622",
            "77bd3221076e47f380258a8cec84805f",
            "64143157756e4af4953539265d7b77c5",
            "7ef3421a11f5430f95f9bd3237b2c314",
            "bb8042ec3ed345a0a56dac413b7365f5",
            "8ebf75811dc74b1f9b44b97386b7c1a1"
          ]
        },
        "id": "NNLMGIwKYy9j",
        "outputId": "8aa5b394-1792-468a-8e5b-41ba1c751198"
      },
      "source": [
        "model.push_to_hub('roberta-base-squad2-finetuned-selqa')"
      ],
      "execution_count": null,
      "outputs": [
        {
          "output_type": "stream",
          "name": "stderr",
          "text": [
            "Configuration saved in roberta-base-squad2-finetuned-selqa/config.json\n",
            "Model weights saved in roberta-base-squad2-finetuned-selqa/pytorch_model.bin\n"
          ]
        },
        {
          "output_type": "display_data",
          "data": {
            "application/vnd.jupyter.widget-view+json": {
              "model_id": "74468a68cbce4c34ab4b74a07af59243",
              "version_minor": 0,
              "version_major": 2
            },
            "text/plain": [
              "Upload file pytorch_model.bin:   0%|          | 3.37k/473M [00:00<?, ?B/s]"
            ]
          },
          "metadata": {}
        },
        {
          "output_type": "stream",
          "name": "stderr",
          "text": [
            "To https://huggingface.co/Teepika/roberta-base-squad2-finetuned-selqa\n",
            "   bb895b1..6182f6a  main -> main\n",
            "\n",
            "WARNING:huggingface_hub.repository:To https://huggingface.co/Teepika/roberta-base-squad2-finetuned-selqa\n",
            "   bb895b1..6182f6a  main -> main\n",
            "\n"
          ]
        },
        {
          "output_type": "execute_result",
          "data": {
            "application/vnd.google.colaboratory.intrinsic+json": {
              "type": "string"
            },
            "text/plain": [
              "'https://huggingface.co/Teepika/roberta-base-squad2-finetuned-selqa/commit/6182f6a901980ea056ac4394a819ace777759d21'"
            ]
          },
          "metadata": {},
          "execution_count": 47
        }
      ]
    },
    {
      "cell_type": "code",
      "metadata": {
        "colab": {
          "base_uri": "https://localhost:8080/",
          "height": 174
        },
        "id": "jHEPs7_E4pxL",
        "outputId": "eb7ad11e-97e6-4bf8-94c9-914e2cfd9165"
      },
      "source": [
        "tokenizer.push_to_hub('roberta-base-squad2-finetuned-selqa')"
      ],
      "execution_count": null,
      "outputs": [
        {
          "output_type": "stream",
          "name": "stderr",
          "text": [
            "tokenizer config file saved in roberta-base-squad2-finetuned-selqa/tokenizer_config.json\n",
            "Special tokens file saved in roberta-base-squad2-finetuned-selqa/special_tokens_map.json\n",
            "To https://huggingface.co/Teepika/roberta-base-squad2-finetuned-selqa\n",
            "   6182f6a..3abcf22  main -> main\n",
            "\n",
            "WARNING:huggingface_hub.repository:To https://huggingface.co/Teepika/roberta-base-squad2-finetuned-selqa\n",
            "   6182f6a..3abcf22  main -> main\n",
            "\n"
          ]
        },
        {
          "output_type": "execute_result",
          "data": {
            "application/vnd.google.colaboratory.intrinsic+json": {
              "type": "string"
            },
            "text/plain": [
              "'https://huggingface.co/Teepika/roberta-base-squad2-finetuned-selqa/commit/3abcf22e3c2d007e982e1b121e23d044cd01fb5e'"
            ]
          },
          "metadata": {},
          "execution_count": 48
        }
      ]
    },
    {
      "cell_type": "code",
      "metadata": {
        "id": "9eb9Z1XZ4cmE"
      },
      "source": [
        "model_name = 'Teepika/roberta-base-squad2-finetuned-selqa'\n",
        "model = AutoModelForQuestionAnswering.from_pretrained(model_name)\n",
        "tokenizer = AutoTokenizer.from_pretrained(model_name)"
      ],
      "execution_count": null,
      "outputs": []
    },
    {
      "cell_type": "markdown",
      "metadata": {
        "id": "uSuTJ3uJHJWb"
      },
      "source": [
        "## Extractive QA pipeline"
      ]
    },
    {
      "cell_type": "code",
      "metadata": {
        "colab": {
          "base_uri": "https://localhost:8080/"
        },
        "id": "v-W_RhYMHJFU",
        "outputId": "d384176d-5fee-440e-bdfd-ede182ac882c"
      },
      "source": [
        "import os\n",
        "from google.colab import drive\n",
        "\n",
        "drive.mount('/content/drive')\n",
        "\n",
        "DIRECTORY = '/content/drive/Shareddrives/CMPE297' \n",
        "\n",
        "if os.getcwd() != DIRECTORY:\n",
        "  os.chdir(DIRECTORY)"
      ],
      "execution_count": null,
      "outputs": [
        {
          "output_type": "stream",
          "name": "stdout",
          "text": [
            "Drive already mounted at /content/drive; to attempt to forcibly remount, call drive.mount(\"/content/drive\", force_remount=True).\n"
          ]
        }
      ]
    },
    {
      "cell_type": "code",
      "metadata": {
        "colab": {
          "base_uri": "https://localhost:8080/"
        },
        "id": "jdwyMwhh4dzJ",
        "outputId": "1dadb717-3155-4d5d-bed5-515b57e97052"
      },
      "source": [
        "!pip install transformers"
      ],
      "execution_count": null,
      "outputs": [
        {
          "output_type": "stream",
          "name": "stdout",
          "text": [
            "Requirement already satisfied: transformers in /usr/local/lib/python3.7/dist-packages (4.7.0)\n",
            "Requirement already satisfied: importlib-metadata in /usr/local/lib/python3.7/dist-packages (from transformers) (4.8.2)\n",
            "Requirement already satisfied: filelock in /usr/local/lib/python3.7/dist-packages (from transformers) (3.4.0)\n",
            "Requirement already satisfied: regex!=2019.12.17 in /usr/local/lib/python3.7/dist-packages (from transformers) (2019.12.20)\n",
            "Requirement already satisfied: tqdm>=4.27 in /usr/local/lib/python3.7/dist-packages (from transformers) (4.62.3)\n",
            "Requirement already satisfied: sacremoses in /usr/local/lib/python3.7/dist-packages (from transformers) (0.0.46)\n",
            "Requirement already satisfied: tokenizers<0.11,>=0.10.1 in /usr/local/lib/python3.7/dist-packages (from transformers) (0.10.3)\n",
            "Requirement already satisfied: numpy>=1.17 in /usr/local/lib/python3.7/dist-packages (from transformers) (1.19.5)\n",
            "Requirement already satisfied: packaging in /usr/local/lib/python3.7/dist-packages (from transformers) (21.3)\n",
            "Requirement already satisfied: pyyaml in /usr/local/lib/python3.7/dist-packages (from transformers) (6.0)\n",
            "Requirement already satisfied: requests in /usr/local/lib/python3.7/dist-packages (from transformers) (2.23.0)\n",
            "Requirement already satisfied: huggingface-hub==0.0.8 in /usr/local/lib/python3.7/dist-packages (from transformers) (0.0.8)\n",
            "Requirement already satisfied: typing-extensions>=3.6.4 in /usr/local/lib/python3.7/dist-packages (from importlib-metadata->transformers) (3.10.0.2)\n",
            "Requirement already satisfied: zipp>=0.5 in /usr/local/lib/python3.7/dist-packages (from importlib-metadata->transformers) (3.6.0)\n",
            "Requirement already satisfied: pyparsing!=3.0.5,>=2.0.2 in /usr/local/lib/python3.7/dist-packages (from packaging->transformers) (3.0.6)\n",
            "Requirement already satisfied: idna<3,>=2.5 in /usr/local/lib/python3.7/dist-packages (from requests->transformers) (2.10)\n",
            "Requirement already satisfied: urllib3!=1.25.0,!=1.25.1,<1.26,>=1.21.1 in /usr/local/lib/python3.7/dist-packages (from requests->transformers) (1.24.3)\n",
            "Requirement already satisfied: certifi>=2017.4.17 in /usr/local/lib/python3.7/dist-packages (from requests->transformers) (2021.10.8)\n",
            "Requirement already satisfied: chardet<4,>=3.0.2 in /usr/local/lib/python3.7/dist-packages (from requests->transformers) (3.0.4)\n",
            "Requirement already satisfied: six in /usr/local/lib/python3.7/dist-packages (from sacremoses->transformers) (1.15.0)\n",
            "Requirement already satisfied: joblib in /usr/local/lib/python3.7/dist-packages (from sacremoses->transformers) (1.1.0)\n",
            "Requirement already satisfied: click in /usr/local/lib/python3.7/dist-packages (from sacremoses->transformers) (7.1.2)\n"
          ]
        }
      ]
    },
    {
      "cell_type": "code",
      "source": [
        "from transformers import AutoModelForQuestionAnswering, AutoTokenizer"
      ],
      "metadata": {
        "id": "KA6XvpP1KkEt"
      },
      "execution_count": null,
      "outputs": []
    },
    {
      "cell_type": "code",
      "metadata": {
        "colab": {
          "base_uri": "https://localhost:8080/"
        },
        "id": "oIGbth8c7DrL",
        "outputId": "88b348bf-fad5-40c6-82f7-224af5ec62a7"
      },
      "source": [
        "!nvidia-smi"
      ],
      "execution_count": null,
      "outputs": [
        {
          "output_type": "stream",
          "name": "stdout",
          "text": [
            "Thu Dec  9 19:20:09 2021       \n",
            "+-----------------------------------------------------------------------------+\n",
            "| NVIDIA-SMI 495.44       Driver Version: 460.32.03    CUDA Version: 11.2     |\n",
            "|-------------------------------+----------------------+----------------------+\n",
            "| GPU  Name        Persistence-M| Bus-Id        Disp.A | Volatile Uncorr. ECC |\n",
            "| Fan  Temp  Perf  Pwr:Usage/Cap|         Memory-Usage | GPU-Util  Compute M. |\n",
            "|                               |                      |               MIG M. |\n",
            "|===============================+======================+======================|\n",
            "|   0  Tesla K80           Off  | 00000000:00:04.0 Off |                    0 |\n",
            "| N/A   59C    P8    32W / 149W |      0MiB / 11441MiB |      0%      Default |\n",
            "|                               |                      |                  N/A |\n",
            "+-------------------------------+----------------------+----------------------+\n",
            "                                                                               \n",
            "+-----------------------------------------------------------------------------+\n",
            "| Processes:                                                                  |\n",
            "|  GPU   GI   CI        PID   Type   Process name                  GPU Memory |\n",
            "|        ID   ID                                                   Usage      |\n",
            "|=============================================================================|\n",
            "|  No running processes found                                                 |\n",
            "+-----------------------------------------------------------------------------+\n"
          ]
        }
      ]
    },
    {
      "cell_type": "code",
      "metadata": {
        "colab": {
          "base_uri": "https://localhost:8080/"
        },
        "id": "Ax85_9zt7kvt",
        "outputId": "dce135bc-057f-4a16-dd08-d0bb8da513b2"
      },
      "source": [
        "!pip install grpcio-tools==1.34.1\n",
        "!pip install git+https://github.com/deepset-ai/haystack.git"
      ],
      "execution_count": null,
      "outputs": [
        {
          "output_type": "stream",
          "name": "stdout",
          "text": [
            "Requirement already satisfied: grpcio-tools==1.34.1 in /usr/local/lib/python3.7/dist-packages (1.34.1)\n",
            "Requirement already satisfied: grpcio>=1.34.1 in /usr/local/lib/python3.7/dist-packages (from grpcio-tools==1.34.1) (1.37.1)\n",
            "Requirement already satisfied: protobuf<4.0dev,>=3.5.0.post1 in /usr/local/lib/python3.7/dist-packages (from grpcio-tools==1.34.1) (3.17.3)\n",
            "Requirement already satisfied: setuptools in /usr/local/lib/python3.7/dist-packages (from grpcio-tools==1.34.1) (57.4.0)\n",
            "Requirement already satisfied: six>=1.5.2 in /usr/local/lib/python3.7/dist-packages (from grpcio>=1.34.1->grpcio-tools==1.34.1) (1.15.0)\n",
            "Collecting git+https://github.com/deepset-ai/haystack.git\n",
            "  Cloning https://github.com/deepset-ai/haystack.git to /tmp/pip-req-build-nsmhgwcz\n",
            "  Running command git clone -q https://github.com/deepset-ai/haystack.git /tmp/pip-req-build-nsmhgwcz\n",
            "Requirement already satisfied: setuptools in /usr/local/lib/python3.7/dist-packages (from farm-haystack==1.0.0) (57.4.0)\n",
            "Requirement already satisfied: wheel in /usr/local/lib/python3.7/dist-packages (from farm-haystack==1.0.0) (0.37.0)\n",
            "Requirement already satisfied: torch<1.11,>1.5 in /usr/local/lib/python3.7/dist-packages (from farm-haystack==1.0.0) (1.10.0+cu111)\n",
            "Requirement already satisfied: tqdm in /usr/local/lib/python3.7/dist-packages (from farm-haystack==1.0.0) (4.62.3)\n",
            "Requirement already satisfied: requests in /usr/local/lib/python3.7/dist-packages (from farm-haystack==1.0.0) (2.23.0)\n",
            "Requirement already satisfied: scipy>=1.3.2 in /usr/local/lib/python3.7/dist-packages (from farm-haystack==1.0.0) (1.4.1)\n",
            "Requirement already satisfied: sklearn in /usr/local/lib/python3.7/dist-packages (from farm-haystack==1.0.0) (0.0)\n",
            "Requirement already satisfied: seqeval in /usr/local/lib/python3.7/dist-packages (from farm-haystack==1.0.0) (1.2.2)\n",
            "Requirement already satisfied: mlflow<=1.13.1 in /usr/local/lib/python3.7/dist-packages (from farm-haystack==1.0.0) (1.13.1)\n",
            "Requirement already satisfied: transformers==4.7.0 in /usr/local/lib/python3.7/dist-packages (from farm-haystack==1.0.0) (4.7.0)\n",
            "Requirement already satisfied: dill in /usr/local/lib/python3.7/dist-packages (from farm-haystack==1.0.0) (0.3.4)\n",
            "Requirement already satisfied: psutil in /usr/local/lib/python3.7/dist-packages (from farm-haystack==1.0.0) (5.4.8)\n",
            "Requirement already satisfied: fastapi in /usr/local/lib/python3.7/dist-packages (from farm-haystack==1.0.0) (0.70.0)\n",
            "Requirement already satisfied: uvicorn in /usr/local/lib/python3.7/dist-packages (from farm-haystack==1.0.0) (0.16.0)\n",
            "Requirement already satisfied: gunicorn in /usr/local/lib/python3.7/dist-packages (from farm-haystack==1.0.0) (20.1.0)\n",
            "Requirement already satisfied: pandas in /usr/local/lib/python3.7/dist-packages (from farm-haystack==1.0.0) (1.1.5)\n",
            "Requirement already satisfied: elasticsearch<=7.10,>=7.7 in /usr/local/lib/python3.7/dist-packages (from farm-haystack==1.0.0) (7.10.0)\n",
            "Requirement already satisfied: elastic-apm in /usr/local/lib/python3.7/dist-packages (from farm-haystack==1.0.0) (6.7.2)\n",
            "Requirement already satisfied: tox in /usr/local/lib/python3.7/dist-packages (from farm-haystack==1.0.0) (3.24.4)\n",
            "Requirement already satisfied: coverage in /usr/local/lib/python3.7/dist-packages (from farm-haystack==1.0.0) (3.7.1)\n",
            "Requirement already satisfied: langdetect in /usr/local/lib/python3.7/dist-packages (from farm-haystack==1.0.0) (1.0.9)\n",
            "Requirement already satisfied: pytesseract==0.3.7 in /usr/local/lib/python3.7/dist-packages (from farm-haystack==1.0.0) (0.3.7)\n",
            "Requirement already satisfied: pillow==8.3.2 in /usr/local/lib/python3.7/dist-packages (from farm-haystack==1.0.0) (8.3.2)\n",
            "Requirement already satisfied: pdf2image==1.14.0 in /usr/local/lib/python3.7/dist-packages (from farm-haystack==1.0.0) (1.14.0)\n",
            "Requirement already satisfied: sentence-transformers>=0.4.0 in /usr/local/lib/python3.7/dist-packages (from farm-haystack==1.0.0) (2.1.0)\n",
            "Requirement already satisfied: python-multipart in /usr/local/lib/python3.7/dist-packages (from farm-haystack==1.0.0) (0.0.5)\n",
            "Requirement already satisfied: python-docx in /usr/local/lib/python3.7/dist-packages (from farm-haystack==1.0.0) (0.8.11)\n",
            "Requirement already satisfied: sqlalchemy>=1.4.2 in /usr/local/lib/python3.7/dist-packages (from farm-haystack==1.0.0) (1.4.27)\n",
            "Requirement already satisfied: sqlalchemy_utils in /usr/local/lib/python3.7/dist-packages (from farm-haystack==1.0.0) (0.37.9)\n",
            "Requirement already satisfied: faiss-cpu>=1.6.3 in /usr/local/lib/python3.7/dist-packages (from farm-haystack==1.0.0) (1.7.1.post3)\n",
            "Requirement already satisfied: tika in /usr/local/lib/python3.7/dist-packages (from farm-haystack==1.0.0) (1.24)\n",
            "Requirement already satisfied: httptools in /usr/local/lib/python3.7/dist-packages (from farm-haystack==1.0.0) (0.3.0)\n",
            "Requirement already satisfied: nltk in /usr/local/lib/python3.7/dist-packages (from farm-haystack==1.0.0) (3.2.5)\n",
            "Requirement already satisfied: more_itertools in /usr/local/lib/python3.7/dist-packages (from farm-haystack==1.0.0) (8.12.0)\n",
            "Requirement already satisfied: networkx in /usr/local/lib/python3.7/dist-packages (from farm-haystack==1.0.0) (2.6.3)\n",
            "Requirement already satisfied: pymilvus in /usr/local/lib/python3.7/dist-packages (from farm-haystack==1.0.0) (1.1.2)\n",
            "Requirement already satisfied: SPARQLWrapper in /usr/local/lib/python3.7/dist-packages (from farm-haystack==1.0.0) (1.8.5)\n",
            "Requirement already satisfied: mmh3 in /usr/local/lib/python3.7/dist-packages (from farm-haystack==1.0.0) (3.0.0)\n",
            "Requirement already satisfied: weaviate-client==2.5.0 in /usr/local/lib/python3.7/dist-packages (from farm-haystack==1.0.0) (2.5.0)\n",
            "Requirement already satisfied: ray==1.5.0 in /usr/local/lib/python3.7/dist-packages (from farm-haystack==1.0.0) (1.5.0)\n",
            "Requirement already satisfied: dataclasses-json in /usr/local/lib/python3.7/dist-packages (from farm-haystack==1.0.0) (0.5.6)\n",
            "Requirement already satisfied: quantulum3 in /usr/local/lib/python3.7/dist-packages (from farm-haystack==1.0.0) (0.7.9)\n",
            "Requirement already satisfied: azure-ai-formrecognizer==3.2.0b2 in /usr/local/lib/python3.7/dist-packages (from farm-haystack==1.0.0) (3.2.0b2)\n",
            "Requirement already satisfied: psycopg2-binary in /usr/local/lib/python3.7/dist-packages (from farm-haystack==1.0.0) (2.9.2)\n",
            "Requirement already satisfied: uvloop==0.14 in /usr/local/lib/python3.7/dist-packages (from farm-haystack==1.0.0) (0.14.0)\n",
            "Requirement already satisfied: azure-common~=1.1 in /usr/local/lib/python3.7/dist-packages (from azure-ai-formrecognizer==3.2.0b2->farm-haystack==1.0.0) (1.1.27)\n",
            "Requirement already satisfied: msrest>=0.6.21 in /usr/local/lib/python3.7/dist-packages (from azure-ai-formrecognizer==3.2.0b2->farm-haystack==1.0.0) (0.6.21)\n",
            "Requirement already satisfied: six>=1.11.0 in /usr/local/lib/python3.7/dist-packages (from azure-ai-formrecognizer==3.2.0b2->farm-haystack==1.0.0) (1.15.0)\n",
            "Requirement already satisfied: azure-core<2.0.0,>=1.13.0 in /usr/local/lib/python3.7/dist-packages (from azure-ai-formrecognizer==3.2.0b2->farm-haystack==1.0.0) (1.21.1)\n",
            "Requirement already satisfied: numpy>=1.16 in /usr/local/lib/python3.7/dist-packages (from ray==1.5.0->farm-haystack==1.0.0) (1.19.5)\n",
            "Requirement already satisfied: click>=7.0 in /usr/local/lib/python3.7/dist-packages (from ray==1.5.0->farm-haystack==1.0.0) (7.1.2)\n",
            "Requirement already satisfied: aiohttp in /usr/local/lib/python3.7/dist-packages (from ray==1.5.0->farm-haystack==1.0.0) (3.8.1)\n",
            "Requirement already satisfied: py-spy>=0.2.0 in /usr/local/lib/python3.7/dist-packages (from ray==1.5.0->farm-haystack==1.0.0) (0.3.11)\n",
            "Requirement already satisfied: aioredis in /usr/local/lib/python3.7/dist-packages (from ray==1.5.0->farm-haystack==1.0.0) (2.0.0)\n",
            "Requirement already satisfied: pyyaml in /usr/local/lib/python3.7/dist-packages (from ray==1.5.0->farm-haystack==1.0.0) (6.0)\n",
            "Requirement already satisfied: jsonschema in /usr/local/lib/python3.7/dist-packages (from ray==1.5.0->farm-haystack==1.0.0) (2.6.0)\n",
            "Requirement already satisfied: protobuf>=3.15.3 in /usr/local/lib/python3.7/dist-packages (from ray==1.5.0->farm-haystack==1.0.0) (3.17.3)\n",
            "Requirement already satisfied: opencensus in /usr/local/lib/python3.7/dist-packages (from ray==1.5.0->farm-haystack==1.0.0) (0.8.0)\n",
            "Requirement already satisfied: aiohttp-cors in /usr/local/lib/python3.7/dist-packages (from ray==1.5.0->farm-haystack==1.0.0) (0.7.0)\n",
            "Requirement already satisfied: gpustat in /usr/local/lib/python3.7/dist-packages (from ray==1.5.0->farm-haystack==1.0.0) (0.6.0)\n",
            "Requirement already satisfied: pydantic>=1.8 in /usr/local/lib/python3.7/dist-packages (from ray==1.5.0->farm-haystack==1.0.0) (1.8.2)\n",
            "Requirement already satisfied: redis>=3.5.0 in /usr/local/lib/python3.7/dist-packages (from ray==1.5.0->farm-haystack==1.0.0) (4.0.2)\n",
            "Requirement already satisfied: msgpack<2.0.0,>=1.0.0 in /usr/local/lib/python3.7/dist-packages (from ray==1.5.0->farm-haystack==1.0.0) (1.0.3)\n",
            "Requirement already satisfied: grpcio>=1.28.1 in /usr/local/lib/python3.7/dist-packages (from ray==1.5.0->farm-haystack==1.0.0) (1.37.1)\n",
            "Requirement already satisfied: prometheus-client>=0.7.1 in /usr/local/lib/python3.7/dist-packages (from ray==1.5.0->farm-haystack==1.0.0) (0.12.0)\n",
            "Requirement already satisfied: filelock in /usr/local/lib/python3.7/dist-packages (from ray==1.5.0->farm-haystack==1.0.0) (3.4.0)\n",
            "Requirement already satisfied: colorama in /usr/local/lib/python3.7/dist-packages (from ray==1.5.0->farm-haystack==1.0.0) (0.4.4)\n",
            "Requirement already satisfied: packaging in /usr/local/lib/python3.7/dist-packages (from transformers==4.7.0->farm-haystack==1.0.0) (21.3)\n",
            "Requirement already satisfied: regex!=2019.12.17 in /usr/local/lib/python3.7/dist-packages (from transformers==4.7.0->farm-haystack==1.0.0) (2019.12.20)\n",
            "Requirement already satisfied: importlib-metadata in /usr/local/lib/python3.7/dist-packages (from transformers==4.7.0->farm-haystack==1.0.0) (4.8.2)\n",
            "Requirement already satisfied: huggingface-hub==0.0.8 in /usr/local/lib/python3.7/dist-packages (from transformers==4.7.0->farm-haystack==1.0.0) (0.0.8)\n",
            "Requirement already satisfied: tokenizers<0.11,>=0.10.1 in /usr/local/lib/python3.7/dist-packages (from transformers==4.7.0->farm-haystack==1.0.0) (0.10.3)\n",
            "Requirement already satisfied: sacremoses in /usr/local/lib/python3.7/dist-packages (from transformers==4.7.0->farm-haystack==1.0.0) (0.0.46)\n",
            "Requirement already satisfied: validators>=0.18.2 in /usr/local/lib/python3.7/dist-packages (from weaviate-client==2.5.0->farm-haystack==1.0.0) (0.18.2)\n",
            "Requirement already satisfied: urllib3<2,>=1.21.1 in /usr/local/lib/python3.7/dist-packages (from elasticsearch<=7.10,>=7.7->farm-haystack==1.0.0) (1.24.3)\n",
            "Requirement already satisfied: certifi in /usr/local/lib/python3.7/dist-packages (from elasticsearch<=7.10,>=7.7->farm-haystack==1.0.0) (2021.10.8)\n",
            "Requirement already satisfied: Flask in /usr/local/lib/python3.7/dist-packages (from mlflow<=1.13.1->farm-haystack==1.0.0) (1.1.4)\n",
            "Requirement already satisfied: prometheus-flask-exporter in /usr/local/lib/python3.7/dist-packages (from mlflow<=1.13.1->farm-haystack==1.0.0) (0.18.6)\n",
            "Requirement already satisfied: python-dateutil in /usr/local/lib/python3.7/dist-packages (from mlflow<=1.13.1->farm-haystack==1.0.0) (2.8.2)\n",
            "Requirement already satisfied: sqlparse>=0.3.1 in /usr/local/lib/python3.7/dist-packages (from mlflow<=1.13.1->farm-haystack==1.0.0) (0.4.2)\n",
            "Requirement already satisfied: cloudpickle in /usr/local/lib/python3.7/dist-packages (from mlflow<=1.13.1->farm-haystack==1.0.0) (1.3.0)\n",
            "Requirement already satisfied: azure-storage-blob>=12.0.0 in /usr/local/lib/python3.7/dist-packages (from mlflow<=1.13.1->farm-haystack==1.0.0) (12.9.0)\n",
            "Requirement already satisfied: docker>=4.0.0 in /usr/local/lib/python3.7/dist-packages (from mlflow<=1.13.1->farm-haystack==1.0.0) (5.0.3)\n",
            "Requirement already satisfied: databricks-cli>=0.8.7 in /usr/local/lib/python3.7/dist-packages (from mlflow<=1.13.1->farm-haystack==1.0.0) (0.16.2)\n",
            "Requirement already satisfied: querystring-parser in /usr/local/lib/python3.7/dist-packages (from mlflow<=1.13.1->farm-haystack==1.0.0) (1.2.4)\n",
            "Requirement already satisfied: entrypoints in /usr/local/lib/python3.7/dist-packages (from mlflow<=1.13.1->farm-haystack==1.0.0) (0.3)\n",
            "Requirement already satisfied: alembic<=1.4.1 in /usr/local/lib/python3.7/dist-packages (from mlflow<=1.13.1->farm-haystack==1.0.0) (1.4.1)\n",
            "Requirement already satisfied: gitpython>=2.1.0 in /usr/local/lib/python3.7/dist-packages (from mlflow<=1.13.1->farm-haystack==1.0.0) (3.1.24)\n",
            "Requirement already satisfied: Mako in /usr/local/lib/python3.7/dist-packages (from alembic<=1.4.1->mlflow<=1.13.1->farm-haystack==1.0.0) (1.1.6)\n",
            "Requirement already satisfied: python-editor>=0.3 in /usr/local/lib/python3.7/dist-packages (from alembic<=1.4.1->mlflow<=1.13.1->farm-haystack==1.0.0) (1.0.4)\n",
            "Requirement already satisfied: cryptography>=2.1.4 in /usr/local/lib/python3.7/dist-packages (from azure-storage-blob>=12.0.0->mlflow<=1.13.1->farm-haystack==1.0.0) (36.0.0)\n",
            "Requirement already satisfied: cffi>=1.12 in /usr/local/lib/python3.7/dist-packages (from cryptography>=2.1.4->azure-storage-blob>=12.0.0->mlflow<=1.13.1->farm-haystack==1.0.0) (1.15.0)\n",
            "Requirement already satisfied: pycparser in /usr/local/lib/python3.7/dist-packages (from cffi>=1.12->cryptography>=2.1.4->azure-storage-blob>=12.0.0->mlflow<=1.13.1->farm-haystack==1.0.0) (2.21)\n",
            "Requirement already satisfied: tabulate>=0.7.7 in /usr/local/lib/python3.7/dist-packages (from databricks-cli>=0.8.7->mlflow<=1.13.1->farm-haystack==1.0.0) (0.8.9)\n",
            "Requirement already satisfied: websocket-client>=0.32.0 in /usr/local/lib/python3.7/dist-packages (from docker>=4.0.0->mlflow<=1.13.1->farm-haystack==1.0.0) (1.2.3)\n",
            "Requirement already satisfied: gitdb<5,>=4.0.1 in /usr/local/lib/python3.7/dist-packages (from gitpython>=2.1.0->mlflow<=1.13.1->farm-haystack==1.0.0) (4.0.9)\n",
            "Requirement already satisfied: typing-extensions>=3.7.4.3 in /usr/local/lib/python3.7/dist-packages (from gitpython>=2.1.0->mlflow<=1.13.1->farm-haystack==1.0.0) (3.10.0.2)\n",
            "Requirement already satisfied: smmap<6,>=3.0.1 in /usr/local/lib/python3.7/dist-packages (from gitdb<5,>=4.0.1->gitpython>=2.1.0->mlflow<=1.13.1->farm-haystack==1.0.0) (5.0.0)\n",
            "Requirement already satisfied: isodate>=0.6.0 in /usr/local/lib/python3.7/dist-packages (from msrest>=0.6.21->azure-ai-formrecognizer==3.2.0b2->farm-haystack==1.0.0) (0.6.0)\n",
            "Requirement already satisfied: requests-oauthlib>=0.5.0 in /usr/local/lib/python3.7/dist-packages (from msrest>=0.6.21->azure-ai-formrecognizer==3.2.0b2->farm-haystack==1.0.0) (1.3.0)\n",
            "Requirement already satisfied: deprecated in /usr/local/lib/python3.7/dist-packages (from redis>=3.5.0->ray==1.5.0->farm-haystack==1.0.0) (1.2.13)\n",
            "Requirement already satisfied: idna<3,>=2.5 in /usr/local/lib/python3.7/dist-packages (from requests->farm-haystack==1.0.0) (2.10)\n",
            "Requirement already satisfied: chardet<4,>=3.0.2 in /usr/local/lib/python3.7/dist-packages (from requests->farm-haystack==1.0.0) (3.0.4)\n",
            "Requirement already satisfied: oauthlib>=3.0.0 in /usr/local/lib/python3.7/dist-packages (from requests-oauthlib>=0.5.0->msrest>=0.6.21->azure-ai-formrecognizer==3.2.0b2->farm-haystack==1.0.0) (3.1.1)\n",
            "Requirement already satisfied: scikit-learn in /usr/local/lib/python3.7/dist-packages (from sentence-transformers>=0.4.0->farm-haystack==1.0.0) (1.0.1)\n",
            "Requirement already satisfied: sentencepiece in /usr/local/lib/python3.7/dist-packages (from sentence-transformers>=0.4.0->farm-haystack==1.0.0) (0.1.96)\n",
            "Requirement already satisfied: torchvision in /usr/local/lib/python3.7/dist-packages (from sentence-transformers>=0.4.0->farm-haystack==1.0.0) (0.11.1+cu111)\n",
            "Requirement already satisfied: greenlet!=0.4.17 in /usr/local/lib/python3.7/dist-packages (from sqlalchemy>=1.4.2->farm-haystack==1.0.0) (1.1.2)\n",
            "Requirement already satisfied: decorator>=3.4.0 in /usr/local/lib/python3.7/dist-packages (from validators>=0.18.2->weaviate-client==2.5.0->farm-haystack==1.0.0) (4.4.2)\n",
            "Requirement already satisfied: frozenlist>=1.1.1 in /usr/local/lib/python3.7/dist-packages (from aiohttp->ray==1.5.0->farm-haystack==1.0.0) (1.2.0)\n",
            "Requirement already satisfied: yarl<2.0,>=1.0 in /usr/local/lib/python3.7/dist-packages (from aiohttp->ray==1.5.0->farm-haystack==1.0.0) (1.7.2)\n",
            "Requirement already satisfied: asynctest==0.13.0 in /usr/local/lib/python3.7/dist-packages (from aiohttp->ray==1.5.0->farm-haystack==1.0.0) (0.13.0)\n",
            "Requirement already satisfied: async-timeout<5.0,>=4.0.0a3 in /usr/local/lib/python3.7/dist-packages (from aiohttp->ray==1.5.0->farm-haystack==1.0.0) (4.0.1)\n",
            "Requirement already satisfied: multidict<7.0,>=4.5 in /usr/local/lib/python3.7/dist-packages (from aiohttp->ray==1.5.0->farm-haystack==1.0.0) (5.2.0)\n",
            "Requirement already satisfied: charset-normalizer<3.0,>=2.0 in /usr/local/lib/python3.7/dist-packages (from aiohttp->ray==1.5.0->farm-haystack==1.0.0) (2.0.8)\n",
            "Requirement already satisfied: aiosignal>=1.1.2 in /usr/local/lib/python3.7/dist-packages (from aiohttp->ray==1.5.0->farm-haystack==1.0.0) (1.2.0)\n",
            "Requirement already satisfied: attrs>=17.3.0 in /usr/local/lib/python3.7/dist-packages (from aiohttp->ray==1.5.0->farm-haystack==1.0.0) (21.2.0)\n",
            "Requirement already satisfied: typing-inspect>=0.4.0 in /usr/local/lib/python3.7/dist-packages (from dataclasses-json->farm-haystack==1.0.0) (0.7.1)\n",
            "Requirement already satisfied: marshmallow<4.0.0,>=3.3.0 in /usr/local/lib/python3.7/dist-packages (from dataclasses-json->farm-haystack==1.0.0) (3.14.1)\n",
            "Requirement already satisfied: marshmallow-enum<2.0.0,>=1.5.1 in /usr/local/lib/python3.7/dist-packages (from dataclasses-json->farm-haystack==1.0.0) (1.5.1)\n",
            "Requirement already satisfied: mypy-extensions>=0.3.0 in /usr/local/lib/python3.7/dist-packages (from typing-inspect>=0.4.0->dataclasses-json->farm-haystack==1.0.0) (0.4.3)\n",
            "Requirement already satisfied: wrapt<2,>=1.10 in /usr/local/lib/python3.7/dist-packages (from deprecated->redis>=3.5.0->ray==1.5.0->farm-haystack==1.0.0) (1.13.3)\n",
            "Requirement already satisfied: starlette==0.16.0 in /usr/local/lib/python3.7/dist-packages (from fastapi->farm-haystack==1.0.0) (0.16.0)\n",
            "Requirement already satisfied: anyio<4,>=3.0.0 in /usr/local/lib/python3.7/dist-packages (from starlette==0.16.0->fastapi->farm-haystack==1.0.0) (3.4.0)\n",
            "Requirement already satisfied: sniffio>=1.1 in /usr/local/lib/python3.7/dist-packages (from anyio<4,>=3.0.0->starlette==0.16.0->fastapi->farm-haystack==1.0.0) (1.2.0)\n",
            "Requirement already satisfied: Werkzeug<2.0,>=0.15 in /usr/local/lib/python3.7/dist-packages (from Flask->mlflow<=1.13.1->farm-haystack==1.0.0) (1.0.1)\n",
            "Requirement already satisfied: itsdangerous<2.0,>=0.24 in /usr/local/lib/python3.7/dist-packages (from Flask->mlflow<=1.13.1->farm-haystack==1.0.0) (1.1.0)\n",
            "Requirement already satisfied: Jinja2<3.0,>=2.10.1 in /usr/local/lib/python3.7/dist-packages (from Flask->mlflow<=1.13.1->farm-haystack==1.0.0) (2.11.3)\n",
            "Requirement already satisfied: MarkupSafe>=0.23 in /usr/local/lib/python3.7/dist-packages (from Jinja2<3.0,>=2.10.1->Flask->mlflow<=1.13.1->farm-haystack==1.0.0) (2.0.1)\n",
            "Requirement already satisfied: nvidia-ml-py3>=7.352.0 in /usr/local/lib/python3.7/dist-packages (from gpustat->ray==1.5.0->farm-haystack==1.0.0) (7.352.0)\n",
            "Requirement already satisfied: blessings>=1.6 in /usr/local/lib/python3.7/dist-packages (from gpustat->ray==1.5.0->farm-haystack==1.0.0) (1.7)\n",
            "Requirement already satisfied: zipp>=0.5 in /usr/local/lib/python3.7/dist-packages (from importlib-metadata->transformers==4.7.0->farm-haystack==1.0.0) (3.6.0)\n",
            "Requirement already satisfied: google-api-core<3.0.0,>=1.0.0 in /usr/local/lib/python3.7/dist-packages (from opencensus->ray==1.5.0->farm-haystack==1.0.0) (1.26.3)\n",
            "Requirement already satisfied: opencensus-context==0.1.2 in /usr/local/lib/python3.7/dist-packages (from opencensus->ray==1.5.0->farm-haystack==1.0.0) (0.1.2)\n",
            "Requirement already satisfied: googleapis-common-protos<2.0dev,>=1.6.0 in /usr/local/lib/python3.7/dist-packages (from google-api-core<3.0.0,>=1.0.0->opencensus->ray==1.5.0->farm-haystack==1.0.0) (1.53.0)\n",
            "Requirement already satisfied: google-auth<2.0dev,>=1.21.1 in /usr/local/lib/python3.7/dist-packages (from google-api-core<3.0.0,>=1.0.0->opencensus->ray==1.5.0->farm-haystack==1.0.0) (1.35.0)\n",
            "Requirement already satisfied: pytz in /usr/local/lib/python3.7/dist-packages (from google-api-core<3.0.0,>=1.0.0->opencensus->ray==1.5.0->farm-haystack==1.0.0) (2018.9)\n",
            "Requirement already satisfied: pyasn1-modules>=0.2.1 in /usr/local/lib/python3.7/dist-packages (from google-auth<2.0dev,>=1.21.1->google-api-core<3.0.0,>=1.0.0->opencensus->ray==1.5.0->farm-haystack==1.0.0) (0.2.8)\n",
            "Requirement already satisfied: cachetools<5.0,>=2.0.0 in /usr/local/lib/python3.7/dist-packages (from google-auth<2.0dev,>=1.21.1->google-api-core<3.0.0,>=1.0.0->opencensus->ray==1.5.0->farm-haystack==1.0.0) (4.2.4)\n",
            "Requirement already satisfied: rsa<5,>=3.1.4 in /usr/local/lib/python3.7/dist-packages (from google-auth<2.0dev,>=1.21.1->google-api-core<3.0.0,>=1.0.0->opencensus->ray==1.5.0->farm-haystack==1.0.0) (4.8)\n",
            "Requirement already satisfied: pyparsing!=3.0.5,>=2.0.2 in /usr/local/lib/python3.7/dist-packages (from packaging->transformers==4.7.0->farm-haystack==1.0.0) (3.0.6)\n",
            "Requirement already satisfied: pyasn1<0.5.0,>=0.4.6 in /usr/local/lib/python3.7/dist-packages (from pyasn1-modules>=0.2.1->google-auth<2.0dev,>=1.21.1->google-api-core<3.0.0,>=1.0.0->opencensus->ray==1.5.0->farm-haystack==1.0.0) (0.4.8)\n",
            "Requirement already satisfied: grpcio-tools<1.38.0,>=1.22.0 in /usr/local/lib/python3.7/dist-packages (from pymilvus->farm-haystack==1.0.0) (1.34.1)\n",
            "Requirement already satisfied: ujson>=2.0.0 in /usr/local/lib/python3.7/dist-packages (from pymilvus->farm-haystack==1.0.0) (4.3.0)\n",
            "Requirement already satisfied: lxml>=2.3.2 in /usr/local/lib/python3.7/dist-packages (from python-docx->farm-haystack==1.0.0) (4.2.6)\n",
            "Requirement already satisfied: num2words in /usr/local/lib/python3.7/dist-packages (from quantulum3->farm-haystack==1.0.0) (0.5.10)\n",
            "Requirement already satisfied: inflect in /usr/local/lib/python3.7/dist-packages (from quantulum3->farm-haystack==1.0.0) (2.1.0)\n",
            "Requirement already satisfied: docopt>=0.6.2 in /usr/local/lib/python3.7/dist-packages (from num2words->quantulum3->farm-haystack==1.0.0) (0.6.2)\n",
            "Requirement already satisfied: joblib in /usr/local/lib/python3.7/dist-packages (from sacremoses->transformers==4.7.0->farm-haystack==1.0.0) (1.1.0)\n",
            "Requirement already satisfied: threadpoolctl>=2.0.0 in /usr/local/lib/python3.7/dist-packages (from scikit-learn->sentence-transformers>=0.4.0->farm-haystack==1.0.0) (3.0.0)\n",
            "Requirement already satisfied: rdflib>=4.0 in /usr/local/lib/python3.7/dist-packages (from SPARQLWrapper->farm-haystack==1.0.0) (6.0.2)\n",
            "Requirement already satisfied: virtualenv!=20.0.0,!=20.0.1,!=20.0.2,!=20.0.3,!=20.0.4,!=20.0.5,!=20.0.6,!=20.0.7,>=16.0.0 in /usr/local/lib/python3.7/dist-packages (from tox->farm-haystack==1.0.0) (20.10.0)\n",
            "Requirement already satisfied: py>=1.4.17 in /usr/local/lib/python3.7/dist-packages (from tox->farm-haystack==1.0.0) (1.11.0)\n",
            "Requirement already satisfied: toml>=0.9.4 in /usr/local/lib/python3.7/dist-packages (from tox->farm-haystack==1.0.0) (0.10.2)\n",
            "Requirement already satisfied: pluggy>=0.12.0 in /usr/local/lib/python3.7/dist-packages (from tox->farm-haystack==1.0.0) (1.0.0)\n",
            "Requirement already satisfied: distlib<1,>=0.3.1 in /usr/local/lib/python3.7/dist-packages (from virtualenv!=20.0.0,!=20.0.1,!=20.0.2,!=20.0.3,!=20.0.4,!=20.0.5,!=20.0.6,!=20.0.7,>=16.0.0->tox->farm-haystack==1.0.0) (0.3.4)\n",
            "Requirement already satisfied: backports.entry-points-selectable>=1.0.4 in /usr/local/lib/python3.7/dist-packages (from virtualenv!=20.0.0,!=20.0.1,!=20.0.2,!=20.0.3,!=20.0.4,!=20.0.5,!=20.0.6,!=20.0.7,>=16.0.0->tox->farm-haystack==1.0.0) (1.1.1)\n",
            "Requirement already satisfied: platformdirs<3,>=2 in /usr/local/lib/python3.7/dist-packages (from virtualenv!=20.0.0,!=20.0.1,!=20.0.2,!=20.0.3,!=20.0.4,!=20.0.5,!=20.0.6,!=20.0.7,>=16.0.0->tox->farm-haystack==1.0.0) (2.4.0)\n",
            "Requirement already satisfied: h11>=0.8 in /usr/local/lib/python3.7/dist-packages (from uvicorn->farm-haystack==1.0.0) (0.12.0)\n",
            "Requirement already satisfied: asgiref>=3.4.0 in /usr/local/lib/python3.7/dist-packages (from uvicorn->farm-haystack==1.0.0) (3.4.1)\n"
          ]
        }
      ]
    },
    {
      "cell_type": "markdown",
      "source": [
        "Haystack DocumentStore Type : InMemoryDocumentStore <br>\n",
        "Reader : FARMReader <br>\n",
        "Retriever : TfidfRetriever <br>\n",
        "Model Used for reader : deepset/roberta-base-squad2 <br>"
      ],
      "metadata": {
        "id": "IyiEXoZiXo5g"
      }
    },
    {
      "cell_type": "markdown",
      "source": [
        "Haystack DocumentStore Type : InMemoryDocumentStore <br>\n",
        "Reader : FARMReader <br>\n",
        "Retriever : TfidfRetriever <br>\n",
        "Model Used for reader : roberta-base-squad2-finetuned-selqa (Our finetuned model)<br>"
      ],
      "metadata": {
        "id": "tFsjYEc4YV76"
      }
    },
    {
      "cell_type": "code",
      "metadata": {
        "id": "9XNOCZSC8g0G",
        "colab": {
          "base_uri": "https://localhost:8080/"
        },
        "outputId": "5196b94d-6bc0-47b0-a549-f3fa823d0a27"
      },
      "source": [
        "from haystack.utils import clean_wiki_text, convert_files_to_dicts, fetch_archive_from_http, print_answers\n",
        "from haystack.nodes import FARMReader, TransformersReader"
      ],
      "execution_count": null,
      "outputs": [
        {
          "output_type": "stream",
          "name": "stderr",
          "text": [
            "/usr/local/lib/python3.7/dist-packages/ray/autoscaler/_private/cli_logger.py:61: FutureWarning: Not all Ray CLI dependencies were found. In Ray 1.4+, the Ray CLI, autoscaler, and dashboard will only be usable via `pip install 'ray[default]'`. Please update your install command.\n",
            "  \"update your install command.\", FutureWarning)\n"
          ]
        }
      ]
    },
    {
      "cell_type": "code",
      "metadata": {
        "id": "m1mYnRx-9OUg"
      },
      "source": [
        "# In-Memory Document Store\n",
        "from haystack.document_stores import InMemoryDocumentStore\n",
        "document_store = InMemoryDocumentStore()"
      ],
      "execution_count": null,
      "outputs": []
    },
    {
      "cell_type": "code",
      "metadata": {
        "colab": {
          "base_uri": "https://localhost:8080/"
        },
        "id": "j9Wn4W-f_hhF",
        "outputId": "2cda5057-3b15-47d5-d02e-83bb08db3b90"
      },
      "source": [
        "# Let's first fetch some documents that we want to query\n",
        "# Here: 517 Wikipedia articles for Game of Thrones\n",
        "doc_dir = \"data/article_txt_got\"\n",
        "s3_url = \"https://s3.eu-central-1.amazonaws.com/deepset.ai-farm-qa/datasets/documents/wiki_gameofthrones_txt.zip\"\n",
        "fetch_archive_from_http(url=s3_url, output_dir=doc_dir)\n",
        "\n",
        "# Convert files to dicts\n",
        "# You can optionally supply a cleaning function that is applied to each doc (e.g. to remove footers)\n",
        "# It must take a str as input, and return a str.\n",
        "dicts = convert_files_to_dicts(dir_path=doc_dir, clean_func=clean_wiki_text, split_paragraphs=True)\n",
        "\n",
        "# We now have a list of dictionaries that we can write to our document store.\n",
        "# If your texts come from a different source (e.g. a DB), you can of course skip convert_files_to_dicts() and create the dictionaries yourself.\n",
        "# The default format here is:\n",
        "# {\n",
        "#    'text': \"<DOCUMENT_TEXT_HERE>\",\n",
        "#    'meta': {'name': \"<DOCUMENT_NAME_HERE>\", ...}\n",
        "#}\n",
        "# (Optionally: you can also add more key-value-pairs here, that will be indexed as fields in Elasticsearch and\n",
        "# can be accessed later for filtering or shown in the responses of the Pipeline)\n",
        "\n",
        "# Let's have a look at the first 3 entries:\n",
        "print(dicts[:3])\n",
        "\n",
        "# Now, let's write the dicts containing documents to our DB.\n",
        "document_store.write_documents(dicts)"
      ],
      "execution_count": null,
      "outputs": [
        {
          "output_type": "stream",
          "name": "stderr",
          "text": [
            "INFO - haystack.utils.import_utils -  Found data stored in `data/article_txt_got`. Delete this first if you really want to fetch new data.\n",
            "INFO - haystack.utils.preprocessing -  Converting data/article_txt_got/299_Rani_Mahal__TV_series_.txt\n",
            "INFO - haystack.utils.preprocessing -  Converting data/article_txt_got/133_Game_of_Thrones__Season_5__soundtrack_.txt\n",
            "INFO - haystack.utils.preprocessing -  Converting data/article_txt_got/135_Game_of_Thrones__Season_7__soundtrack_.txt\n",
            "INFO - haystack.utils.preprocessing -  Converting data/article_txt_got/26_Game_of_Thrones__Season_3__soundtrack_.txt\n",
            "INFO - haystack.utils.preprocessing -  Converting data/article_txt_got/399_For_the_Throne__Music_Inspired_by_the_HBO_Series_Game_of_Thrones.txt\n",
            "INFO - haystack.utils.preprocessing -  Converting data/article_txt_got/365_A_Song_of_Ice_and_Fire_Roleplaying.txt\n",
            "INFO - haystack.utils.preprocessing -  Converting data/article_txt_got/52_Catch_the_Throne.txt\n",
            "INFO - haystack.utils.preprocessing -  Converting data/article_txt_got/27_Game_of_Thrones__Season_4__soundtrack_.txt\n",
            "INFO - haystack.utils.preprocessing -  Converting data/article_txt_got/136_Game_of_Thrones__Season_8__soundtrack_.txt\n",
            "INFO - haystack.utils.preprocessing -  Converting data/article_txt_got/148_Game_of_Thrones__Winter_Is_Coming.txt\n",
            "INFO - haystack.utils.preprocessing -  Converting data/article_txt_got/358_A_Game_of_Thrones__Genesis.txt\n",
            "INFO - haystack.utils.preprocessing -  Converting data/article_txt_got/134_Game_of_Thrones__Season_6__soundtrack_.txt\n",
            "INFO - haystack.utils.preprocessing -  Converting data/article_txt_got/25_Game_of_Thrones__Season_2__soundtrack_.txt\n",
            "INFO - haystack.utils.preprocessing -  Converting data/article_txt_got/21_The_Bear_and_the_Maiden_Fair__song_.txt\n",
            "INFO - haystack.utils.preprocessing -  Converting data/article_txt_got/85_Game_of_Thrones__Seven_Kingdoms.txt\n",
            "INFO - haystack.utils.preprocessing -  Converting data/article_txt_got/401_Power_Is_Power.txt\n",
            "INFO - haystack.utils.preprocessing -  Converting data/article_txt_got/475_A_Game_of_Thrones__role-playing_game_.txt\n",
            "INFO - haystack.utils.preprocessing -  Converting data/article_txt_got/228_Souad_Faress.txt\n",
            "INFO - haystack.utils.preprocessing -  Converting data/article_txt_got/146_The_Sons_of_the_Dragon.txt\n",
            "INFO - haystack.utils.preprocessing -  Converting data/article_txt_got/102_The_Princess_and_the_Queen.txt\n",
            "INFO - haystack.utils.preprocessing -  Converting data/article_txt_got/504_List_of_A_Song_of_Ice_and_Fire_video_games.txt\n",
            "INFO - haystack.utils.preprocessing -  Converting data/article_txt_got/508_A_Game_of_Thrones__Second_Edition__card_game_.txt\n",
            "INFO - haystack.utils.preprocessing -  Converting data/article_txt_got/77_Game_of_Thrones_Ascent.txt\n",
            "INFO - haystack.utils.preprocessing -  Converting data/article_txt_got/511_After_the_Thrones.txt\n",
            "INFO - haystack.utils.preprocessing -  Converting data/article_txt_got/22_The_Rains_of_Castamere__song_.txt\n",
            "INFO - haystack.utils.preprocessing -  Converting data/article_txt_got/145_Elio_M._García_Jr._and_Linda_Antonsson.txt\n",
            "INFO - haystack.utils.preprocessing -  Converting data/article_txt_got/403_Jenny_of_Oldstones.txt\n",
            "INFO - haystack.utils.preprocessing -  Converting data/article_txt_got/359_Kill_the_Boy.txt\n",
            "INFO - haystack.utils.preprocessing -  Converting data/article_txt_got/495_Hodor.txt\n",
            "INFO - haystack.utils.preprocessing -  Converting data/article_txt_got/209_Mockingbird__Game_of_Thrones_.txt\n",
            "INFO - haystack.utils.preprocessing -  Converting data/article_txt_got/57_The_Laws_of_Gods_and_Men.txt\n",
            "INFO - haystack.utils.preprocessing -  Converting data/article_txt_got/56_First_of_His_Name.txt\n",
            "INFO - haystack.utils.preprocessing -  Converting data/article_txt_got/24_Game_of_Thrones__Season_1__soundtrack_.txt\n",
            "INFO - haystack.utils.preprocessing -  Converting data/article_txt_got/210_The_Mountain_and_the_Viper.txt\n",
            "INFO - haystack.utils.preprocessing -  Converting data/article_txt_got/346_Ygritte.txt\n",
            "INFO - haystack.utils.preprocessing -  Converting data/article_txt_got/73_A_Man_Without_Honor.txt\n",
            "INFO - haystack.utils.preprocessing -  Converting data/article_txt_got/345_A_Game_of_Thrones__comics_.txt\n",
            "INFO - haystack.utils.preprocessing -  Converting data/article_txt_got/101_Titties_and_Dragons.txt\n",
            "INFO - haystack.utils.preprocessing -  Converting data/article_txt_got/99_A_Song_of_Ass_and_Fire.txt\n",
            "INFO - haystack.utils.preprocessing -  Converting data/article_txt_got/232_Tommen_Baratheon.txt\n",
            "INFO - haystack.utils.preprocessing -  Converting data/article_txt_got/118_Dark_Wings__Dark_Words.txt\n",
            "INFO - haystack.utils.preprocessing -  Converting data/article_txt_got/74_The_Prince_of_Winterfell.txt\n",
            "INFO - haystack.utils.preprocessing -  Converting data/article_txt_got/79_Thronecast.txt\n",
            "INFO - haystack.utils.preprocessing -  Converting data/article_txt_got/160_Viserys_Targaryen.txt\n",
            "INFO - haystack.utils.preprocessing -  Converting data/article_txt_got/20_Light_of_the_Seven.txt\n",
            "INFO - haystack.utils.preprocessing -  Converting data/article_txt_got/54_Two_Swords__Game_of_Thrones_.txt\n",
            "INFO - haystack.utils.preprocessing -  Converting data/article_txt_got/127_The_Climb__Game_of_Thrones_.txt\n",
            "INFO - haystack.utils.preprocessing -  Converting data/article_txt_got/501_Khal_Drogo.txt\n",
            "INFO - haystack.utils.preprocessing -  Converting data/article_txt_got/211_The_Watchers_on_the_Wall.txt\n",
            "INFO - haystack.utils.preprocessing -  Converting data/article_txt_got/76_Valar_Morghulis.txt\n",
            "INFO - haystack.utils.preprocessing -  Converting data/article_txt_got/39_Renly_Baratheon.txt\n",
            "INFO - haystack.utils.preprocessing -  Converting data/article_txt_got/151_Ellaria_Sand.txt\n",
            "INFO - haystack.utils.preprocessing -  Converting data/article_txt_got/330_Oberyn_Martell.txt\n",
            "INFO - haystack.utils.preprocessing -  Converting data/article_txt_got/51_Iron_Throne__A_Song_of_Ice_and_Fire_.txt\n",
            "INFO - haystack.utils.preprocessing -  Converting data/article_txt_got/485_Oathkeeper.txt\n",
            "INFO - haystack.utils.preprocessing -  Converting data/article_txt_got/129_Second_Sons.txt\n",
            "INFO - haystack.utils.preprocessing -  Converting data/article_txt_got/273_High_Sparrow.txt\n",
            "INFO - haystack.utils.preprocessing -  Converting data/article_txt_got/233_Myrcella_Baratheon.txt\n",
            "INFO - haystack.utils.preprocessing -  Converting data/article_txt_got/262_Gilly__character_.txt\n",
            "INFO - haystack.utils.preprocessing -  Converting data/article_txt_got/506_Game_of_Thrones_Theme.txt\n",
            "INFO - haystack.utils.preprocessing -  Converting data/article_txt_got/367_Gregor_Clegane.txt\n",
            "INFO - haystack.utils.preprocessing -  Converting data/article_txt_got/214_Dothraki_language.txt\n",
            "INFO - haystack.utils.preprocessing -  Converting data/article_txt_got/98_Black_Friday__South_Park_.txt\n",
            "INFO - haystack.utils.preprocessing -  Converting data/article_txt_got/212_The_Children__Game_of_Thrones_.txt\n",
            "INFO - haystack.utils.preprocessing -  Converting data/article_txt_got/343_Catelyn_Stark.txt\n",
            "INFO - haystack.utils.preprocessing -  Converting data/article_txt_got/217_The_Rogue_Prince.txt\n",
            "INFO - haystack.utils.preprocessing -  Converting data/article_txt_got/329_Robert_Baratheon.txt\n",
            "INFO - haystack.utils.preprocessing -  Converting data/article_txt_got/400_Winterfell__Game_of_Thrones_episode_.txt\n",
            "INFO - haystack.utils.preprocessing -  Converting data/article_txt_got/435_White_Walker.txt\n",
            "INFO - haystack.utils.preprocessing -  Converting data/article_txt_got/402_A_Knight_of_the_Seven_Kingdoms__Game_of_Thrones_.txt\n",
            "INFO - haystack.utils.preprocessing -  Converting data/article_txt_got/334_Rickon_Stark.txt\n",
            "INFO - haystack.utils.preprocessing -  Converting data/article_txt_got/408_The_Last_of_the_Starks.txt\n",
            "INFO - haystack.utils.preprocessing -  Converting data/article_txt_got/120_And_Now_His_Watch_Is_Ended.txt\n",
            "INFO - haystack.utils.preprocessing -  Converting data/article_txt_got/126_Kissed_by_Fire.txt\n",
            "INFO - haystack.utils.preprocessing -  Converting data/article_txt_got/443_The_Kingsroad.txt\n",
            "INFO - haystack.utils.preprocessing -  Converting data/article_txt_got/119_Walk_of_Punishment.txt\n",
            "INFO - haystack.utils.preprocessing -  Converting data/article_txt_got/68_The_Gift__Game_of_Thrones_.txt\n",
            "INFO - haystack.utils.preprocessing -  Converting data/article_txt_got/474_Bronn__character_.txt\n",
            "INFO - haystack.utils.preprocessing -  Converting data/article_txt_got/80_A_Song_of_Ice_and_Fire_fandom.txt\n",
            "INFO - haystack.utils.preprocessing -  Converting data/article_txt_got/218_Olenna_Tyrell.txt\n",
            "INFO - haystack.utils.preprocessing -  Converting data/article_txt_got/23_Game_of_Thrones_Live_Concert_Experience.txt\n",
            "INFO - haystack.utils.preprocessing -  Converting data/article_txt_got/37_Joffrey_Baratheon.txt\n",
            "INFO - haystack.utils.preprocessing -  Converting data/article_txt_got/452_Fire_and_Blood__Game_of_Thrones_.txt\n",
            "INFO - haystack.utils.preprocessing -  Converting data/article_txt_got/469_Outline_of_A_Song_of_Ice_and_Fire_franchise.txt\n",
            "INFO - haystack.utils.preprocessing -  Converting data/article_txt_got/55_Breaker_of_Chains.txt\n",
            "INFO - haystack.utils.preprocessing -  Converting data/article_txt_got/131_Mhysa.txt\n",
            "INFO - haystack.utils.preprocessing -  Converting data/article_txt_got/424_Night_King.txt\n",
            "INFO - haystack.utils.preprocessing -  Converting data/article_txt_got/447_You_Win_or_You_Die.txt\n",
            "INFO - haystack.utils.preprocessing -  Converting data/article_txt_got/224_The_Night_Lands.txt\n",
            "INFO - haystack.utils.preprocessing -  Converting data/article_txt_got/121_The_Bear_and_the_Maiden_Fair.txt\n",
            "INFO - haystack.utils.preprocessing -  Converting data/article_txt_got/411_The_Iron_Throne__Game_of_Thrones_.txt\n",
            "INFO - haystack.utils.preprocessing -  Converting data/article_txt_got/453_Game_of_Thrones__2012_video_game_.txt\n",
            "INFO - haystack.utils.preprocessing -  Converting data/article_txt_got/304_Hardhome.txt\n",
            "INFO - haystack.utils.preprocessing -  Converting data/article_txt_got/78_The_Rains_of_Castamere.txt\n",
            "INFO - haystack.utils.preprocessing -  Converting data/article_txt_got/33_David_Benioff.txt\n",
            "INFO - haystack.utils.preprocessing -  Converting data/article_txt_got/263_Tormund_Giantsbane.txt\n",
            "INFO - haystack.utils.preprocessing -  Converting data/article_txt_got/445_The_Wolf_and_the_Lion.txt\n",
            "INFO - haystack.utils.preprocessing -  Converting data/article_txt_got/193_Lord_Snow.txt\n",
            "INFO - haystack.utils.preprocessing -  Converting data/article_txt_got/444_Cripples__Bastards__and_Broken_Things.txt\n",
            "INFO - haystack.utils.preprocessing -  Converting data/article_txt_got/378_A_Game_of_Thrones__board_game_.txt\n",
            "INFO - haystack.utils.preprocessing -  Converting data/article_txt_got/2_Stormborn.txt\n",
            "INFO - haystack.utils.preprocessing -  Converting data/article_txt_got/446_A_Golden_Crown.txt\n",
            "INFO - haystack.utils.preprocessing -  Converting data/article_txt_got/449_The_Pointy_End.txt\n",
            "INFO - haystack.utils.preprocessing -  Converting data/article_txt_got/360_List_of_Game_of_Thrones_episodes.txt\n",
            "INFO - haystack.utils.preprocessing -  Converting data/article_txt_got/191_Gendry.txt\n",
            "INFO - haystack.utils.preprocessing -  Converting data/article_txt_got/480_Varys.txt\n",
            "INFO - haystack.utils.preprocessing -  Converting data/article_txt_got/407_The_Long_Night__Game_of_Thrones_.txt\n",
            "INFO - haystack.utils.preprocessing -  Converting data/article_txt_got/67_Unbowed__Unbent__Unbroken.txt\n",
            "INFO - haystack.utils.preprocessing -  Converting data/article_txt_got/130_Game_of_Thrones_title_sequence.txt\n",
            "INFO - haystack.utils.preprocessing -  Converting data/article_txt_got/348_The_Winds_of_Winter.txt\n",
            "INFO - haystack.utils.preprocessing -  Converting data/article_txt_got/481_Sandor_Clegane.txt\n",
            "INFO - haystack.utils.preprocessing -  Converting data/article_txt_got/9_Game_of_Thrones_Tapestry.txt\n",
            "INFO - haystack.utils.preprocessing -  Converting data/article_txt_got/154_Margaery_Tyrell.txt\n",
            "INFO - haystack.utils.preprocessing -  Converting data/article_txt_got/394_Game_of_Thrones__2014_video_game_.txt\n",
            "INFO - haystack.utils.preprocessing -  Converting data/article_txt_got/450_Baelor.txt\n",
            "INFO - haystack.utils.preprocessing -  Converting data/article_txt_got/75_Blackwater__Game_of_Thrones_.txt\n",
            "INFO - haystack.utils.preprocessing -  Converting data/article_txt_got/439_Melisandre.txt\n",
            "INFO - haystack.utils.preprocessing -  Converting data/article_txt_got/28_Jorah_Mormont.txt\n",
            "INFO - haystack.utils.preprocessing -  Converting data/article_txt_got/3_The_Queen_s_Justice.txt\n",
            "INFO - haystack.utils.preprocessing -  Converting data/article_txt_got/87_Valar_Dohaeris.txt\n",
            "INFO - haystack.utils.preprocessing -  Converting data/article_txt_got/373_Tywin_Lannister.txt\n",
            "INFO - haystack.utils.preprocessing -  Converting data/article_txt_got/340_Roose_Bolton.txt\n",
            "INFO - haystack.utils.preprocessing -  Converting data/article_txt_got/1_Dragonstone__Game_of_Thrones_episode_.txt\n",
            "INFO - haystack.utils.preprocessing -  Converting data/article_txt_got/53_The_Lion_and_the_Rose.txt\n",
            "INFO - haystack.utils.preprocessing -  Converting data/article_txt_got/198_A_Clash_of_Kings.txt\n",
            "INFO - haystack.utils.preprocessing -  Converting data/article_txt_got/514_Book_of_the_Stranger.txt\n",
            "INFO - haystack.utils.preprocessing -  Converting data/article_txt_got/197_A_Game_of_Thrones.txt\n",
            "INFO - haystack.utils.preprocessing -  Converting data/article_txt_got/379_Davos_Seaworth.txt\n",
            "INFO - haystack.utils.preprocessing -  Converting data/article_txt_got/341_Ned_Stark.txt\n",
            "INFO - haystack.utils.preprocessing -  Converting data/article_txt_got/306_The_Dance_of_Dragons.txt\n",
            "INFO - haystack.utils.preprocessing -  Converting data/article_txt_got/342_Theon_Greyjoy.txt\n",
            "INFO - haystack.utils.preprocessing -  Converting data/article_txt_got/69_The_Red_Woman.txt\n",
            "INFO - haystack.utils.preprocessing -  Converting data/article_txt_got/208_Robb_Stark.txt\n",
            "INFO - haystack.utils.preprocessing -  Converting data/article_txt_got/512_Home__Game_of_Thrones_.txt\n",
            "INFO - haystack.utils.preprocessing -  Converting data/article_txt_got/482_Petyr_Baelish.txt\n",
            "INFO - haystack.utils.preprocessing -  Converting data/article_txt_got/362_Winter_Is_Coming.txt\n",
            "INFO - haystack.utils.preprocessing -  Converting data/article_txt_got/331_Bran_Stark.txt\n",
            "INFO - haystack.utils.preprocessing -  Converting data/article_txt_got/8_Eastwatch.txt\n",
            "INFO - haystack.utils.preprocessing -  Converting data/article_txt_got/356_Tales_of_Dunk_and_Egg.txt\n",
            "INFO - haystack.utils.preprocessing -  Converting data/article_txt_got/454_Music_of_Game_of_Thrones.txt\n",
            "INFO - haystack.utils.preprocessing -  Converting data/article_txt_got/310_Mother_s_Mercy.txt\n",
            "INFO - haystack.utils.preprocessing -  Converting data/article_txt_got/513_Oathbreaker__Game_of_Thrones_.txt\n",
            "INFO - haystack.utils.preprocessing -  Converting data/article_txt_got/369_Samwell_Tarly.txt\n",
            "INFO - haystack.utils.preprocessing -  Converting data/article_txt_got/487_Ramsay_Bolton.txt\n",
            "INFO - haystack.utils.preprocessing -  Converting data/article_txt_got/11_The_Dragon_and_the_Wolf.txt\n",
            "INFO - haystack.utils.preprocessing -  Converting data/article_txt_got/10_Beyond_the_Wall__Game_of_Thrones_.txt\n",
            "INFO - haystack.utils.preprocessing -  Converting data/article_txt_got/410_The_Bells__Game_of_Thrones_.txt\n",
            "INFO - haystack.utils.preprocessing -  Converting data/article_txt_got/202_A_Feast_for_Crows.txt\n",
            "INFO - haystack.utils.preprocessing -  Converting data/article_txt_got/199_A_Storm_of_Swords.txt\n",
            "INFO - haystack.utils.preprocessing -  Converting data/article_txt_got/317_The_Broken_Man.txt\n",
            "INFO - haystack.utils.preprocessing -  Converting data/article_txt_got/456_Works_based_on_A_Song_of_Ice_and_Fire.txt\n",
            "INFO - haystack.utils.preprocessing -  Converting data/article_txt_got/40_Stannis_Baratheon.txt\n",
            "INFO - haystack.utils.preprocessing -  Converting data/article_txt_got/12_Fire.txt\n",
            "INFO - haystack.utils.preprocessing -  Converting data/article_txt_got/420_Blood_of_My_Blood.txt\n",
            "INFO - haystack.utils.preprocessing -  Converting data/article_txt_got/488_Brienne_of_Tarth.txt\n",
            "INFO - haystack.utils.preprocessing -  Converting data/article_txt_got/213_Valyrian_languages.txt\n",
            "INFO - haystack.utils.preprocessing -  Converting data/article_txt_got/7_The_Spoils_of_War__Game_of_Thrones_.txt\n",
            "INFO - haystack.utils.preprocessing -  Converting data/article_txt_got/515_The_Door__Game_of_Thrones_.txt\n",
            "INFO - haystack.utils.preprocessing -  Converting data/article_txt_got/371_Cersei_Lannister.txt\n",
            "INFO - haystack.utils.preprocessing -  Converting data/article_txt_got/0_Game_of_Thrones__season_8_.txt\n",
            "INFO - haystack.utils.preprocessing -  Converting data/article_txt_got/311_Game_of_Thrones__season_7_.txt\n",
            "INFO - haystack.utils.preprocessing -  Converting data/article_txt_got/442_Game_of_Thrones__season_1_.txt\n",
            "INFO - haystack.utils.preprocessing -  Converting data/article_txt_got/43_Arya_Stark.txt\n",
            "INFO - haystack.utils.preprocessing -  Converting data/article_txt_got/425_No_One__Game_of_Thrones_.txt\n",
            "INFO - haystack.utils.preprocessing -  Converting data/article_txt_got/368_Jaime_Lannister.txt\n",
            "INFO - haystack.utils.preprocessing -  Converting data/article_txt_got/86_Game_of_Thrones__season_4_.txt\n",
            "INFO - haystack.utils.preprocessing -  Converting data/article_txt_got/347_Game_of_Thrones__season_2_.txt\n",
            "INFO - haystack.utils.preprocessing -  Converting data/article_txt_got/395_Game_of_Thrones__season_5_.txt\n",
            "INFO - haystack.utils.preprocessing -  Converting data/article_txt_got/460_Battle_of_the_Bastards.txt\n",
            "INFO - haystack.utils.preprocessing -  Converting data/article_txt_got/477_A_Dance_with_Dragons.txt\n",
            "INFO - haystack.utils.preprocessing -  Converting data/article_txt_got/396_Game_of_Thrones__season_6_.txt\n",
            "INFO - haystack.utils.preprocessing -  Converting data/article_txt_got/461_The_Winds_of_Winter__Game_of_Thrones_.txt\n",
            "INFO - haystack.utils.preprocessing -  Converting data/article_txt_got/207_Jon_Snow__character_.txt\n",
            "INFO - haystack.utils.preprocessing -  Converting data/article_txt_got/44_Daenerys_Targaryen.txt\n",
            "INFO - haystack.utils.preprocessing -  Converting data/article_txt_got/97_Tyrion_Lannister.txt\n",
            "INFO - haystack.utils.preprocessing -  Converting data/article_txt_got/332_Sansa_Stark.txt\n",
            "INFO - haystack.utils.preprocessing -  Converting data/article_txt_got/201_A_Game_of_Thrones__card_game_.txt\n",
            "INFO - haystack.utils.preprocessing -  Converting data/article_txt_got/194_A_Song_of_Ice_and_Fire.txt\n",
            "INFO - haystack.utils.preprocessing -  Converting data/article_txt_got/229_Game_of_Thrones.txt\n",
            "INFO - haystack.utils.preprocessing -  Converting data/article_txt_got/195_World_of_A_Song_of_Ice_and_Fire.txt\n",
            "INFO - haystack.utils.preprocessing -  Converting data/article_txt_got/30_List_of_A_Song_of_Ice_and_Fire_characters.txt\n",
            "INFO - haystack.utils.preprocessing -  Converting data/article_txt_got/84_List_of_awards_and_nominations_received_by_Game_of_Thrones.txt\n",
            "INFO - haystack.utils.preprocessing -  Converting data/article_txt_got/349_List_of_Game_of_Thrones_characters.txt\n",
            "INFO - haystack.document_stores.base -  Duplicate Documents: Document with id '7ed12f389f7f085bb30c7d00abd26f81' already exists in index 'document'\n",
            "INFO - haystack.document_stores.base -  Duplicate Documents: Document with id '817c9fdc70cdd9a74075ff1a32503409' already exists in index 'document'\n",
            "INFO - haystack.document_stores.base -  Duplicate Documents: Document with id '7ed12f389f7f085bb30c7d00abd26f81' already exists in index 'document'\n",
            "INFO - haystack.document_stores.base -  Duplicate Documents: Document with id '7ed12f389f7f085bb30c7d00abd26f81' already exists in index 'document'\n",
            "INFO - haystack.document_stores.base -  Duplicate Documents: Document with id '7ed12f389f7f085bb30c7d00abd26f81' already exists in index 'document'\n",
            "INFO - haystack.document_stores.base -  Duplicate Documents: Document with id '7ed12f389f7f085bb30c7d00abd26f81' already exists in index 'document'\n",
            "INFO - haystack.document_stores.base -  Duplicate Documents: Document with id '7ed12f389f7f085bb30c7d00abd26f81' already exists in index 'document'\n",
            "INFO - haystack.document_stores.base -  Duplicate Documents: Document with id '7ed12f389f7f085bb30c7d00abd26f81' already exists in index 'document'\n",
            "INFO - haystack.document_stores.base -  Duplicate Documents: Document with id '9e9a3181b6bc168b4a25429b641e8c86' already exists in index 'document'\n",
            "INFO - haystack.document_stores.base -  Duplicate Documents: Document with id '817c9fdc70cdd9a74075ff1a32503409' already exists in index 'document'\n",
            "INFO - haystack.document_stores.base -  Duplicate Documents: Document with id '356a0eb6f7957594eb516e6122a5cbe7' already exists in index 'document'\n",
            "INFO - haystack.document_stores.base -  Duplicate Documents: Document with id '7ed12f389f7f085bb30c7d00abd26f81' already exists in index 'document'\n",
            "INFO - haystack.document_stores.base -  Duplicate Documents: Document with id '7ed12f389f7f085bb30c7d00abd26f81' already exists in index 'document'\n",
            "INFO - haystack.document_stores.base -  Duplicate Documents: Document with id '7ed12f389f7f085bb30c7d00abd26f81' already exists in index 'document'\n",
            "INFO - haystack.document_stores.base -  Duplicate Documents: Document with id '9e9a3181b6bc168b4a25429b641e8c86' already exists in index 'document'\n",
            "INFO - haystack.document_stores.base -  Duplicate Documents: Document with id '9e9a3181b6bc168b4a25429b641e8c86' already exists in index 'document'\n",
            "INFO - haystack.document_stores.base -  Duplicate Documents: Document with id '9e9a3181b6bc168b4a25429b641e8c86' already exists in index 'document'\n",
            "INFO - haystack.document_stores.base -  Duplicate Documents: Document with id '7ed12f389f7f085bb30c7d00abd26f81' already exists in index 'document'\n",
            "INFO - haystack.document_stores.base -  Duplicate Documents: Document with id '7ed12f389f7f085bb30c7d00abd26f81' already exists in index 'document'\n",
            "INFO - haystack.document_stores.base -  Duplicate Documents: Document with id '7ed12f389f7f085bb30c7d00abd26f81' already exists in index 'document'\n",
            "INFO - haystack.document_stores.base -  Duplicate Documents: Document with id '9e9a3181b6bc168b4a25429b641e8c86' already exists in index 'document'\n",
            "INFO - haystack.document_stores.base -  Duplicate Documents: Document with id '9e9a3181b6bc168b4a25429b641e8c86' already exists in index 'document'\n",
            "INFO - haystack.document_stores.base -  Duplicate Documents: Document with id '7ed12f389f7f085bb30c7d00abd26f81' already exists in index 'document'\n",
            "INFO - haystack.document_stores.base -  Duplicate Documents: Document with id '9e9a3181b6bc168b4a25429b641e8c86' already exists in index 'document'\n",
            "INFO - haystack.document_stores.base -  Duplicate Documents: Document with id '9e9a3181b6bc168b4a25429b641e8c86' already exists in index 'document'\n",
            "INFO - haystack.document_stores.base -  Duplicate Documents: Document with id '7ed12f389f7f085bb30c7d00abd26f81' already exists in index 'document'\n",
            "INFO - haystack.document_stores.base -  Duplicate Documents: Document with id '1906b2acc6c764b69e619e5eb2fa646f' already exists in index 'document'\n",
            "INFO - haystack.document_stores.base -  Duplicate Documents: Document with id '9e9a3181b6bc168b4a25429b641e8c86' already exists in index 'document'\n",
            "INFO - haystack.document_stores.base -  Duplicate Documents: Document with id '9e9a3181b6bc168b4a25429b641e8c86' already exists in index 'document'\n",
            "INFO - haystack.document_stores.base -  Duplicate Documents: Document with id 'b53667a464df31878e75c82ca2c9268f' already exists in index 'document'\n",
            "INFO - haystack.document_stores.base -  Duplicate Documents: Document with id '4fe5d3396a52edff7367d6137a7ea654' already exists in index 'document'\n",
            "INFO - haystack.document_stores.base -  Duplicate Documents: Document with id '7ed12f389f7f085bb30c7d00abd26f81' already exists in index 'document'\n",
            "INFO - haystack.document_stores.base -  Duplicate Documents: Document with id '9e9a3181b6bc168b4a25429b641e8c86' already exists in index 'document'\n",
            "INFO - haystack.document_stores.base -  Duplicate Documents: Document with id '7ed12f389f7f085bb30c7d00abd26f81' already exists in index 'document'\n",
            "INFO - haystack.document_stores.base -  Duplicate Documents: Document with id 'c8b51f62e0fccac8361c4464cc2c8f70' already exists in index 'document'\n",
            "INFO - haystack.document_stores.base -  Duplicate Documents: Document with id '356a0eb6f7957594eb516e6122a5cbe7' already exists in index 'document'\n",
            "INFO - haystack.document_stores.base -  Duplicate Documents: Document with id '7ed12f389f7f085bb30c7d00abd26f81' already exists in index 'document'\n",
            "INFO - haystack.document_stores.base -  Duplicate Documents: Document with id '9e9a3181b6bc168b4a25429b641e8c86' already exists in index 'document'\n",
            "INFO - haystack.document_stores.base -  Duplicate Documents: Document with id '1906b2acc6c764b69e619e5eb2fa646f' already exists in index 'document'\n",
            "INFO - haystack.document_stores.base -  Duplicate Documents: Document with id '7ed12f389f7f085bb30c7d00abd26f81' already exists in index 'document'\n",
            "INFO - haystack.document_stores.base -  Duplicate Documents: Document with id '9e9a3181b6bc168b4a25429b641e8c86' already exists in index 'document'\n",
            "INFO - haystack.document_stores.base -  Duplicate Documents: Document with id 'c8b51f62e0fccac8361c4464cc2c8f70' already exists in index 'document'\n",
            "INFO - haystack.document_stores.base -  Duplicate Documents: Document with id '7ed12f389f7f085bb30c7d00abd26f81' already exists in index 'document'\n",
            "INFO - haystack.document_stores.base -  Duplicate Documents: Document with id 'c8b51f62e0fccac8361c4464cc2c8f70' already exists in index 'document'\n",
            "INFO - haystack.document_stores.base -  Duplicate Documents: Document with id '7ed12f389f7f085bb30c7d00abd26f81' already exists in index 'document'\n",
            "INFO - haystack.document_stores.base -  Duplicate Documents: Document with id '1906b2acc6c764b69e619e5eb2fa646f' already exists in index 'document'\n",
            "INFO - haystack.document_stores.base -  Duplicate Documents: Document with id '9e9a3181b6bc168b4a25429b641e8c86' already exists in index 'document'\n",
            "INFO - haystack.document_stores.base -  Duplicate Documents: Document with id '7ed12f389f7f085bb30c7d00abd26f81' already exists in index 'document'\n",
            "INFO - haystack.document_stores.base -  Duplicate Documents: Document with id 'c8b51f62e0fccac8361c4464cc2c8f70' already exists in index 'document'\n",
            "INFO - haystack.document_stores.base -  Duplicate Documents: Document with id '356a0eb6f7957594eb516e6122a5cbe7' already exists in index 'document'\n",
            "INFO - haystack.document_stores.base -  Duplicate Documents: Document with id '9e9a3181b6bc168b4a25429b641e8c86' already exists in index 'document'\n",
            "INFO - haystack.document_stores.base -  Duplicate Documents: Document with id 'c8b51f62e0fccac8361c4464cc2c8f70' already exists in index 'document'\n",
            "INFO - haystack.document_stores.base -  Duplicate Documents: Document with id '9e9a3181b6bc168b4a25429b641e8c86' already exists in index 'document'\n",
            "INFO - haystack.document_stores.base -  Duplicate Documents: Document with id 'c8b51f62e0fccac8361c4464cc2c8f70' already exists in index 'document'\n",
            "INFO - haystack.document_stores.base -  Duplicate Documents: Document with id '619d203987121dd9c5c5e12e8e1fb153' already exists in index 'document'\n",
            "INFO - haystack.document_stores.base -  Duplicate Documents: Document with id '9e9a3181b6bc168b4a25429b641e8c86' already exists in index 'document'\n",
            "INFO - haystack.document_stores.base -  Duplicate Documents: Document with id 'c8b51f62e0fccac8361c4464cc2c8f70' already exists in index 'document'\n",
            "INFO - haystack.document_stores.base -  Duplicate Documents: Document with id '9e9a3181b6bc168b4a25429b641e8c86' already exists in index 'document'\n",
            "INFO - haystack.document_stores.base -  Duplicate Documents: Document with id 'c8b51f62e0fccac8361c4464cc2c8f70' already exists in index 'document'\n",
            "INFO - haystack.document_stores.base -  Duplicate Documents: Document with id '1906b2acc6c764b69e619e5eb2fa646f' already exists in index 'document'\n",
            "INFO - haystack.document_stores.base -  Duplicate Documents: Document with id '1906b2acc6c764b69e619e5eb2fa646f' already exists in index 'document'\n",
            "INFO - haystack.document_stores.base -  Duplicate Documents: Document with id '9e9a3181b6bc168b4a25429b641e8c86' already exists in index 'document'\n",
            "INFO - haystack.document_stores.base -  Duplicate Documents: Document with id 'c8b51f62e0fccac8361c4464cc2c8f70' already exists in index 'document'\n",
            "INFO - haystack.document_stores.base -  Duplicate Documents: Document with id '7ed12f389f7f085bb30c7d00abd26f81' already exists in index 'document'\n",
            "INFO - haystack.document_stores.base -  Duplicate Documents: Document with id '7ed12f389f7f085bb30c7d00abd26f81' already exists in index 'document'\n",
            "INFO - haystack.document_stores.base -  Duplicate Documents: Document with id '7ed12f389f7f085bb30c7d00abd26f81' already exists in index 'document'\n",
            "INFO - haystack.document_stores.base -  Duplicate Documents: Document with id '1906b2acc6c764b69e619e5eb2fa646f' already exists in index 'document'\n",
            "INFO - haystack.document_stores.base -  Duplicate Documents: Document with id '9e9a3181b6bc168b4a25429b641e8c86' already exists in index 'document'\n",
            "INFO - haystack.document_stores.base -  Duplicate Documents: Document with id '9e9a3181b6bc168b4a25429b641e8c86' already exists in index 'document'\n",
            "INFO - haystack.document_stores.base -  Duplicate Documents: Document with id '1906b2acc6c764b69e619e5eb2fa646f' already exists in index 'document'\n",
            "INFO - haystack.document_stores.base -  Duplicate Documents: Document with id '1906b2acc6c764b69e619e5eb2fa646f' already exists in index 'document'\n",
            "INFO - haystack.document_stores.base -  Duplicate Documents: Document with id '9e9a3181b6bc168b4a25429b641e8c86' already exists in index 'document'\n",
            "INFO - haystack.document_stores.base -  Duplicate Documents: Document with id '9e9a3181b6bc168b4a25429b641e8c86' already exists in index 'document'\n",
            "INFO - haystack.document_stores.base -  Duplicate Documents: Document with id '9e9a3181b6bc168b4a25429b641e8c86' already exists in index 'document'\n",
            "INFO - haystack.document_stores.base -  Duplicate Documents: Document with id '7ed12f389f7f085bb30c7d00abd26f81' already exists in index 'document'\n"
          ]
        },
        {
          "output_type": "stream",
          "name": "stdout",
          "text": [
            "[{'content': \"'''''Rani Mahal''''' is an upcoming Indian television series, which will air on Sony Entertainment Television (India) and Sony Entertainment Television Asia. Many news sources claimed that this show is an Indian adaptation of American fantasy drama series ''Game of Thrones'' which based on best-selling novel ''A Song of Ice and Fire'', which has been denied by Sony Entertainment Television (India) and Lost Boy Productions.\", 'meta': {'name': '299_Rani_Mahal__TV_series_.txt'}}, {'content': '\\n==External links==', 'meta': {'name': '299_Rani_Mahal__TV_series_.txt'}}, {'content': \"The soundtrack album of the fifth season of HBO series ''Game of Thrones'', titled '''''Game of Thrones: Season 5''''', was released digitally on June 9, 2015, and on CD on July 17, 2015. The album was composed by Ramin Djawadi.\", 'meta': {'name': '133_Game_of_Thrones__Season_5__soundtrack_.txt'}}]\n"
          ]
        },
        {
          "output_type": "stream",
          "name": "stderr",
          "text": [
            "INFO - haystack.document_stores.base -  Duplicate Documents: Document with id '9e9a3181b6bc168b4a25429b641e8c86' already exists in index 'document'\n",
            "INFO - haystack.document_stores.base -  Duplicate Documents: Document with id '9e9a3181b6bc168b4a25429b641e8c86' already exists in index 'document'\n",
            "INFO - haystack.document_stores.base -  Duplicate Documents: Document with id '9e9a3181b6bc168b4a25429b641e8c86' already exists in index 'document'\n",
            "INFO - haystack.document_stores.base -  Duplicate Documents: Document with id '1906b2acc6c764b69e619e5eb2fa646f' already exists in index 'document'\n",
            "INFO - haystack.document_stores.base -  Duplicate Documents: Document with id '9e9a3181b6bc168b4a25429b641e8c86' already exists in index 'document'\n",
            "INFO - haystack.document_stores.base -  Duplicate Documents: Document with id '7ed12f389f7f085bb30c7d00abd26f81' already exists in index 'document'\n",
            "INFO - haystack.document_stores.base -  Duplicate Documents: Document with id '994b9df41876668d9a5cae9510915a24' already exists in index 'document'\n",
            "INFO - haystack.document_stores.base -  Duplicate Documents: Document with id '1906b2acc6c764b69e619e5eb2fa646f' already exists in index 'document'\n",
            "INFO - haystack.document_stores.base -  Duplicate Documents: Document with id 'c8b51f62e0fccac8361c4464cc2c8f70' already exists in index 'document'\n",
            "INFO - haystack.document_stores.base -  Duplicate Documents: Document with id '9e9a3181b6bc168b4a25429b641e8c86' already exists in index 'document'\n",
            "INFO - haystack.document_stores.base -  Duplicate Documents: Document with id '7ed12f389f7f085bb30c7d00abd26f81' already exists in index 'document'\n",
            "INFO - haystack.document_stores.base -  Duplicate Documents: Document with id '9e9a3181b6bc168b4a25429b641e8c86' already exists in index 'document'\n",
            "INFO - haystack.document_stores.base -  Duplicate Documents: Document with id '9e9a3181b6bc168b4a25429b641e8c86' already exists in index 'document'\n",
            "INFO - haystack.document_stores.base -  Duplicate Documents: Document with id '9e9a3181b6bc168b4a25429b641e8c86' already exists in index 'document'\n",
            "INFO - haystack.document_stores.base -  Duplicate Documents: Document with id 'c8b51f62e0fccac8361c4464cc2c8f70' already exists in index 'document'\n",
            "INFO - haystack.document_stores.base -  Duplicate Documents: Document with id '7ed12f389f7f085bb30c7d00abd26f81' already exists in index 'document'\n",
            "INFO - haystack.document_stores.base -  Duplicate Documents: Document with id '1906b2acc6c764b69e619e5eb2fa646f' already exists in index 'document'\n",
            "INFO - haystack.document_stores.base -  Duplicate Documents: Document with id 'c8b51f62e0fccac8361c4464cc2c8f70' already exists in index 'document'\n",
            "INFO - haystack.document_stores.base -  Duplicate Documents: Document with id 'c8b51f62e0fccac8361c4464cc2c8f70' already exists in index 'document'\n",
            "INFO - haystack.document_stores.base -  Duplicate Documents: Document with id '9e9a3181b6bc168b4a25429b641e8c86' already exists in index 'document'\n",
            "INFO - haystack.document_stores.base -  Duplicate Documents: Document with id '9e9a3181b6bc168b4a25429b641e8c86' already exists in index 'document'\n",
            "INFO - haystack.document_stores.base -  Duplicate Documents: Document with id '9e9a3181b6bc168b4a25429b641e8c86' already exists in index 'document'\n",
            "INFO - haystack.document_stores.base -  Duplicate Documents: Document with id '9e9a3181b6bc168b4a25429b641e8c86' already exists in index 'document'\n",
            "INFO - haystack.document_stores.base -  Duplicate Documents: Document with id 'c8b51f62e0fccac8361c4464cc2c8f70' already exists in index 'document'\n",
            "INFO - haystack.document_stores.base -  Duplicate Documents: Document with id 'c8b51f62e0fccac8361c4464cc2c8f70' already exists in index 'document'\n",
            "INFO - haystack.document_stores.base -  Duplicate Documents: Document with id '9e9a3181b6bc168b4a25429b641e8c86' already exists in index 'document'\n",
            "INFO - haystack.document_stores.base -  Duplicate Documents: Document with id 'c8b51f62e0fccac8361c4464cc2c8f70' already exists in index 'document'\n",
            "INFO - haystack.document_stores.base -  Duplicate Documents: Document with id '9e9a3181b6bc168b4a25429b641e8c86' already exists in index 'document'\n",
            "INFO - haystack.document_stores.base -  Duplicate Documents: Document with id 'c8b51f62e0fccac8361c4464cc2c8f70' already exists in index 'document'\n",
            "INFO - haystack.document_stores.base -  Duplicate Documents: Document with id '9e9a3181b6bc168b4a25429b641e8c86' already exists in index 'document'\n",
            "INFO - haystack.document_stores.base -  Duplicate Documents: Document with id '7ed12f389f7f085bb30c7d00abd26f81' already exists in index 'document'\n",
            "INFO - haystack.document_stores.base -  Duplicate Documents: Document with id '9e9a3181b6bc168b4a25429b641e8c86' already exists in index 'document'\n",
            "INFO - haystack.document_stores.base -  Duplicate Documents: Document with id 'c8b51f62e0fccac8361c4464cc2c8f70' already exists in index 'document'\n",
            "INFO - haystack.document_stores.base -  Duplicate Documents: Document with id '9e9a3181b6bc168b4a25429b641e8c86' already exists in index 'document'\n",
            "INFO - haystack.document_stores.base -  Duplicate Documents: Document with id '7ed12f389f7f085bb30c7d00abd26f81' already exists in index 'document'\n",
            "INFO - haystack.document_stores.base -  Duplicate Documents: Document with id '9e9a3181b6bc168b4a25429b641e8c86' already exists in index 'document'\n",
            "INFO - haystack.document_stores.base -  Duplicate Documents: Document with id '9e9a3181b6bc168b4a25429b641e8c86' already exists in index 'document'\n",
            "INFO - haystack.document_stores.base -  Duplicate Documents: Document with id 'c8b51f62e0fccac8361c4464cc2c8f70' already exists in index 'document'\n",
            "INFO - haystack.document_stores.base -  Duplicate Documents: Document with id 'bbcb394a991cab6a7f8c18e5a294452f' already exists in index 'document'\n",
            "INFO - haystack.document_stores.base -  Duplicate Documents: Document with id '994b9df41876668d9a5cae9510915a24' already exists in index 'document'\n",
            "INFO - haystack.document_stores.base -  Duplicate Documents: Document with id '1906b2acc6c764b69e619e5eb2fa646f' already exists in index 'document'\n",
            "INFO - haystack.document_stores.base -  Duplicate Documents: Document with id '3df21acc4c6427e99cc71a01f56667a6' already exists in index 'document'\n",
            "INFO - haystack.document_stores.base -  Duplicate Documents: Document with id '9e9a3181b6bc168b4a25429b641e8c86' already exists in index 'document'\n",
            "INFO - haystack.document_stores.base -  Duplicate Documents: Document with id '7ed12f389f7f085bb30c7d00abd26f81' already exists in index 'document'\n",
            "INFO - haystack.document_stores.base -  Duplicate Documents: Document with id '6c707fba969f19cd663ffd942f0fd20a' already exists in index 'document'\n",
            "INFO - haystack.document_stores.base -  Duplicate Documents: Document with id 'b8566e1914164a36b30f649be0cde065' already exists in index 'document'\n",
            "INFO - haystack.document_stores.base -  Duplicate Documents: Document with id 'e089ba67cf8dba3efa466028c05de19f' already exists in index 'document'\n",
            "INFO - haystack.document_stores.base -  Duplicate Documents: Document with id '7ed12f389f7f085bb30c7d00abd26f81' already exists in index 'document'\n",
            "INFO - haystack.document_stores.base -  Duplicate Documents: Document with id '9e9a3181b6bc168b4a25429b641e8c86' already exists in index 'document'\n",
            "INFO - haystack.document_stores.base -  Duplicate Documents: Document with id 'c8b51f62e0fccac8361c4464cc2c8f70' already exists in index 'document'\n",
            "INFO - haystack.document_stores.base -  Duplicate Documents: Document with id '5d79fbf801011475553a09ab068f02e2' already exists in index 'document'\n",
            "INFO - haystack.document_stores.base -  Duplicate Documents: Document with id 'c8b51f62e0fccac8361c4464cc2c8f70' already exists in index 'document'\n",
            "INFO - haystack.document_stores.base -  Duplicate Documents: Document with id '9e9a3181b6bc168b4a25429b641e8c86' already exists in index 'document'\n",
            "INFO - haystack.document_stores.base -  Duplicate Documents: Document with id '7ed12f389f7f085bb30c7d00abd26f81' already exists in index 'document'\n",
            "INFO - haystack.document_stores.base -  Duplicate Documents: Document with id '5d79fbf801011475553a09ab068f02e2' already exists in index 'document'\n",
            "INFO - haystack.document_stores.base -  Duplicate Documents: Document with id '5d79fbf801011475553a09ab068f02e2' already exists in index 'document'\n",
            "INFO - haystack.document_stores.base -  Duplicate Documents: Document with id '5d79fbf801011475553a09ab068f02e2' already exists in index 'document'\n",
            "INFO - haystack.document_stores.base -  Duplicate Documents: Document with id '9e9a3181b6bc168b4a25429b641e8c86' already exists in index 'document'\n",
            "INFO - haystack.document_stores.base -  Duplicate Documents: Document with id 'c8b51f62e0fccac8361c4464cc2c8f70' already exists in index 'document'\n",
            "INFO - haystack.document_stores.base -  Duplicate Documents: Document with id '6b61a45485d568ee7607061f918379c2' already exists in index 'document'\n",
            "INFO - haystack.document_stores.base -  Duplicate Documents: Document with id 'd3488ca3ea1ce433c8bce82b4b06909a' already exists in index 'document'\n",
            "INFO - haystack.document_stores.base -  Duplicate Documents: Document with id '9e9a3181b6bc168b4a25429b641e8c86' already exists in index 'document'\n",
            "INFO - haystack.document_stores.base -  Duplicate Documents: Document with id '9e9a3181b6bc168b4a25429b641e8c86' already exists in index 'document'\n",
            "INFO - haystack.document_stores.base -  Duplicate Documents: Document with id '9e9a3181b6bc168b4a25429b641e8c86' already exists in index 'document'\n",
            "INFO - haystack.document_stores.base -  Duplicate Documents: Document with id '9e9a3181b6bc168b4a25429b641e8c86' already exists in index 'document'\n"
          ]
        }
      ]
    },
    {
      "cell_type": "code",
      "metadata": {
        "colab": {
          "base_uri": "https://localhost:8080/"
        },
        "id": "o-fj66wg_qK0",
        "outputId": "34bcd2bf-aba9-4269-ff2c-22b255bab073"
      },
      "source": [
        "from haystack.nodes import TfidfRetriever\n",
        "retriever = TfidfRetriever(document_store=document_store)"
      ],
      "execution_count": null,
      "outputs": [
        {
          "output_type": "stream",
          "name": "stderr",
          "text": [
            "INFO - haystack.nodes.retriever.sparse -  Found 2357 candidate paragraphs from 2357 docs in DB\n"
          ]
        }
      ]
    },
    {
      "cell_type": "code",
      "metadata": {
        "colab": {
          "base_uri": "https://localhost:8080/",
          "height": 727,
          "referenced_widgets": [
            "fe2dc109c4814b058f1bab79ea1fd9a3",
            "c2abe5a439954411a01802d1df3299c5",
            "faba0ff81443437084da17261c45f0ca",
            "881ed5c3dc31419fa1a284db108c8968",
            "b8dc38d6eb1749f6a09ccf2d09b28af4",
            "014a969d8dfc429c8b8fa5d12d70149a",
            "684c03111abc46a88f8d591b6313567c",
            "5235bbd39f604cc99681375b9edc2a29",
            "93bf7840bde144d0aeabaa3c863f246d",
            "a4cffd9ad3744deb973a36e2bd7e1199",
            "d776f56f7800493fbf4897e3b6d036df",
            "82e049fada514f789d151724d7822bb6",
            "d9bc4ecc20d14f3887dfc7df84838b65",
            "0d44335343ee402e8421c85b6f0e252a",
            "3b3b468a803f470998fb52b6b05c6a12",
            "8c8ec3d01b654838b5e1a6fb7b5aaab6",
            "2e231126949c47b286ed9972be314efc",
            "0cba4ed5642b4665a60f59ddfeb41546",
            "aad345b7931646d3befe17e31fec5ebd",
            "6369b95d430a455b995935242a7c2cb2",
            "5093c89150da4a89b6dc00f08f80b8ed",
            "9696f070f58c46d293fb1e3a79355d9b",
            "f1da97901a4b48e2aead7f706da1eca7",
            "6c64c4c5358047d29253509fb2262a75",
            "0cf2d6ee6a8543efb59680a5addaf48e",
            "8a68beb646554dfeac81951e7beddc80",
            "d2234ac02abd4c9d9d77de042cac7516",
            "6951e6e5a58348d8807cee512794852d",
            "398efe8f0e3b4f4e904cd628f8e197a8",
            "c8c2a69373894931b25b83dd999696ae",
            "28bb60f35e1541bfbd08cef21a720057",
            "45894301e0424422a5b96c869cbb96f2",
            "bd59156c98854dabb7a51aa38268d026",
            "36f5612d7973462d8c01e3ce05cc8a7a",
            "508a06c331b243d694f2409b925fc0c6",
            "5ec512e0d632464fb129087cef674c3d",
            "61dc9fe91e6a40bcabe99b86001428b4",
            "9d8a0db02b2b40b4911be51689e0ea36",
            "2d11f97ef31a4e628195ef5f6fe3af25",
            "d7b3fa90ce2349ac919f8dc793f509b3",
            "07fddec807014cf597ede4d216c7d890",
            "1a62846340ee493793ca74572a879c8c",
            "11c90c24935d4ffca0ca8e097d3bd8fb",
            "e4477d53ca4b428294e41aa3c7cc125b",
            "fefc3a193b8c459f9cfc1ee3ba60f91a",
            "983cc80430174ee08ff35065e8b5354e",
            "c28c759c912d48bd817c0de3601231b1",
            "1a69610b196a4ed7aa706314c4b7eb8a",
            "7bb95ef7fe384ca282fa80fba819dbf3",
            "4f3f3ada0d2b4994bb035780e0da4beb",
            "749c75d6b0d24fe3a16ea074306a41b6",
            "6a9ca73fb19d4736bfa9306575d4f380",
            "486917e46e824d9ead63fc4c44022498",
            "8e6341f337ea4126a3cc2c32ec4379f7",
            "a89f035e1a6841c79c89c695f8f35bb5",
            "a37c1dc869eb4a658abbafb66410f061",
            "6dda665e71e24ef8ac128dc295875c5f",
            "102d9112749f47de9c738e622ed9f1b7",
            "e0e9650ee0424835b7d50f121dc39528",
            "d86296a16aa54361b409e5372e29cca6",
            "440a01e9a98f43738c3ed0fa043b5cbb",
            "0fc8ae05159b4445b256372e6b6efb0f",
            "8135193660274a17b2a02b5c3e560172",
            "b78b31ac24e340a59d0982005912048a",
            "1241e37a3d0f4bee817dbf993bbcaa01",
            "9c96ba9819e545a38bd7f3d698626181",
            "fefc7afefd8a4997bcb8d7bf645bbef0",
            "ee453dc499d94d6b8d9e652cb2468f73",
            "7b8d8d4a6a524978963e534c1a9ee953",
            "6af3c37cae6a4a71a2ccbdffa67bf5d7",
            "7898923bfe9b40df8f0f5faffc0f37f8",
            "361ae77a856e424d8b2629a7e549ac3c",
            "4322b8a6330543758eeb3177d19b380b",
            "22deb53beb5e451199ccfee391d58341",
            "9585eea4d00f478aa460fda6682778ca",
            "8504f001abb744a1bf3196dcac0e6283",
            "4411608c400f4b648cc03318359c6334"
          ]
        },
        "id": "njmObzLt__Ai",
        "outputId": "e3781f67-ddaa-4146-ba4d-d1de2d633516"
      },
      "source": [
        "reader = FARMReader(model_name_or_path=\"deepset/roberta-base-squad2\", use_gpu=True)\n",
        "custom_reader = FARMReader(model_name_or_path=\"Teepika/roberta-base-squad2-finetuned-selqa\", use_gpu=True)"
      ],
      "execution_count": null,
      "outputs": [
        {
          "output_type": "stream",
          "name": "stderr",
          "text": [
            "INFO - haystack.modeling.utils -  Using devices: CUDA\n",
            "INFO - haystack.modeling.utils -  Number of GPUs: 1\n",
            "INFO - haystack.modeling.model.language_model -  LOADING MODEL\n",
            "INFO - haystack.modeling.model.language_model -  =============\n",
            "INFO - haystack.modeling.model.language_model -  Could not find deepset/roberta-base-squad2 locally.\n",
            "INFO - haystack.modeling.model.language_model -  Looking on Transformers Model Hub (in local cache and online)...\n",
            "INFO - haystack.modeling.model.language_model -  Loaded deepset/roberta-base-squad2\n",
            "INFO - haystack.modeling.logger -  ML Logging is turned off. No parameters, metrics or artifacts will be logged to MLFlow.\n",
            "INFO - haystack.modeling.utils -  Using devices: CUDA\n",
            "INFO - haystack.modeling.utils -  Number of GPUs: 1\n",
            "INFO - haystack.modeling.infer -  Got ya 2 parallel workers to do inference ...\n",
            "INFO - haystack.modeling.infer -   0    0 \n",
            "INFO - haystack.modeling.infer -  /w\\  /w\\\n",
            "INFO - haystack.modeling.infer -  /'\\  / \\\n",
            "INFO - haystack.modeling.utils -  Using devices: CUDA\n",
            "INFO - haystack.modeling.utils -  Number of GPUs: 1\n",
            "INFO - haystack.modeling.model.language_model -  LOADING MODEL\n",
            "INFO - haystack.modeling.model.language_model -  =============\n",
            "INFO - haystack.modeling.model.language_model -  Could not find Teepika/roberta-base-squad2-finetuned-selqa locally.\n",
            "INFO - haystack.modeling.model.language_model -  Looking on Transformers Model Hub (in local cache and online)...\n"
          ]
        },
        {
          "output_type": "display_data",
          "data": {
            "application/vnd.jupyter.widget-view+json": {
              "model_id": "fe2dc109c4814b058f1bab79ea1fd9a3",
              "version_minor": 0,
              "version_major": 2
            },
            "text/plain": [
              "Downloading:   0%|          | 0.00/795 [00:00<?, ?B/s]"
            ]
          },
          "metadata": {}
        },
        {
          "output_type": "display_data",
          "data": {
            "application/vnd.jupyter.widget-view+json": {
              "model_id": "82e049fada514f789d151724d7822bb6",
              "version_minor": 0,
              "version_major": 2
            },
            "text/plain": [
              "Downloading:   0%|          | 0.00/496M [00:00<?, ?B/s]"
            ]
          },
          "metadata": {}
        },
        {
          "output_type": "stream",
          "name": "stderr",
          "text": [
            "INFO - haystack.modeling.model.language_model -  Loaded Teepika/roberta-base-squad2-finetuned-selqa\n"
          ]
        },
        {
          "output_type": "display_data",
          "data": {
            "application/vnd.jupyter.widget-view+json": {
              "model_id": "f1da97901a4b48e2aead7f706da1eca7",
              "version_minor": 0,
              "version_major": 2
            },
            "text/plain": [
              "Downloading:   0%|          | 0.00/798k [00:00<?, ?B/s]"
            ]
          },
          "metadata": {}
        },
        {
          "output_type": "display_data",
          "data": {
            "application/vnd.jupyter.widget-view+json": {
              "model_id": "36f5612d7973462d8c01e3ce05cc8a7a",
              "version_minor": 0,
              "version_major": 2
            },
            "text/plain": [
              "Downloading:   0%|          | 0.00/456k [00:00<?, ?B/s]"
            ]
          },
          "metadata": {}
        },
        {
          "output_type": "display_data",
          "data": {
            "application/vnd.jupyter.widget-view+json": {
              "model_id": "fefc3a193b8c459f9cfc1ee3ba60f91a",
              "version_minor": 0,
              "version_major": 2
            },
            "text/plain": [
              "Downloading:   0%|          | 0.00/1.36M [00:00<?, ?B/s]"
            ]
          },
          "metadata": {}
        },
        {
          "output_type": "display_data",
          "data": {
            "application/vnd.jupyter.widget-view+json": {
              "model_id": "a37c1dc869eb4a658abbafb66410f061",
              "version_minor": 0,
              "version_major": 2
            },
            "text/plain": [
              "Downloading:   0%|          | 0.00/772 [00:00<?, ?B/s]"
            ]
          },
          "metadata": {}
        },
        {
          "output_type": "display_data",
          "data": {
            "application/vnd.jupyter.widget-view+json": {
              "model_id": "fefc7afefd8a4997bcb8d7bf645bbef0",
              "version_minor": 0,
              "version_major": 2
            },
            "text/plain": [
              "Downloading:   0%|          | 0.00/1.35k [00:00<?, ?B/s]"
            ]
          },
          "metadata": {}
        },
        {
          "output_type": "stream",
          "name": "stderr",
          "text": [
            "INFO - haystack.modeling.logger -  ML Logging is turned off. No parameters, metrics or artifacts will be logged to MLFlow.\n",
            "INFO - haystack.modeling.utils -  Using devices: CUDA\n",
            "INFO - haystack.modeling.utils -  Number of GPUs: 1\n",
            "INFO - haystack.modeling.infer -  Got ya 2 parallel workers to do inference ...\n",
            "INFO - haystack.modeling.infer -   0    0 \n",
            "INFO - haystack.modeling.infer -  /w\\  /w\\\n",
            "INFO - haystack.modeling.infer -  /'\\  / \\\n"
          ]
        }
      ]
    },
    {
      "cell_type": "code",
      "source": [
        "from haystack.pipelines import ExtractiveQAPipeline\n",
        "pipe = ExtractiveQAPipeline(reader, retriever)\n",
        "custom_pipe = ExtractiveQAPipeline(custom_reader, retriever)"
      ],
      "metadata": {
        "id": "lsVhgSq3Nzm9"
      },
      "execution_count": null,
      "outputs": []
    },
    {
      "cell_type": "code",
      "metadata": {
        "id": "mu0jzNbRBFi2",
        "colab": {
          "base_uri": "https://localhost:8080/"
        },
        "outputId": "be66c376-dc57-49f4-a760-e84996049ce0"
      },
      "source": [
        "prediction = pipe.run(\n",
        "    query=\"Who is the father of Arya Stark?\", params={\"Retriever\": {\"top_k\": 10}, \"Reader\": {\"top_k\": 5}}\n",
        ")\n",
        "custom_prediction = custom_pipe.run(\n",
        "    query=\"Who is the father of Arya Stark?\", params={\"Retriever\": {\"top_k\": 10}, \"Reader\": {\"top_k\": 5}}\n",
        ")"
      ],
      "execution_count": null,
      "outputs": [
        {
          "output_type": "stream",
          "name": "stderr",
          "text": [
            "Inferencing Samples:   0%|          | 0/1 [00:00<?, ? Batches/s]/usr/local/lib/python3.7/dist-packages/haystack/modeling/model/prediction_head.py:462: UserWarning: __floordiv__ is deprecated, and its behavior will change in a future version of pytorch. It currently rounds toward 0 (like the 'trunc' function NOT 'floor'). This results in incorrect rounding for negative values. To keep the current behavior, use torch.div(a, b, rounding_mode='trunc'), or for actual floor division, use torch.div(a, b, rounding_mode='floor').\n",
            "  start_indices = flat_sorted_indices // max_seq_len\n",
            "Inferencing Samples: 100%|██████████| 1/1 [00:00<00:00,  5.89 Batches/s]\n",
            "Inferencing Samples: 100%|██████████| 1/1 [00:00<00:00,  3.73 Batches/s]\n",
            "Inferencing Samples: 100%|██████████| 1/1 [00:00<00:00,  6.24 Batches/s]\n",
            "Inferencing Samples: 100%|██████████| 1/1 [00:00<00:00,  5.52 Batches/s]\n",
            "Inferencing Samples: 100%|██████████| 1/1 [00:00<00:00, 10.71 Batches/s]\n",
            "Inferencing Samples: 100%|██████████| 1/1 [00:00<00:00, 11.88 Batches/s]\n",
            "Inferencing Samples: 100%|██████████| 1/1 [00:00<00:00, 12.53 Batches/s]\n",
            "Inferencing Samples: 100%|██████████| 1/1 [00:00<00:00,  8.15 Batches/s]\n",
            "Inferencing Samples: 100%|██████████| 1/1 [00:00<00:00, 20.49 Batches/s]\n",
            "Inferencing Samples: 100%|██████████| 1/1 [00:00<00:00, 21.49 Batches/s]\n",
            "Inferencing Samples:   0%|          | 0/1 [00:00<?, ? Batches/s]/usr/local/lib/python3.7/dist-packages/haystack/modeling/model/prediction_head.py:462: UserWarning: __floordiv__ is deprecated, and its behavior will change in a future version of pytorch. It currently rounds toward 0 (like the 'trunc' function NOT 'floor'). This results in incorrect rounding for negative values. To keep the current behavior, use torch.div(a, b, rounding_mode='trunc'), or for actual floor division, use torch.div(a, b, rounding_mode='floor').\n",
            "  start_indices = flat_sorted_indices // max_seq_len\n",
            "Inferencing Samples: 100%|██████████| 1/1 [00:00<00:00, 19.17 Batches/s]\n",
            "Inferencing Samples: 100%|██████████| 1/1 [00:00<00:00,  3.12 Batches/s]\n",
            "Inferencing Samples: 100%|██████████| 1/1 [00:00<00:00, 15.79 Batches/s]\n",
            "Inferencing Samples: 100%|██████████| 1/1 [00:00<00:00,  9.29 Batches/s]\n",
            "Inferencing Samples: 100%|██████████| 1/1 [00:00<00:00, 14.35 Batches/s]\n",
            "Inferencing Samples: 100%|██████████| 1/1 [00:00<00:00, 13.62 Batches/s]\n",
            "Inferencing Samples: 100%|██████████| 1/1 [00:00<00:00, 15.44 Batches/s]\n",
            "Inferencing Samples: 100%|██████████| 1/1 [00:00<00:00,  9.43 Batches/s]\n",
            "Inferencing Samples: 100%|██████████| 1/1 [00:00<00:00, 21.34 Batches/s]\n",
            "Inferencing Samples: 100%|██████████| 1/1 [00:00<00:00, 18.84 Batches/s]\n"
          ]
        }
      ]
    },
    {
      "cell_type": "code",
      "metadata": {
        "colab": {
          "base_uri": "https://localhost:8080/"
        },
        "id": "7l3btbBbBOli",
        "outputId": "424023c4-962a-4ee2-b2b2-5f46ac076fba"
      },
      "source": [
        "# Now you can either print the object directly...\n",
        "from pprint import pprint\n",
        "\n",
        "print(\"DISTILLBERT\")\n",
        "pprint(prediction)\n",
        "print(\"ROBERTA-SELQA\")\n",
        "pprint(custom_prediction)"
      ],
      "execution_count": null,
      "outputs": [
        {
          "output_type": "stream",
          "name": "stdout",
          "text": [
            "DISTILLBERT\n",
            "{'answers': [<Answer {'answer': 'Eddard', 'type': 'extractive', 'score': 0.9919579923152924, 'context': \"s Nymeria after a legendary warrior queen. She travels with her father, Eddard, to King's Landing when he is made Hand of the King. Before she leaves,\", 'offsets_in_document': [{'start': 147, 'end': 153}], 'offsets_in_context': [{'start': 72, 'end': 78}], 'document_id': 'ba2a8e87ddd95e380bec55983ee7d55f', 'meta': {'name': '43_Arya_Stark.txt'}}>,\n",
            "             <Answer {'answer': 'Ned', 'type': 'extractive', 'score': 0.9767242670059204, 'context': \"\\n====Season 1====\\nArya accompanies her father Ned and her sister Sansa to King's Landing. Before their departure, Arya's half-brother Jon Snow gifts A\", 'offsets_in_document': [{'start': 46, 'end': 49}], 'offsets_in_context': [{'start': 46, 'end': 49}], 'document_id': '180c2a6b36369712b361a80842e79356', 'meta': {'name': '43_Arya_Stark.txt'}}>,\n",
            "             <Answer {'answer': 'Robert Baratheon', 'type': 'extractive', 'score': 0.9408852756023407, 'context': 'hen Gendry gives it to Arya, he tells her he is the bastard son of Robert Baratheon. Aware of their chances of dying in the upcoming battle and Arya w', 'offsets_in_document': [{'start': 358, 'end': 374}], 'offsets_in_context': [{'start': 67, 'end': 83}], 'document_id': '7170114dfceb7ede0002a57d1df96505', 'meta': {'name': '43_Arya_Stark.txt'}}>,\n",
            "             <Answer {'answer': 'Eddard and Catelyn Stark', 'type': 'extractive', 'score': 0.9058838188648224, 'context': \"tark ===\\nArya Stark is the third child and younger daughter of Eddard and Catelyn Stark. She serves as a POV character for 33 chapters throughout ''A \", 'offsets_in_document': [{'start': 74, 'end': 98}], 'offsets_in_context': [{'start': 63, 'end': 87}], 'document_id': '965789c741c68963042e85b6e7b89757', 'meta': {'name': '30_List_of_A_Song_of_Ice_and_Fire_characters.txt'}}>,\n",
            "             <Answer {'answer': 'Lord Eddard Stark', 'type': 'extractive', 'score': 0.8930398523807526, 'context': 'ark daughters.\\nDuring the Tourney of the Hand to honour her father Lord Eddard Stark, Sansa Stark is enchanted by the knights performing in the event.', 'offsets_in_document': [{'start': 659, 'end': 676}], 'offsets_in_context': [{'start': 67, 'end': 84}], 'document_id': 'd1f36ec7170e4c46cde65787fe125dfe', 'meta': {'name': '332_Sansa_Stark.txt'}}>],\n",
            " 'documents': [<Document: {'content': \"\\n===Arya Stark===\\n'''Arya Stark''' portrayed by Maisie Williams. Arya Stark of House Stark is the younger daughter and third child of Lord Eddard and Catelyn Stark of Winterfell. Ever the tomboy, Arya would rather be training to use weapons than sewing with a needle. She names her direwolf Nymeria, after a legendary warrior queen.\", 'content_type': 'text', 'score': None, 'meta': {'name': '349_List_of_Game_of_Thrones_characters.txt'}, 'embedding': None, 'id': '623e446a1b048d81130a29e262152cd5'}>,\n",
            "               <Document: {'content': \"\\n====Season 8====\\nArya reunites with Jon, Gendry, and the Hound, who have all journeyed to Winterfell with Daenerys Targaryen's forces to make a stand against the approaching White Walkers. Arya asks Gendry, who is forging dragonglass into weapons, to make her a special dragonglass staff. When Gendry gives it to Arya, he tells her he is the bastard son of Robert Baratheon. Aware of their chances of dying in the upcoming battle and Arya wanting to experience sex, Arya and Gendry sleep together. Later that night, Arya hears the signal alerting her that the White Walkers' army has arrived.\\nArya fights in the battle against the dead with Sandor Clegane and Beric Dondarrion. Beric sacrifices himself to allow Arya and the Hound to escape the wights. A battered Arya sprints through the corridors of Winterfell and encounters Melisandre, who suggests to Arya that she is meant to kill the Night King. In the Godswood, just as the Night King is about to kill Bran, Arya sneaks up and stabs the Night King with the Valyrian steel dagger Bran gave her. Upon killing the Night King, the White Walkers and wights are all destroyed. \\nIn the aftermath of the battle, Arya is proposed to by Gendry, who had just been legitimised as a Baratheon by Daenerys. Arya declines, as she does not want the life of a lady. Sansa and Arya tell Jon they don't trust Daenerys, but Jon defends her. Arya learns that Jon is the son of her aunt, Lyanna Stark, and Rhaegar Targaryen after Jon swears her and Sansa to secrecy about his true parentage.\\nArya journeys south to King's Landing with the Hound to kill Cersei. The two infiltrate the Red Keep with the civilians Cersei is using to deter Daenerys' attack. Despite the city's surrender to Daenerys, she begins laying waste to the populace atop of Drogon. In his mission for revenge against his brother, the Mountain, the Hound seeks out the Mountain but urges Arya to leave and give up her quest for revenge to avoid a life consumed by it. Arya thanks the Hound, calling him by his name for the first time. She tries and fails to save the smallfolk, narrowly avoiding being incinerated in Daenerys' attack on the city, but survives. In the aftermath, Arya is reunited with Jon and warns him that he and the Starks are not safe from Daenerys. Jon tries but is unable to dissuade Daenerys from further destruction and ultimately assassinates her. He is imprisoned. Weeks later, Arya joins the other lords and ladies of Westeros in a council to decide who shall lead the Seven Kingdoms. Bran is chosen as king, though Arya abstains from voting as Sansa declares the North's independence. Arya, Sansa, and Bran bid Jon farewell as he is exiled. \\nArya reveals that she is leaving Westeros to see what lies west of the continent. She embarks on her voyage aboard a Stark ship.\", 'content_type': 'text', 'score': None, 'meta': {'name': '43_Arya_Stark.txt'}, 'embedding': None, 'id': '7170114dfceb7ede0002a57d1df96505'}>,\n",
            "               <Document: {'content': '\\n====Season 1====\\nArya accompanies her father Ned and her sister Sansa to King\\'s Landing. Before their departure, Arya\\'s half-brother Jon Snow gifts Arya a sword which she dubs \"Needle\". On the Kingsroad, Arya is sparring with a butcher\\'s boy, Mycah, when Sansa\\'s betrothed Prince Joffrey Baratheon attacks Mycah, prompting Arya\\'s direwolf Nymeria to bite Joffrey. Arya shoos Nymeria away so she is not killed, but is furious when Sansa later refuses to support her version of events. Mycah is later killed by Joffrey\\'s bodyguard Sandor \"The Hound\" Clegane, earning him Arya\\'s hatred. Ned arranges for Arya to have sword lessons with the Braavosi Syrio Forel, who later defends her from Ser Meryn Trant after Joffrey ascends to the throne and kills the Stark household. Arya flees the Red Keep, accidentally killing a stable boy in her escape, hiding out as a beggar in the streets of King\\'s Landing. Ned is eventually taken to the Great Sept of Baelor to face judgment; he spots Arya in the crowd, and alerts the Night\\'s Watch recruiter Yoren to her presence. Yoren prevents Arya from witnessing Ned\\'s execution and has her pose as a boy, \"Arry\", to avoid detection as she joins Yoren\\'s recruits traveling north to Castle Black.', 'content_type': 'text', 'score': None, 'meta': {'name': '43_Arya_Stark.txt'}, 'embedding': None, 'id': '180c2a6b36369712b361a80842e79356'}>,\n",
            "               <Document: {'content': '\\n===\\'\\'A Game of Thrones\\'\\'===\\nSansa Stark begins the novel by being betrothed to Crown Prince Joffrey Baratheon, believing Joffrey to be a gallant prince. While Joffrey and Sansa are walking through the woods, Joffrey notices Arya sparring with the butcher\\'s boy, Mycah. A fight breaks out and Joffrey is attacked by Nymeria (Arya\\'s direwolf) after Joffrey threatens to hurt Arya. Sansa lies to King Robert about the circumstances of the fight in order to protect both Joffrey and her sister Arya.  Since Arya ran off with her wolf to save it, Sansa\\'s wolf is killed instead, estranging the Stark daughters.\\nDuring the Tourney of the Hand to honour her father Lord Eddard Stark, Sansa Stark is enchanted by the knights performing in the event.  At the request of his mother, Queen Cersei Lannister, Joffrey spends a portion of the tourney with Sansa, but near the end he commands his guard Sandor Clegane, better known as The Hound, to take her back to her quarters. Sandor explains how his older brother, Gregor, aka \"Mountain that Rides\" pushed his face into a brazier of hot coals, for playing with one of his wooden toys.\\nAfter Eddard discovers the truth of Joffrey\\'s paternity, he tells Sansa that they will be heading back to Winterfell. Sansa is devastated and wishes to stay in King\\'s Landing, so she runs off to inform Queen Cersei of her father\\'s plans, unwittingly providing Cersei with the information needed to arrest her father. After Robert dies, Sansa begs Joffrey to show mercy on her father and he agrees, if Ned will swear an oath of loyalty, but executes him anyway, in front of Sansa.  Sansa is now effectively a hostage in King\\'s Landing and finally sees Joffrey\\'s true nature, after he forces her to look at the tarred head of her now-deceased father.', 'content_type': 'text', 'score': None, 'meta': {'name': '332_Sansa_Stark.txt'}, 'embedding': None, 'id': 'd1f36ec7170e4c46cde65787fe125dfe'}>,\n",
            "               <Document: {'content': '\\n===In Braavos===\\nLady Crane returns to her chambers to find a wounded Arya hiding inside, and helps stitch her wounds. She tells Arya that, thanks to her warning, she mutilated her would-be killer Bianca\\'s face before kicking her out of the acting company. She then offers to have Arya join them, but she refuses, saying that she intends to travel west of Westeros to see the edge of the world. As Arya recovers, the Waif arrives and kills Lady Crane, intending to kill Arya as well. Arya flees through the streets of Braavos, but during the chase, Arya\\'s wounds reopen and she limps back to her hideout with the Waif in pursuit. As the Waif closes in, Arya extinguishes the candle lighting the room; having trained while blinded for several weeks, Arya has the upper hand.\\nAt the House of Black and White, Jaqen follows a bloodtrail to the Hall of Faces, where he finds the Waif\\'s face before being held at sword-point by Arya. Jaqen congratulates Arya for finally becoming No One. However, she rejects the title, asserting her identity as Arya Stark before turning and leaving, announcing that she is \"going home.\" Jaqen proudly watches on as she leaves.', 'content_type': 'text', 'score': None, 'meta': {'name': '425_No_One__Game_of_Thrones_.txt'}, 'embedding': None, 'id': '4544f93ec64313e603729e14d0f75f47'}>,\n",
            "               <Document: {'content': \"\\n== Characters ==\\nThe tale is told through the eyes of 9 recurring POV characters plus one prologue POV character:\\n* Prologue: Maester Cressen, maester at Dragonstone\\n* Tyrion Lannister, youngest son of Lord Tywin Lannister, a dwarf and a brother to Queen Cersei, and the acting Hand of the King\\n* Lady Catelyn Stark, of House Tully, widow of Eddard Stark, Lord of Winterfell\\n* Ser Davos Seaworth, a smuggler turned knight in the service of King Stannis Baratheon, often called the Onion Knight\\n* Sansa Stark, eldest daughter of Eddard Stark and Catelyn Stark, held captive by Queen Cersei at King's Landing\\n* Arya Stark, youngest daughter of Eddard Stark and Catelyn Stark, missing and presumed dead\\n* Bran Stark, second son of Eddard Stark and Catelyn Stark and heir to Winterfell and the King in the North\\n* Jon Snow, bastard son of Eddard Stark, and a man of the Night's Watch\\n* Theon Greyjoy, heir to the Seastone Chair and former ward of Lord Eddard Stark\\n* Queen Daenerys Targaryen, the Unburnt and Mother of Dragons, of the Targaryen dynasty\", 'content_type': 'text', 'score': None, 'meta': {'name': '198_A_Clash_of_Kings.txt'}, 'embedding': None, 'id': '7d99e8285308088d31ce4fda71e01942'}>,\n",
            "               <Document: {'content': '\\n==== \\'\\'A Game of Thrones\\'\\' ====\\nArya adopts a direwolf cub, which she names Nymeria after a legendary warrior queen. She travels with her father, Eddard, to King\\'s Landing when he is made Hand of the King. Before she leaves, her half-brother Jon Snow has a smallsword made for her as a parting gift, which she names \"Needle\" after her least favorite ladylike activity.\\nWhile taking a walk together, Prince Joffrey and her sister Sansa happen upon Arya and her friend, the low-born butcher apprentice Mycah, sparring in the woods with broomsticks.  Arya defends Mycah from Joffrey\\'s torments and her direwolf Nymeria helps Arya fight off Joffrey, wounding his arm in the process.  Knowing that Nymeria will likely be killed in retribution, Arya chases her wolf away; but Sansa\\'s direwolf Lady is killed in Nymeria\\'s stead and Mycah is hunted down and killed by Sandor Clegane, Joffrey\\'s bodyguard.\\nIn King\\'s Landing, her father discovers Arya\\'s possession of Needle, but instead of confiscating it he arranges for fencing lessons under the Braavosi swordmaster Syrio Forel, who teaches her the style of fighting known as \"water dancing\".  After her father\\'s arrest, Syrio is killed protecting her and Arya narrowly escapes capture.  She later witnesses the public execution of her father before falling under the protection of the Night\\'s Watch recruiter Yoren.', 'content_type': 'text', 'score': None, 'meta': {'name': '43_Arya_Stark.txt'}, 'embedding': None, 'id': 'ba2a8e87ddd95e380bec55983ee7d55f'}>,\n",
            "               <Document: {'content': \"\\n====Season 7====\\nTaking the face of Walder Frey, Arya gathers the men of House Frey for a feast before killing them all with poisoned wine. Arya then journeys south, intending to travel to King's Landing to assassinate Cersei (now Queen of the Seven Kingdoms following the extinction of House Baratheon). However, Arya changes her mind after learning from Hot Pie that Jon has ousted House Bolton from Winterfell and has been crowned King in the North, and decides to return to her ancestral home. Along the way she encounters a wolf pack led by her long-lost direwolf Nymeria. Nymeria recognizes Arya, but she has grown feral and ignores Arya when she asks her to come North with her.\\nArriving at Winterfell, Arya finds that Jon has traveled to Dragonstone but is reunited with Sansa and Bran. Bran reveals his knowledge of Arya's kill list through greenseeing and presents her with a Valyrian steel dagger, which had been given to him by Littlefinger. Arya is also reunited with Brienne, who continues to serve the Starks, and manages to equal the female warrior during sparring despite her smaller size.\\nLittlefinger seeks to increase his influence on Sansa by driving a wedge between the Stark sisters. To this end, he allows Arya to witness him receiving a confidential message obtained from Maester Luwin's records. Arya breaks into Littlefinger's quarters to steal the message, which is a plea sent by Sansa following Ned's imprisonment to Robb imploring him to bend the knee to Joffrey. Outraged, Arya confronts Sansa and is unconvinced by her explanation that she did so to try and save Ned's life. Later, Arya catches Sansa looking at her collection of faces and threatens Sansa before leaving. Some time later, Sansa summons Arya to the great hall and begins an accusation of treason and murder; however, the accusation is directed towards Littlefinger, whose crimes have been discovered by Bran's greenseeing. Despite Littlefinger's pleas for mercy, Sansa sentences Littlefinger to death and Arya cuts his throat with the Valyrian steel dagger. The Stark sisters later resolve their differences, and acknowledge that the Starks must stay together to survive winter.\", 'content_type': 'text', 'score': None, 'meta': {'name': '43_Arya_Stark.txt'}, 'embedding': None, 'id': '258fc5f9015663050b4c78d5b47d14fa'}>,\n",
            "               <Document: {'content': \"\\n=== Arya Stark ===\\nArya Stark is the third child and younger daughter of Eddard and Catelyn Stark. She serves as a POV character for 33 chapters throughout ''A Game of Thrones'', ''A Clash of Kings'', ''A Storm of Swords'', ''A Feast for Crows'', and ''A Dance with Dragons''. So far she is the only character to appear in all 5 books as a POV character.\\nIn the HBO television adaptation, she is portrayed by Maisie Williams.\", 'content_type': 'text', 'score': None, 'meta': {'name': '30_List_of_A_Song_of_Ice_and_Fire_characters.txt'}, 'embedding': None, 'id': '965789c741c68963042e85b6e7b89757'}>,\n",
            "               <Document: {'content': '\\n===On the Kingsroad===\\nCity Watchmen search the caravan for Gendry but are turned away by Yoren. Gendry tells Arya Stark that he knows she is a girl, and she reveals she is actually Arya Stark after learning that her father met Gendry before he was executed.', 'content_type': 'text', 'score': None, 'meta': {'name': '224_The_Night_Lands.txt'}, 'embedding': None, 'id': 'a4d2cc51d351b785c6effddd3345bb39'}>],\n",
            " 'no_ans_gap': 11.688879489898682,\n",
            " 'node_id': 'Reader',\n",
            " 'params': {'Reader': {'top_k': 5}, 'Retriever': {'top_k': 10}},\n",
            " 'query': 'Who is the father of Arya Stark?',\n",
            " 'root_node': 'Query'}\n",
            "ROBERTA-SELQA\n",
            "{'answers': [<Answer {'answer': 'During the Tourney of the Hand to honour her father Lord Eddard Stark, Sansa Stark is enchanted by the knights performing in the event.', 'type': 'extractive', 'score': 0.8014524579048157, 'context': 'ghters.\\nDuring the Tourney of the Hand to honour her father Lord Eddard Stark, Sansa Stark is enchanted by the knights performing in the event.  At th', 'offsets_in_document': [{'start': 607, 'end': 742}], 'offsets_in_context': [{'start': 8, 'end': 143}], 'document_id': 'd1f36ec7170e4c46cde65787fe125dfe', 'meta': {'name': '332_Sansa_Stark.txt'}}>,\n",
            "             <Answer {'answer': \"Season 8====\\nArya reunites with Jon, Gendry, and the Hound, who have all journeyed to Winterfell with Daenerys Targaryen's forces to make a stand against the approaching White Walkers. Arya asks Gendry, who is forging dragonglass into weapons, to make her a special dragonglass staff. When Gendry gives it to Arya, he tells her he is the bastard son of Robert Baratheon.\", 'type': 'extractive', 'score': 0.6877964735031128, 'context': \"Season 8====\\nArya reunites with Jon, Gendry, and the Hound, who have all journeyed to Winterfell with Daenerys Targaryen's forces to make a stand against the approaching White Walkers. Arya asks Gendry, who is forging dragonglass into weapons, to make her a special dragonglass staff. When Gendry gives it to Arya, he tells her he is the bastard son of Robert Baratheon.\", 'offsets_in_document': [{'start': 5, 'end': 375}], 'offsets_in_context': [{'start': 0, 'end': 370}], 'document_id': '7170114dfceb7ede0002a57d1df96505', 'meta': {'name': '43_Arya_Stark.txt'}}>,\n",
            "             <Answer {'answer': '* Bran Stark, second son of Eddard Stark and Catelyn Stark and heir to Winterfell and the King in the North', 'type': 'extractive', 'score': 0.682336300611496, 'context': 'ing and presumed dead\\n* Bran Stark, second son of Eddard Stark and Catelyn Stark and heir to Winterfell and the King in the North\\n* Jon Snow, bastard ', 'offsets_in_document': [{'start': 701, 'end': 808}], 'offsets_in_context': [{'start': 22, 'end': 129}], 'document_id': '7d99e8285308088d31ce4fda71e01942', 'meta': {'name': '198_A_Clash_of_Kings.txt'}}>,\n",
            "             <Answer {'answer': 'Arya Stark is the third child and younger daughter of Eddard and Catelyn Stark.', 'type': 'extractive', 'score': 0.5395171418786049, 'context': '\\n=== Arya Stark ===\\nArya Stark is the third child and younger daughter of Eddard and Catelyn Stark. She serves as a POV character for 33 chapters thro', 'offsets_in_document': [{'start': 20, 'end': 99}], 'offsets_in_context': [{'start': 20, 'end': 99}], 'document_id': '965789c741c68963042e85b6e7b89757', 'meta': {'name': '30_List_of_A_Song_of_Ice_and_Fire_characters.txt'}}>,\n",
            "             <Answer {'answer': 'Arya accompanies her father Ned and her sister Sansa to King\\'s Landing. Before their departure, Arya\\'s half-brother Jon Snow gifts Arya a sword which she dubs \"Needle\".', 'type': 'extractive', 'score': 0.5026616677641869, 'context': 'Arya accompanies her father Ned and her sister Sansa to King\\'s Landing. Before their departure, Arya\\'s half-brother Jon Snow gifts Arya a sword which she dubs \"Needle\".', 'offsets_in_document': [{'start': 18, 'end': 186}], 'offsets_in_context': [{'start': 0, 'end': 168}], 'document_id': '180c2a6b36369712b361a80842e79356', 'meta': {'name': '43_Arya_Stark.txt'}}>],\n",
            " 'documents': [<Document: {'content': \"\\n===Arya Stark===\\n'''Arya Stark''' portrayed by Maisie Williams. Arya Stark of House Stark is the younger daughter and third child of Lord Eddard and Catelyn Stark of Winterfell. Ever the tomboy, Arya would rather be training to use weapons than sewing with a needle. She names her direwolf Nymeria, after a legendary warrior queen.\", 'content_type': 'text', 'score': None, 'meta': {'name': '349_List_of_Game_of_Thrones_characters.txt'}, 'embedding': None, 'id': '623e446a1b048d81130a29e262152cd5'}>,\n",
            "               <Document: {'content': \"\\n====Season 8====\\nArya reunites with Jon, Gendry, and the Hound, who have all journeyed to Winterfell with Daenerys Targaryen's forces to make a stand against the approaching White Walkers. Arya asks Gendry, who is forging dragonglass into weapons, to make her a special dragonglass staff. When Gendry gives it to Arya, he tells her he is the bastard son of Robert Baratheon. Aware of their chances of dying in the upcoming battle and Arya wanting to experience sex, Arya and Gendry sleep together. Later that night, Arya hears the signal alerting her that the White Walkers' army has arrived.\\nArya fights in the battle against the dead with Sandor Clegane and Beric Dondarrion. Beric sacrifices himself to allow Arya and the Hound to escape the wights. A battered Arya sprints through the corridors of Winterfell and encounters Melisandre, who suggests to Arya that she is meant to kill the Night King. In the Godswood, just as the Night King is about to kill Bran, Arya sneaks up and stabs the Night King with the Valyrian steel dagger Bran gave her. Upon killing the Night King, the White Walkers and wights are all destroyed. \\nIn the aftermath of the battle, Arya is proposed to by Gendry, who had just been legitimised as a Baratheon by Daenerys. Arya declines, as she does not want the life of a lady. Sansa and Arya tell Jon they don't trust Daenerys, but Jon defends her. Arya learns that Jon is the son of her aunt, Lyanna Stark, and Rhaegar Targaryen after Jon swears her and Sansa to secrecy about his true parentage.\\nArya journeys south to King's Landing with the Hound to kill Cersei. The two infiltrate the Red Keep with the civilians Cersei is using to deter Daenerys' attack. Despite the city's surrender to Daenerys, she begins laying waste to the populace atop of Drogon. In his mission for revenge against his brother, the Mountain, the Hound seeks out the Mountain but urges Arya to leave and give up her quest for revenge to avoid a life consumed by it. Arya thanks the Hound, calling him by his name for the first time. She tries and fails to save the smallfolk, narrowly avoiding being incinerated in Daenerys' attack on the city, but survives. In the aftermath, Arya is reunited with Jon and warns him that he and the Starks are not safe from Daenerys. Jon tries but is unable to dissuade Daenerys from further destruction and ultimately assassinates her. He is imprisoned. Weeks later, Arya joins the other lords and ladies of Westeros in a council to decide who shall lead the Seven Kingdoms. Bran is chosen as king, though Arya abstains from voting as Sansa declares the North's independence. Arya, Sansa, and Bran bid Jon farewell as he is exiled. \\nArya reveals that she is leaving Westeros to see what lies west of the continent. She embarks on her voyage aboard a Stark ship.\", 'content_type': 'text', 'score': None, 'meta': {'name': '43_Arya_Stark.txt'}, 'embedding': None, 'id': '7170114dfceb7ede0002a57d1df96505'}>,\n",
            "               <Document: {'content': '\\n====Season 1====\\nArya accompanies her father Ned and her sister Sansa to King\\'s Landing. Before their departure, Arya\\'s half-brother Jon Snow gifts Arya a sword which she dubs \"Needle\". On the Kingsroad, Arya is sparring with a butcher\\'s boy, Mycah, when Sansa\\'s betrothed Prince Joffrey Baratheon attacks Mycah, prompting Arya\\'s direwolf Nymeria to bite Joffrey. Arya shoos Nymeria away so she is not killed, but is furious when Sansa later refuses to support her version of events. Mycah is later killed by Joffrey\\'s bodyguard Sandor \"The Hound\" Clegane, earning him Arya\\'s hatred. Ned arranges for Arya to have sword lessons with the Braavosi Syrio Forel, who later defends her from Ser Meryn Trant after Joffrey ascends to the throne and kills the Stark household. Arya flees the Red Keep, accidentally killing a stable boy in her escape, hiding out as a beggar in the streets of King\\'s Landing. Ned is eventually taken to the Great Sept of Baelor to face judgment; he spots Arya in the crowd, and alerts the Night\\'s Watch recruiter Yoren to her presence. Yoren prevents Arya from witnessing Ned\\'s execution and has her pose as a boy, \"Arry\", to avoid detection as she joins Yoren\\'s recruits traveling north to Castle Black.', 'content_type': 'text', 'score': None, 'meta': {'name': '43_Arya_Stark.txt'}, 'embedding': None, 'id': '180c2a6b36369712b361a80842e79356'}>,\n",
            "               <Document: {'content': '\\n===\\'\\'A Game of Thrones\\'\\'===\\nSansa Stark begins the novel by being betrothed to Crown Prince Joffrey Baratheon, believing Joffrey to be a gallant prince. While Joffrey and Sansa are walking through the woods, Joffrey notices Arya sparring with the butcher\\'s boy, Mycah. A fight breaks out and Joffrey is attacked by Nymeria (Arya\\'s direwolf) after Joffrey threatens to hurt Arya. Sansa lies to King Robert about the circumstances of the fight in order to protect both Joffrey and her sister Arya.  Since Arya ran off with her wolf to save it, Sansa\\'s wolf is killed instead, estranging the Stark daughters.\\nDuring the Tourney of the Hand to honour her father Lord Eddard Stark, Sansa Stark is enchanted by the knights performing in the event.  At the request of his mother, Queen Cersei Lannister, Joffrey spends a portion of the tourney with Sansa, but near the end he commands his guard Sandor Clegane, better known as The Hound, to take her back to her quarters. Sandor explains how his older brother, Gregor, aka \"Mountain that Rides\" pushed his face into a brazier of hot coals, for playing with one of his wooden toys.\\nAfter Eddard discovers the truth of Joffrey\\'s paternity, he tells Sansa that they will be heading back to Winterfell. Sansa is devastated and wishes to stay in King\\'s Landing, so she runs off to inform Queen Cersei of her father\\'s plans, unwittingly providing Cersei with the information needed to arrest her father. After Robert dies, Sansa begs Joffrey to show mercy on her father and he agrees, if Ned will swear an oath of loyalty, but executes him anyway, in front of Sansa.  Sansa is now effectively a hostage in King\\'s Landing and finally sees Joffrey\\'s true nature, after he forces her to look at the tarred head of her now-deceased father.', 'content_type': 'text', 'score': None, 'meta': {'name': '332_Sansa_Stark.txt'}, 'embedding': None, 'id': 'd1f36ec7170e4c46cde65787fe125dfe'}>,\n",
            "               <Document: {'content': '\\n===In Braavos===\\nLady Crane returns to her chambers to find a wounded Arya hiding inside, and helps stitch her wounds. She tells Arya that, thanks to her warning, she mutilated her would-be killer Bianca\\'s face before kicking her out of the acting company. She then offers to have Arya join them, but she refuses, saying that she intends to travel west of Westeros to see the edge of the world. As Arya recovers, the Waif arrives and kills Lady Crane, intending to kill Arya as well. Arya flees through the streets of Braavos, but during the chase, Arya\\'s wounds reopen and she limps back to her hideout with the Waif in pursuit. As the Waif closes in, Arya extinguishes the candle lighting the room; having trained while blinded for several weeks, Arya has the upper hand.\\nAt the House of Black and White, Jaqen follows a bloodtrail to the Hall of Faces, where he finds the Waif\\'s face before being held at sword-point by Arya. Jaqen congratulates Arya for finally becoming No One. However, she rejects the title, asserting her identity as Arya Stark before turning and leaving, announcing that she is \"going home.\" Jaqen proudly watches on as she leaves.', 'content_type': 'text', 'score': None, 'meta': {'name': '425_No_One__Game_of_Thrones_.txt'}, 'embedding': None, 'id': '4544f93ec64313e603729e14d0f75f47'}>,\n",
            "               <Document: {'content': \"\\n== Characters ==\\nThe tale is told through the eyes of 9 recurring POV characters plus one prologue POV character:\\n* Prologue: Maester Cressen, maester at Dragonstone\\n* Tyrion Lannister, youngest son of Lord Tywin Lannister, a dwarf and a brother to Queen Cersei, and the acting Hand of the King\\n* Lady Catelyn Stark, of House Tully, widow of Eddard Stark, Lord of Winterfell\\n* Ser Davos Seaworth, a smuggler turned knight in the service of King Stannis Baratheon, often called the Onion Knight\\n* Sansa Stark, eldest daughter of Eddard Stark and Catelyn Stark, held captive by Queen Cersei at King's Landing\\n* Arya Stark, youngest daughter of Eddard Stark and Catelyn Stark, missing and presumed dead\\n* Bran Stark, second son of Eddard Stark and Catelyn Stark and heir to Winterfell and the King in the North\\n* Jon Snow, bastard son of Eddard Stark, and a man of the Night's Watch\\n* Theon Greyjoy, heir to the Seastone Chair and former ward of Lord Eddard Stark\\n* Queen Daenerys Targaryen, the Unburnt and Mother of Dragons, of the Targaryen dynasty\", 'content_type': 'text', 'score': None, 'meta': {'name': '198_A_Clash_of_Kings.txt'}, 'embedding': None, 'id': '7d99e8285308088d31ce4fda71e01942'}>,\n",
            "               <Document: {'content': '\\n==== \\'\\'A Game of Thrones\\'\\' ====\\nArya adopts a direwolf cub, which she names Nymeria after a legendary warrior queen. She travels with her father, Eddard, to King\\'s Landing when he is made Hand of the King. Before she leaves, her half-brother Jon Snow has a smallsword made for her as a parting gift, which she names \"Needle\" after her least favorite ladylike activity.\\nWhile taking a walk together, Prince Joffrey and her sister Sansa happen upon Arya and her friend, the low-born butcher apprentice Mycah, sparring in the woods with broomsticks.  Arya defends Mycah from Joffrey\\'s torments and her direwolf Nymeria helps Arya fight off Joffrey, wounding his arm in the process.  Knowing that Nymeria will likely be killed in retribution, Arya chases her wolf away; but Sansa\\'s direwolf Lady is killed in Nymeria\\'s stead and Mycah is hunted down and killed by Sandor Clegane, Joffrey\\'s bodyguard.\\nIn King\\'s Landing, her father discovers Arya\\'s possession of Needle, but instead of confiscating it he arranges for fencing lessons under the Braavosi swordmaster Syrio Forel, who teaches her the style of fighting known as \"water dancing\".  After her father\\'s arrest, Syrio is killed protecting her and Arya narrowly escapes capture.  She later witnesses the public execution of her father before falling under the protection of the Night\\'s Watch recruiter Yoren.', 'content_type': 'text', 'score': None, 'meta': {'name': '43_Arya_Stark.txt'}, 'embedding': None, 'id': 'ba2a8e87ddd95e380bec55983ee7d55f'}>,\n",
            "               <Document: {'content': \"\\n====Season 7====\\nTaking the face of Walder Frey, Arya gathers the men of House Frey for a feast before killing them all with poisoned wine. Arya then journeys south, intending to travel to King's Landing to assassinate Cersei (now Queen of the Seven Kingdoms following the extinction of House Baratheon). However, Arya changes her mind after learning from Hot Pie that Jon has ousted House Bolton from Winterfell and has been crowned King in the North, and decides to return to her ancestral home. Along the way she encounters a wolf pack led by her long-lost direwolf Nymeria. Nymeria recognizes Arya, but she has grown feral and ignores Arya when she asks her to come North with her.\\nArriving at Winterfell, Arya finds that Jon has traveled to Dragonstone but is reunited with Sansa and Bran. Bran reveals his knowledge of Arya's kill list through greenseeing and presents her with a Valyrian steel dagger, which had been given to him by Littlefinger. Arya is also reunited with Brienne, who continues to serve the Starks, and manages to equal the female warrior during sparring despite her smaller size.\\nLittlefinger seeks to increase his influence on Sansa by driving a wedge between the Stark sisters. To this end, he allows Arya to witness him receiving a confidential message obtained from Maester Luwin's records. Arya breaks into Littlefinger's quarters to steal the message, which is a plea sent by Sansa following Ned's imprisonment to Robb imploring him to bend the knee to Joffrey. Outraged, Arya confronts Sansa and is unconvinced by her explanation that she did so to try and save Ned's life. Later, Arya catches Sansa looking at her collection of faces and threatens Sansa before leaving. Some time later, Sansa summons Arya to the great hall and begins an accusation of treason and murder; however, the accusation is directed towards Littlefinger, whose crimes have been discovered by Bran's greenseeing. Despite Littlefinger's pleas for mercy, Sansa sentences Littlefinger to death and Arya cuts his throat with the Valyrian steel dagger. The Stark sisters later resolve their differences, and acknowledge that the Starks must stay together to survive winter.\", 'content_type': 'text', 'score': None, 'meta': {'name': '43_Arya_Stark.txt'}, 'embedding': None, 'id': '258fc5f9015663050b4c78d5b47d14fa'}>,\n",
            "               <Document: {'content': \"\\n=== Arya Stark ===\\nArya Stark is the third child and younger daughter of Eddard and Catelyn Stark. She serves as a POV character for 33 chapters throughout ''A Game of Thrones'', ''A Clash of Kings'', ''A Storm of Swords'', ''A Feast for Crows'', and ''A Dance with Dragons''. So far she is the only character to appear in all 5 books as a POV character.\\nIn the HBO television adaptation, she is portrayed by Maisie Williams.\", 'content_type': 'text', 'score': None, 'meta': {'name': '30_List_of_A_Song_of_Ice_and_Fire_characters.txt'}, 'embedding': None, 'id': '965789c741c68963042e85b6e7b89757'}>,\n",
            "               <Document: {'content': '\\n===On the Kingsroad===\\nCity Watchmen search the caravan for Gendry but are turned away by Yoren. Gendry tells Arya Stark that he knows she is a girl, and she reveals she is actually Arya Stark after learning that her father met Gendry before he was executed.', 'content_type': 'text', 'score': None, 'meta': {'name': '224_The_Night_Lands.txt'}, 'embedding': None, 'id': 'a4d2cc51d351b785c6effddd3345bb39'}>],\n",
            " 'no_ans_gap': 15.89331305027008,\n",
            " 'node_id': 'Reader',\n",
            " 'params': {'Reader': {'top_k': 5}, 'Retriever': {'top_k': 10}},\n",
            " 'query': 'Who is the father of Arya Stark?',\n",
            " 'root_node': 'Query'}\n"
          ]
        }
      ]
    },
    {
      "cell_type": "code",
      "source": [
        "print(\"DISTILLBERT\")\n",
        "print_answers(prediction, details=\"minimum\")\n",
        "print(\"ROBERTA-SELQA\")\n",
        "print_answers(custom_prediction, details=\"minimum\")"
      ],
      "metadata": {
        "colab": {
          "base_uri": "https://localhost:8080/"
        },
        "id": "9vdrkoB1qdVG",
        "outputId": "e0b3da7a-7d42-49b9-cb67-cf50fe4cb520"
      },
      "execution_count": null,
      "outputs": [
        {
          "output_type": "stream",
          "name": "stdout",
          "text": [
            "DISTILLBERT\n",
            "\n",
            "Query: Who is the father of Arya Stark?\n",
            "Answers:\n",
            "[   {   'answer': 'Eddard',\n",
            "        'context': 's Nymeria after a legendary warrior queen. She travels '\n",
            "                   \"with her father, Eddard, to King's Landing when he is made \"\n",
            "                   'Hand of the King. Before she leaves,'},\n",
            "    {   'answer': 'Ned',\n",
            "        'context': '\\n'\n",
            "                   '====Season 1====\\n'\n",
            "                   'Arya accompanies her father Ned and her sister Sansa to '\n",
            "                   \"King's Landing. Before their departure, Arya's \"\n",
            "                   'half-brother Jon Snow gifts A'},\n",
            "    {   'answer': 'Robert Baratheon',\n",
            "        'context': 'hen Gendry gives it to Arya, he tells her he is the '\n",
            "                   'bastard son of Robert Baratheon. Aware of their chances of '\n",
            "                   'dying in the upcoming battle and Arya w'},\n",
            "    {   'answer': 'Eddard and Catelyn Stark',\n",
            "        'context': 'tark ===\\n'\n",
            "                   'Arya Stark is the third child and younger daughter of '\n",
            "                   'Eddard and Catelyn Stark. She serves as a POV character '\n",
            "                   \"for 33 chapters throughout ''A \"},\n",
            "    {   'answer': 'Lord Eddard Stark',\n",
            "        'context': 'ark daughters.\\n'\n",
            "                   'During the Tourney of the Hand to honour her father Lord '\n",
            "                   'Eddard Stark, Sansa Stark is enchanted by the knights '\n",
            "                   'performing in the event.'}]\n",
            "ROBERTA-SELQA\n",
            "\n",
            "Query: Who is the father of Arya Stark?\n",
            "Answers:\n",
            "[   {   'answer': 'During the Tourney of the Hand to honour her father Lord '\n",
            "                  'Eddard Stark, Sansa Stark is enchanted by the knights '\n",
            "                  'performing in the event.',\n",
            "        'context': 'ghters.\\n'\n",
            "                   'During the Tourney of the Hand to honour her father Lord '\n",
            "                   'Eddard Stark, Sansa Stark is enchanted by the knights '\n",
            "                   'performing in the event.  At th'},\n",
            "    {   'answer': 'Season 8====\\n'\n",
            "                  'Arya reunites with Jon, Gendry, and the Hound, who have all '\n",
            "                  \"journeyed to Winterfell with Daenerys Targaryen's forces to \"\n",
            "                  'make a stand against the approaching White Walkers. Arya '\n",
            "                  'asks Gendry, who is forging dragonglass into weapons, to '\n",
            "                  'make her a special dragonglass staff. When Gendry gives it '\n",
            "                  'to Arya, he tells her he is the bastard son of Robert '\n",
            "                  'Baratheon.',\n",
            "        'context': 'Season 8====\\n'\n",
            "                   'Arya reunites with Jon, Gendry, and the Hound, who have '\n",
            "                   \"all journeyed to Winterfell with Daenerys Targaryen's \"\n",
            "                   'forces to make a stand against the approaching White '\n",
            "                   'Walkers. Arya asks Gendry, who is forging dragonglass into '\n",
            "                   'weapons, to make her a special dragonglass staff. When '\n",
            "                   'Gendry gives it to Arya, he tells her he is the bastard '\n",
            "                   'son of Robert Baratheon.'},\n",
            "    {   'answer': '* Bran Stark, second son of Eddard Stark and Catelyn Stark '\n",
            "                  'and heir to Winterfell and the King in the North',\n",
            "        'context': 'ing and presumed dead\\n'\n",
            "                   '* Bran Stark, second son of Eddard Stark and Catelyn Stark '\n",
            "                   'and heir to Winterfell and the King in the North\\n'\n",
            "                   '* Jon Snow, bastard '},\n",
            "    {   'answer': 'Arya Stark is the third child and younger daughter of '\n",
            "                  'Eddard and Catelyn Stark.',\n",
            "        'context': '\\n'\n",
            "                   '=== Arya Stark ===\\n'\n",
            "                   'Arya Stark is the third child and younger daughter of '\n",
            "                   'Eddard and Catelyn Stark. She serves as a POV character '\n",
            "                   'for 33 chapters thro'},\n",
            "    {   'answer': 'Arya accompanies her father Ned and her sister Sansa to '\n",
            "                  \"King's Landing. Before their departure, Arya's half-brother \"\n",
            "                  'Jon Snow gifts Arya a sword which she dubs \"Needle\".',\n",
            "        'context': 'Arya accompanies her father Ned and her sister Sansa to '\n",
            "                   \"King's Landing. Before their departure, Arya's \"\n",
            "                   'half-brother Jon Snow gifts Arya a sword which she dubs '\n",
            "                   '\"Needle\".'}]\n"
          ]
        }
      ]
    }
  ]
}